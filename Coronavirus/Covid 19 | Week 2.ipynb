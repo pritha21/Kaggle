{
 "cells": [
  {
   "cell_type": "code",
   "execution_count": 1,
   "metadata": {
    "_cell_guid": "b1076dfc-b9ad-4769-8c92-a6c4dae69d19",
    "_uuid": "8f2839f25d086af736a60e9eeb907d3b93b6e0e5"
   },
   "outputs": [
    {
     "name": "stdout",
     "output_type": "stream",
     "text": [
      "/kaggle/input/training-dataset-from-covid-19-week-1-forecasting/train-3.csv\n",
      "/kaggle/input/covid19-global-forecasting-week-2/submission.csv\n",
      "/kaggle/input/covid19-global-forecasting-week-2/test.csv\n",
      "/kaggle/input/covid19-global-forecasting-week-2/train.csv\n",
      "/kaggle/input/population-by-country-2020/population_by_country_2020.csv\n"
     ]
    }
   ],
   "source": [
    "# This Python 3 environment comes with many helpful analytics libraries installed\n",
    "# It is defined by the kaggle/python docker image: https://github.com/kaggle/docker-python\n",
    "# For example, here's several helpful packages to load in \n",
    "\n",
    "import numpy as np # linear algebra\n",
    "import pandas as pd # data processing, CSV file I/O (e.g. pd.read_csv)\n",
    "\n",
    "# Input data files are available in the \"../input/\" directory.\n",
    "# For example, running this (by clicking run or pressing Shift+Enter) will list all files under the input directory\n",
    "\n",
    "import os\n",
    "for dirname, _, filenames in os.walk('/kaggle/input'):\n",
    "    for filename in filenames:\n",
    "        print(os.path.join(dirname, filename))\n",
    "\n",
    "# Any results you write to the current directory are saved as output."
   ]
  },
  {
   "cell_type": "code",
   "execution_count": 2,
   "metadata": {
    "_cell_guid": "79c7e3d0-c299-4dcb-8224-4455121ee9b0",
    "_uuid": "d629ff2d2480ee46fbb7e2d37f6b5fab8052498a"
   },
   "outputs": [],
   "source": [
    "import pandas as pd\n",
    "#import plotly.express as px\n",
    "#import matplotlib.pyplot as plt\n",
    "#import plotly.graph_objects as go\n",
    "from sklearn.model_selection import train_test_split\n",
    "from sklearn.linear_model import LinearRegression\n",
    "import numpy as np\n",
    "from sklearn.metrics import mean_squared_log_error\n",
    "from sklearn.tree import DecisionTreeRegressor\n",
    "from google.cloud import bigquery\n",
    "from scipy.spatial.distance import cdist\n",
    "from sklearn.preprocessing import LabelEncoder"
   ]
  },
  {
   "cell_type": "code",
   "execution_count": 3,
   "metadata": {},
   "outputs": [],
   "source": [
    "train_df=pd.read_csv(\"../input/covid19-global-forecasting-week-2/train.csv\")\n",
    "test_df=pd.read_csv(\"../input/covid19-global-forecasting-week-2/test.csv\")"
   ]
  },
  {
   "cell_type": "code",
   "execution_count": 4,
   "metadata": {},
   "outputs": [
    {
     "data": {
      "text/html": [
       "<div>\n",
       "<style scoped>\n",
       "    .dataframe tbody tr th:only-of-type {\n",
       "        vertical-align: middle;\n",
       "    }\n",
       "\n",
       "    .dataframe tbody tr th {\n",
       "        vertical-align: top;\n",
       "    }\n",
       "\n",
       "    .dataframe thead th {\n",
       "        text-align: right;\n",
       "    }\n",
       "</style>\n",
       "<table border=\"1\" class=\"dataframe\">\n",
       "  <thead>\n",
       "    <tr style=\"text-align: right;\">\n",
       "      <th></th>\n",
       "      <th>Id</th>\n",
       "      <th>Province_State</th>\n",
       "      <th>Country_Region</th>\n",
       "      <th>Date</th>\n",
       "      <th>ConfirmedCases</th>\n",
       "      <th>Fatalities</th>\n",
       "    </tr>\n",
       "  </thead>\n",
       "  <tbody>\n",
       "    <tr>\n",
       "      <th>0</th>\n",
       "      <td>1</td>\n",
       "      <td>NaN</td>\n",
       "      <td>Afghanistan</td>\n",
       "      <td>2020-01-22</td>\n",
       "      <td>0.0</td>\n",
       "      <td>0.0</td>\n",
       "    </tr>\n",
       "    <tr>\n",
       "      <th>1</th>\n",
       "      <td>2</td>\n",
       "      <td>NaN</td>\n",
       "      <td>Afghanistan</td>\n",
       "      <td>2020-01-23</td>\n",
       "      <td>0.0</td>\n",
       "      <td>0.0</td>\n",
       "    </tr>\n",
       "    <tr>\n",
       "      <th>2</th>\n",
       "      <td>3</td>\n",
       "      <td>NaN</td>\n",
       "      <td>Afghanistan</td>\n",
       "      <td>2020-01-24</td>\n",
       "      <td>0.0</td>\n",
       "      <td>0.0</td>\n",
       "    </tr>\n",
       "    <tr>\n",
       "      <th>3</th>\n",
       "      <td>4</td>\n",
       "      <td>NaN</td>\n",
       "      <td>Afghanistan</td>\n",
       "      <td>2020-01-25</td>\n",
       "      <td>0.0</td>\n",
       "      <td>0.0</td>\n",
       "    </tr>\n",
       "    <tr>\n",
       "      <th>4</th>\n",
       "      <td>5</td>\n",
       "      <td>NaN</td>\n",
       "      <td>Afghanistan</td>\n",
       "      <td>2020-01-26</td>\n",
       "      <td>0.0</td>\n",
       "      <td>0.0</td>\n",
       "    </tr>\n",
       "  </tbody>\n",
       "</table>\n",
       "</div>"
      ],
      "text/plain": [
       "   Id Province_State Country_Region        Date  ConfirmedCases  Fatalities\n",
       "0   1            NaN    Afghanistan  2020-01-22             0.0         0.0\n",
       "1   2            NaN    Afghanistan  2020-01-23             0.0         0.0\n",
       "2   3            NaN    Afghanistan  2020-01-24             0.0         0.0\n",
       "3   4            NaN    Afghanistan  2020-01-25             0.0         0.0\n",
       "4   5            NaN    Afghanistan  2020-01-26             0.0         0.0"
      ]
     },
     "execution_count": 4,
     "metadata": {},
     "output_type": "execute_result"
    }
   ],
   "source": [
    "train_df.head()"
   ]
  },
  {
   "cell_type": "code",
   "execution_count": 5,
   "metadata": {},
   "outputs": [
    {
     "name": "stdout",
     "output_type": "stream",
     "text": [
      "<class 'pandas.core.frame.DataFrame'>\n",
      "RangeIndex: 20580 entries, 0 to 20579\n",
      "Data columns (total 6 columns):\n",
      "Id                20580 non-null int64\n",
      "Province_State    8750 non-null object\n",
      "Country_Region    20580 non-null object\n",
      "Date              20580 non-null object\n",
      "ConfirmedCases    20580 non-null float64\n",
      "Fatalities        20580 non-null float64\n",
      "dtypes: float64(2), int64(1), object(3)\n",
      "memory usage: 964.8+ KB\n"
     ]
    }
   ],
   "source": [
    "train_df.info()"
   ]
  },
  {
   "cell_type": "code",
   "execution_count": 6,
   "metadata": {},
   "outputs": [
    {
     "data": {
      "text/html": [
       "<div>\n",
       "<style scoped>\n",
       "    .dataframe tbody tr th:only-of-type {\n",
       "        vertical-align: middle;\n",
       "    }\n",
       "\n",
       "    .dataframe tbody tr th {\n",
       "        vertical-align: top;\n",
       "    }\n",
       "\n",
       "    .dataframe thead th {\n",
       "        text-align: right;\n",
       "    }\n",
       "</style>\n",
       "<table border=\"1\" class=\"dataframe\">\n",
       "  <thead>\n",
       "    <tr style=\"text-align: right;\">\n",
       "      <th></th>\n",
       "      <th>ForecastId</th>\n",
       "      <th>Province_State</th>\n",
       "      <th>Country_Region</th>\n",
       "      <th>Date</th>\n",
       "    </tr>\n",
       "  </thead>\n",
       "  <tbody>\n",
       "    <tr>\n",
       "      <th>0</th>\n",
       "      <td>1</td>\n",
       "      <td>NaN</td>\n",
       "      <td>Afghanistan</td>\n",
       "      <td>2020-03-19</td>\n",
       "    </tr>\n",
       "    <tr>\n",
       "      <th>1</th>\n",
       "      <td>2</td>\n",
       "      <td>NaN</td>\n",
       "      <td>Afghanistan</td>\n",
       "      <td>2020-03-20</td>\n",
       "    </tr>\n",
       "    <tr>\n",
       "      <th>2</th>\n",
       "      <td>3</td>\n",
       "      <td>NaN</td>\n",
       "      <td>Afghanistan</td>\n",
       "      <td>2020-03-21</td>\n",
       "    </tr>\n",
       "    <tr>\n",
       "      <th>3</th>\n",
       "      <td>4</td>\n",
       "      <td>NaN</td>\n",
       "      <td>Afghanistan</td>\n",
       "      <td>2020-03-22</td>\n",
       "    </tr>\n",
       "    <tr>\n",
       "      <th>4</th>\n",
       "      <td>5</td>\n",
       "      <td>NaN</td>\n",
       "      <td>Afghanistan</td>\n",
       "      <td>2020-03-23</td>\n",
       "    </tr>\n",
       "  </tbody>\n",
       "</table>\n",
       "</div>"
      ],
      "text/plain": [
       "   ForecastId Province_State Country_Region        Date\n",
       "0           1            NaN    Afghanistan  2020-03-19\n",
       "1           2            NaN    Afghanistan  2020-03-20\n",
       "2           3            NaN    Afghanistan  2020-03-21\n",
       "3           4            NaN    Afghanistan  2020-03-22\n",
       "4           5            NaN    Afghanistan  2020-03-23"
      ]
     },
     "execution_count": 6,
     "metadata": {},
     "output_type": "execute_result"
    }
   ],
   "source": [
    "test_df.head()"
   ]
  },
  {
   "cell_type": "code",
   "execution_count": 7,
   "metadata": {},
   "outputs": [
    {
     "name": "stdout",
     "output_type": "stream",
     "text": [
      "Min train date:  2020-01-22\n",
      "Max train date:  2020-03-31\n",
      "Min test date:  2020-03-19\n",
      "Max test date:  2020-04-30\n"
     ]
    }
   ],
   "source": [
    "print(\"Min train date: \",train_df[\"Date\"].min())\n",
    "print(\"Max train date: \",train_df[\"Date\"].max())\n",
    "print(\"Min test date: \",test_df[\"Date\"].min())\n",
    "print(\"Max test date: \",test_df[\"Date\"].max())"
   ]
  },
  {
   "cell_type": "code",
   "execution_count": 8,
   "metadata": {},
   "outputs": [],
   "source": [
    "train_df=train_df[train_df[\"Date\"]<\"2020-03-19\"]"
   ]
  },
  {
   "cell_type": "code",
   "execution_count": 9,
   "metadata": {},
   "outputs": [
    {
     "data": {
      "text/plain": [
       "Id                   0\n",
       "Province_State    9633\n",
       "Country_Region       0\n",
       "Date                 0\n",
       "ConfirmedCases       0\n",
       "Fatalities           0\n",
       "dtype: int64"
      ]
     },
     "execution_count": 9,
     "metadata": {},
     "output_type": "execute_result"
    }
   ],
   "source": [
    "train_df.isnull().sum()"
   ]
  },
  {
   "cell_type": "code",
   "execution_count": 10,
   "metadata": {},
   "outputs": [
    {
     "data": {
      "text/plain": [
       "ForecastId           0\n",
       "Province_State    7267\n",
       "Country_Region       0\n",
       "Date                 0\n",
       "dtype: int64"
      ]
     },
     "execution_count": 10,
     "metadata": {},
     "output_type": "execute_result"
    }
   ],
   "source": [
    "test_df.isnull().sum()"
   ]
  },
  {
   "cell_type": "code",
   "execution_count": 11,
   "metadata": {},
   "outputs": [],
   "source": [
    "pop_info = pd.read_csv(\"../input/population-by-country-2020/population_by_country_2020.csv\")"
   ]
  },
  {
   "cell_type": "code",
   "execution_count": 12,
   "metadata": {},
   "outputs": [],
   "source": [
    "pop_info.rename(columns={'Density (P/Km²)': 'Density'}, inplace=True)"
   ]
  },
  {
   "cell_type": "code",
   "execution_count": 13,
   "metadata": {},
   "outputs": [
    {
     "data": {
      "text/plain": [
       "Index(['Country (or dependency)', 'Population (2020)', 'Yearly Change',\n",
       "       'Net Change', 'Density', 'Land Area (Km²)', 'Migrants (net)',\n",
       "       'Fert. Rate', 'Med. Age', 'Urban Pop %', 'World Share'],\n",
       "      dtype='object')"
      ]
     },
     "execution_count": 13,
     "metadata": {},
     "output_type": "execute_result"
    }
   ],
   "source": [
    "pop_info.columns"
   ]
  },
  {
   "cell_type": "code",
   "execution_count": 14,
   "metadata": {},
   "outputs": [],
   "source": [
    "country_lookup=pop_info[[\"Country (or dependency)\",\"Population (2020)\",\"Density\"]]"
   ]
  },
  {
   "cell_type": "code",
   "execution_count": 15,
   "metadata": {},
   "outputs": [],
   "source": [
    "pd.DataFrame.from_dict(country_lookup)\n",
    "train_df_pop=pd.merge(train_df, country_lookup, how='left', left_on='Country_Region', right_on='Country (or dependency)')"
   ]
  },
  {
   "cell_type": "code",
   "execution_count": 16,
   "metadata": {},
   "outputs": [
    {
     "name": "stdout",
     "output_type": "stream",
     "text": [
      "<class 'pandas.core.frame.DataFrame'>\n",
      "Int64Index: 16758 entries, 0 to 16757\n",
      "Data columns (total 9 columns):\n",
      "Id                         16758 non-null int64\n",
      "Province_State             7125 non-null object\n",
      "Country_Region             16758 non-null object\n",
      "Date                       16758 non-null object\n",
      "ConfirmedCases             16758 non-null float64\n",
      "Fatalities                 16758 non-null float64\n",
      "Country (or dependency)    13167 non-null object\n",
      "Population (2020)          13167 non-null float64\n",
      "Density                    13167 non-null float64\n",
      "dtypes: float64(4), int64(1), object(4)\n",
      "memory usage: 1.3+ MB\n"
     ]
    }
   ],
   "source": [
    "train_df_pop.info()"
   ]
  },
  {
   "cell_type": "code",
   "execution_count": 17,
   "metadata": {},
   "outputs": [],
   "source": [
    "train_df_pop.loc[train_df_pop[\"Country_Region\"]==\"US\", [\"Population (2020)\"]]=331002651 #United Sates\n",
    "train_df_pop.loc[train_df_pop[\"Country_Region\"]==\"US\", [\"Density\"]]=36\n",
    "train_df_pop.loc[train_df_pop[\"Country_Region\"]==\"Korea, South\", [\"Population (2020)\"]]=51269185 #South Korea\n",
    "train_df_pop.loc[train_df_pop[\"Country_Region\"]==\"Korea, South\", [\"Density\"]]=527\n",
    "train_df_pop.loc[train_df_pop[\"Country_Region\"]==\"Czechia\", [\"Population (2020)\"]]=10708981 #Czech Republic\n",
    "train_df_pop.loc[train_df_pop[\"Country_Region\"]==\"Czechia\", [\"Density\"]]=139\n",
    "train_df_pop.loc[train_df_pop[\"Country_Region\"]==\"Taiwan*\", [\"Population (2020)\"]]=23816775 #Taiwan\n",
    "train_df_pop.loc[train_df_pop[\"Country_Region\"]==\"Taiwan*\", [\"Density\"]]=673\n",
    "train_df_pop.loc[train_df_pop[\"Country_Region\"]==\"Congo (Kinshasa)\", [\"Population (2020)\"]]=89561403 #DR Congo\n",
    "train_df_pop.loc[train_df_pop[\"Country_Region\"]==\"Congo (Kinshasa)\", [\"Density\"]]=40\n",
    "train_df_pop.loc[train_df_pop[\"Country_Region\"]==\"Congo (Brazzaville)\", [\"Population (2020)\"]]=5518087 #Congo\n",
    "train_df_pop.loc[train_df_pop[\"Country_Region\"]==\"Congo (Brazzaville)\", [\"Density\"]]=16\n",
    "train_df_pop.loc[train_df_pop[\"Country_Region\"]==\"Cote d'Ivoire\", [\"Population (2020)\"]]=26378274 #CÃ´te d'Ivoire\n",
    "train_df_pop.loc[train_df_pop[\"Country_Region\"]==\"Cote d'Ivoire\", [\"Density\"]]=83\n",
    "train_df_pop.loc[train_df_pop[\"Country_Region\"]==\"Saint Kitts and Nevis\", [\"Population (2020)\"]]=53199 #Saint Kitts & Nevis\n",
    "train_df_pop.loc[train_df_pop[\"Country_Region\"]==\"Saint Kitts and Nevis\", [\"Density\"]]=205\n",
    "train_df_pop.loc[train_df_pop[\"Country_Region\"]==\"Saint Vincent and the Grenadines\", [\"Population (2020)\"]]=110940 #St. Vincent & Grenadines\n",
    "train_df_pop.loc[train_df_pop[\"Country_Region\"]==\"Saint Vincent and the Grenadines\", [\"Density\"]]=284\n",
    "train_df_pop.loc[train_df_pop[\"Country_Region\"]==\"Diamond Princess\", [\"Population (2020)\"]]=3770 #Population and density are same since it is a cruise ship\n",
    "train_df_pop.loc[train_df_pop[\"Country_Region\"]==\"Diamond Princess\", [\"Density\"]]=3770"
   ]
  },
  {
   "cell_type": "code",
   "execution_count": 18,
   "metadata": {},
   "outputs": [],
   "source": [
    "test_df_pop=pd.merge(test_df, country_lookup, how='left', left_on='Country_Region', right_on='Country (or dependency)')"
   ]
  },
  {
   "cell_type": "code",
   "execution_count": 19,
   "metadata": {},
   "outputs": [
    {
     "name": "stdout",
     "output_type": "stream",
     "text": [
      "<class 'pandas.core.frame.DataFrame'>\n",
      "Int64Index: 12642 entries, 0 to 12641\n",
      "Data columns (total 7 columns):\n",
      "ForecastId                 12642 non-null int64\n",
      "Province_State             5375 non-null object\n",
      "Country_Region             12642 non-null object\n",
      "Date                       12642 non-null object\n",
      "Country (or dependency)    9933 non-null object\n",
      "Population (2020)          9933 non-null float64\n",
      "Density                    9933 non-null float64\n",
      "dtypes: float64(2), int64(1), object(4)\n",
      "memory usage: 790.1+ KB\n"
     ]
    }
   ],
   "source": [
    "test_df_pop.info()"
   ]
  },
  {
   "cell_type": "code",
   "execution_count": 20,
   "metadata": {},
   "outputs": [],
   "source": [
    "test_df_pop.loc[test_df_pop[\"Country_Region\"]==\"US\", [\"Population (2020)\"]]=331002651 #United Sates\n",
    "test_df_pop.loc[test_df_pop[\"Country_Region\"]==\"US\", [\"Density\"]]=36\n",
    "test_df_pop.loc[test_df_pop[\"Country_Region\"]==\"Korea, South\", [\"Population (2020)\"]]=51269185 #South Korea\n",
    "test_df_pop.loc[test_df_pop[\"Country_Region\"]==\"Korea, South\", [\"Density\"]]=527\n",
    "test_df_pop.loc[test_df_pop[\"Country_Region\"]==\"Czechia\", [\"Population (2020)\"]]=10708981 #Czech Republic\n",
    "test_df_pop.loc[test_df_pop[\"Country_Region\"]==\"Czechia\", [\"Density\"]]=139\n",
    "test_df_pop.loc[test_df_pop[\"Country_Region\"]==\"Taiwan*\", [\"Population (2020)\"]]=23816775 #Taiwan\n",
    "test_df_pop.loc[test_df_pop[\"Country_Region\"]==\"Taiwan*\", [\"Density\"]]=673\n",
    "test_df_pop.loc[test_df_pop[\"Country_Region\"]==\"Congo (Kinshasa)\", [\"Population (2020)\"]]=89561403 #DR Congo\n",
    "test_df_pop.loc[test_df_pop[\"Country_Region\"]==\"Congo (Kinshasa)\", [\"Density\"]]=40\n",
    "test_df_pop.loc[test_df_pop[\"Country_Region\"]==\"Congo (Brazzaville)\", [\"Population (2020)\"]]=5518087 #Congo\n",
    "test_df_pop.loc[test_df_pop[\"Country_Region\"]==\"Congo (Brazzaville)\", [\"Density\"]]=16\n",
    "test_df_pop.loc[test_df_pop[\"Country_Region\"]==\"Cote d'Ivoire\", [\"Population (2020)\"]]=26378274 #CÃ´te d'Ivoire\n",
    "test_df_pop.loc[test_df_pop[\"Country_Region\"]==\"Cote d'Ivoire\", [\"Density\"]]=83\n",
    "test_df_pop.loc[test_df_pop[\"Country_Region\"]==\"Saint Kitts and Nevis\", [\"Population (2020)\"]]=53199 #Saint Kitts & Nevis\n",
    "test_df_pop.loc[test_df_pop[\"Country_Region\"]==\"Saint Kitts and Nevis\", [\"Density\"]]=205\n",
    "test_df_pop.loc[test_df_pop[\"Country_Region\"]==\"Saint Vincent and the Grenadines\", [\"Population (2020)\"]]=110940 #St. Vincent & Grenadines\n",
    "test_df_pop.loc[test_df_pop[\"Country_Region\"]==\"Saint Vincent and the Grenadines\", [\"Density\"]]=284\n",
    "test_df_pop.loc[test_df_pop[\"Country_Region\"]==\"Diamond Princess\", [\"Population (2020)\"]]=3770 #Population and density are same since it is a cruise ship\n",
    "test_df_pop.loc[test_df_pop[\"Country_Region\"]==\"Diamond Princess\", [\"Density\"]]=3770"
   ]
  },
  {
   "cell_type": "code",
   "execution_count": 21,
   "metadata": {},
   "outputs": [],
   "source": [
    "train_df_pop.drop(\"Country (or dependency)\", axis=1, inplace=True)"
   ]
  },
  {
   "cell_type": "code",
   "execution_count": 22,
   "metadata": {},
   "outputs": [],
   "source": [
    "test_df_pop.drop(\"Country (or dependency)\", axis=1, inplace=True)"
   ]
  },
  {
   "cell_type": "code",
   "execution_count": 23,
   "metadata": {},
   "outputs": [],
   "source": [
    "%load_ext google.cloud.bigquery"
   ]
  },
  {
   "cell_type": "code",
   "execution_count": 24,
   "metadata": {},
   "outputs": [
    {
     "name": "stdout",
     "output_type": "stream",
     "text": [
      "Using Kaggle's public dataset BigQuery integration.\n",
      "CPU times: user 2min 26s, sys: 5.61 s, total: 2min 31s\n",
      "Wall time: 6min\n"
     ]
    }
   ],
   "source": [
    "%%time\n",
    "client = bigquery.Client()\n",
    "dataset_ref = client.dataset(\"noaa_gsod\", project=\"bigquery-public-data\")\n",
    "dataset = client.get_dataset(dataset_ref)\n",
    "\n",
    "tables = list(client.list_tables(dataset))\n",
    "\n",
    "table_ref = dataset_ref.table(\"stations\")\n",
    "table = client.get_table(table_ref)\n",
    "stations_df = client.list_rows(table).to_dataframe()\n",
    "\n",
    "table_ref = dataset_ref.table(\"gsod2020\")\n",
    "table = client.get_table(table_ref)\n",
    "twenty_twenty_df = client.list_rows(table).to_dataframe()\n",
    "\n",
    "stations_df['STN'] = stations_df['usaf'] + '-' + stations_df['wban']\n",
    "twenty_twenty_df['STN'] = twenty_twenty_df['stn'] + '-' + twenty_twenty_df['wban']\n",
    "\n",
    "cols_1 = ['STN', 'mo', 'da', 'temp', 'min', 'max', 'stp', 'wdsp', 'prcp', 'fog']\n",
    "cols_2 = ['STN', 'country', 'state', 'call', 'lat', 'lon', 'elev']\n",
    "weather_df = twenty_twenty_df[cols_1].join(stations_df[cols_2].set_index('STN'), on='STN')\n",
    "\n"
   ]
  },
  {
   "cell_type": "code",
   "execution_count": 25,
   "metadata": {},
   "outputs": [],
   "source": [
    "weather_df[\"da\"]=weather_df[\"da\"].astype(int)"
   ]
  },
  {
   "cell_type": "code",
   "execution_count": 26,
   "metadata": {},
   "outputs": [],
   "source": [
    "weather_df['day_from_jan_first'] = weather_df[\"da\"] + 31*(weather_df[\"mo\"]=='02') + 60*(weather_df[\"mo\"]=='03') + 91*(weather_df[\"mo\"]=='04')  \n",
    "                              "
   ]
  },
  {
   "cell_type": "code",
   "execution_count": 27,
   "metadata": {},
   "outputs": [],
   "source": [
    "train_wk1=pd.read_csv(\"../input/training-dataset-from-covid-19-week-1-forecasting/train-3.csv\")\n"
   ]
  },
  {
   "cell_type": "code",
   "execution_count": 28,
   "metadata": {},
   "outputs": [],
   "source": [
    "train_wk1['country+province'] = train_wk1['Country/Region'].fillna('') + '-' + train_wk1['Province/State'].fillna('')\n",
    "train_df_pop['country+province'] = train_df_pop['Country_Region'].fillna('') + '-' + train_df_pop['Province_State'].fillna('')\n",
    "test_df_pop['country+province'] = test_df_pop['Country_Region'].fillna('') + '-' + test_df_pop['Province_State'].fillna('')"
   ]
  },
  {
   "cell_type": "markdown",
   "metadata": {},
   "source": [
    "Below code to join with weather data has been incorporated from this link\n",
    "https://www.kaggle.com/davidbnn92/weather-data "
   ]
  },
  {
   "cell_type": "code",
   "execution_count": 29,
   "metadata": {},
   "outputs": [],
   "source": [
    "df = train_wk1.groupby('country+province')[['Lat', 'Long']].mean()"
   ]
  },
  {
   "cell_type": "code",
   "execution_count": 30,
   "metadata": {},
   "outputs": [],
   "source": [
    "df.loc['United Kingdom-'] = df.loc['United Kingdom-United Kingdom']\n",
    "df.loc['Diamond Princess-'] = df.loc['Cruise Ship-Diamond Princess']\n",
    "df.loc['Denmark-'] = df.loc['Denmark-Denmark']\n",
    "df.loc['France-'] = df.loc['France-France']\n",
    "df.loc['Gambia-'] = df.loc['Gambia, The-']\n",
    "df.loc['Netherlands-'] = df.loc['Netherlands-Netherlands']\n",
    "df.loc['Dominica-'] = (15.3, -61.383333)\n",
    "df.loc['Angola-'] = (-8.830833, 13.245)\n",
    "df.loc['Bahamas-'] = (25.066667, -77.333333)\n",
    "df.loc['Belize-'] = (17.498611, -88.188611)\n",
    "df.loc['Cabo Verde-'] = (14.916667, -23.516667)\n",
    "df.loc['Chad-'] = (12.134722, 15.055833)\n",
    "df.loc['Denmark-Greenland'] = (64.181389, -51.694167)\n",
    "df.loc['El Salvador-'] = (13.698889, -89.191389)\n",
    "df.loc['Eritrea-'] = (15.322778, 38.925)\n",
    "df.loc['Fiji-'] = (-18.166667, 178.45)\n",
    "df.loc['France-Martinique'] = (14.666667, -61)\n",
    "df.loc['France-New Caledonia'] = (-22.2758, 166.458)\n",
    "df.loc['Grenada-'] = (12.05, -61.75)\n",
    "df.loc['Guinea-Bissau-'] = (11.85, -15.566667)\n",
    "df.loc['Haiti-'] = (18.533333, -72.333333)\n",
    "df.loc['Laos-'] = (17.966667, 102.6)\n",
    "df.loc['Libya-'] = (32.887222, 13.191389)\n",
    "df.loc['Madagascar-'] = (-18.933333, 47.516667)\n",
    "df.loc['Mali-'] = (12.639167, -8.002778)\n",
    "df.loc['Mozambique-'] = (-25.966667, 32.583333)\n",
    "df.loc['Netherlands-Sint Maarten'] = (18.052778, -63.0425)\n",
    "df.loc['Nicaragua-'] = (12.136389, -86.251389)\n",
    "df.loc['Niger-'] = (13.511667, 2.125278)\n",
    "df.loc['Papua New Guinea-'] = (-9.478889, 147.149444)\n",
    "df.loc['Saint Kitts and Nevis-'] = (17.3, -62.733333)\n",
    "df.loc['Syria-'] = (33.513056, 36.291944)\n",
    "df.loc['Timor-Leste-'] = (-8.566667, 125.566667)\n",
    "df.loc['Uganda-'] = (0.313611, 32.581111)\n",
    "df.loc['Zimbabwe-'] = (-17.829167, 31.052222)\n",
    "df.loc['United Kingdom-Bermuda'] = (32.293, -64.782)\n",
    "df.loc['United Kingdom-Isle of Man'] = (54.145, -4.482)"
   ]
  },
  {
   "cell_type": "code",
   "execution_count": 31,
   "metadata": {},
   "outputs": [],
   "source": [
    "train_df_pop['Lat'] = train_df_pop['country+province'].apply(lambda x: df.loc[x, 'Lat'])\n",
    "train_df_pop['Long'] = train_df_pop['country+province'].apply(lambda x: df.loc[x, 'Long'])\n",
    "test_df_pop['Lat'] = test_df_pop['country+province'].apply(lambda x: df.loc[x, 'Lat'])\n",
    "test_df_pop['Long'] = test_df_pop['country+province'].apply(lambda x: df.loc[x, 'Long'])\n",
    "mo = train_df_pop['Date'].apply(lambda x: x[5:7])\n",
    "da = train_df_pop['Date'].apply(lambda x: x[8:10])\n",
    "mo_test = test_df_pop['Date'].apply(lambda x: x[5:7])\n",
    "da_test = test_df_pop['Date'].apply(lambda x: x[8:10])\n",
    "train_df_pop['day_from_jan_first'] = (da.apply(int)\n",
    "                               + 31*(mo=='02') \n",
    "                               + 60*(mo=='03')\n",
    "                               + 91*(mo=='04')  \n",
    "                              )\n",
    "test_df_pop['day_from_jan_first'] = (da_test.apply(int)\n",
    "                               + 31*(mo_test=='02') \n",
    "                               + 60*(mo_test=='03')\n",
    "                               + 91*(mo_test=='04')  \n",
    "                              )"
   ]
  },
  {
   "cell_type": "code",
   "execution_count": 32,
   "metadata": {},
   "outputs": [],
   "source": [
    "C = []\n",
    "for j in train_df_pop.index:\n",
    "    df_train = train_df_pop.iloc[j:(j+1)]\n",
    "    mat = cdist(df_train[['Lat','Long', 'day_from_jan_first']],\n",
    "                weather_df[['lat','lon', 'day_from_jan_first']], \n",
    "                metric='euclidean')\n",
    "    new_df = pd.DataFrame(mat, index=df_train.Id, columns=weather_df.index)\n",
    "    arr = new_df.values\n",
    "    new_close = np.where(arr == np.nanmin(arr, axis=1)[:,None],new_df.columns,False)\n",
    "    L = [i[i.astype(bool)].tolist()[0] for i in new_close]\n",
    "    C.append(L[0])\n",
    "    \n",
    "train_df_pop['closest_station'] = C\n",
    "train_df_pop= train_df_pop.set_index('closest_station').join(weather_df[['temp', 'min', 'max', 'stp', 'wdsp', 'prcp', 'fog']], ).reset_index().drop(['index'], axis=1)\n",
    "train_df_pop.sort_values(by=['Id'], inplace=True)\n",
    "train_df_pop.index = train_df_pop['Id'].apply(lambda x: x-1)"
   ]
  },
  {
   "cell_type": "code",
   "execution_count": 33,
   "metadata": {},
   "outputs": [],
   "source": [
    "D=[]\n",
    "\n",
    "for j in test_df_pop.index:\n",
    "    df_test = test_df_pop.iloc[j:(j+1)]\n",
    "    mat_test = cdist(df_test[['Lat','Long', 'day_from_jan_first']],\n",
    "                weather_df[['lat','lon', 'day_from_jan_first']], \n",
    "                metric='euclidean')\n",
    "    new_df_test = pd.DataFrame(mat_test, index=df_test.ForecastId, columns=weather_df.index)\n",
    "    arr_test = new_df_test.values\n",
    "    new_close_test = np.where(arr_test == np.nanmin(arr_test, axis=1)[:,None],new_df_test.columns,False)\n",
    "    L_test = [i[i.astype(bool)].tolist()[0] for i in new_close_test]\n",
    "    D.append(L_test[0])\n",
    "    \n",
    "test_df_pop['closest_station'] = D\n",
    "test_df_pop= test_df_pop.set_index('closest_station').join(weather_df[['temp', 'min', 'max', 'stp', 'wdsp', 'prcp', 'fog']], ).reset_index().drop(['index'], axis=1)\n",
    "test_df_pop.sort_values(by=['ForecastId'], inplace=True)\n",
    "test_df_pop.index = test_df_pop['ForecastId'].apply(lambda x: x-1)"
   ]
  },
  {
   "cell_type": "code",
   "execution_count": 34,
   "metadata": {},
   "outputs": [],
   "source": [
    "train_df_pop.reset_index(drop=True, inplace=True)"
   ]
  },
  {
   "cell_type": "code",
   "execution_count": 35,
   "metadata": {},
   "outputs": [],
   "source": [
    "train_df_pop[\"Id\"]=train_df_pop.index"
   ]
  },
  {
   "cell_type": "code",
   "execution_count": 36,
   "metadata": {},
   "outputs": [
    {
     "data": {
      "text/plain": [
       "Id                       0\n",
       "Province_State        9633\n",
       "Country_Region           0\n",
       "Date                     0\n",
       "ConfirmedCases           0\n",
       "Fatalities               0\n",
       "Population (2020)        0\n",
       "Density                  0\n",
       "country+province         0\n",
       "Lat                      0\n",
       "Long                     0\n",
       "day_from_jan_first       0\n",
       "temp                     0\n",
       "min                      0\n",
       "max                      0\n",
       "stp                      0\n",
       "wdsp                     0\n",
       "prcp                     0\n",
       "fog                      0\n",
       "dtype: int64"
      ]
     },
     "execution_count": 36,
     "metadata": {},
     "output_type": "execute_result"
    }
   ],
   "source": [
    "train_df_pop.isnull().sum()"
   ]
  },
  {
   "cell_type": "code",
   "execution_count": 37,
   "metadata": {},
   "outputs": [],
   "source": [
    "labelencoder = LabelEncoder()"
   ]
  },
  {
   "cell_type": "code",
   "execution_count": 38,
   "metadata": {},
   "outputs": [],
   "source": [
    "train_df_pop['Country_Region_Types'] = labelencoder.fit_transform(train_df_pop['Country_Region'])"
   ]
  },
  {
   "cell_type": "code",
   "execution_count": 39,
   "metadata": {},
   "outputs": [],
   "source": [
    "test_df_pop['Country_Region_Types'] = labelencoder.fit_transform(test_df_pop['Country_Region'])"
   ]
  },
  {
   "cell_type": "code",
   "execution_count": 40,
   "metadata": {},
   "outputs": [
    {
     "data": {
      "text/html": [
       "<div>\n",
       "<style scoped>\n",
       "    .dataframe tbody tr th:only-of-type {\n",
       "        vertical-align: middle;\n",
       "    }\n",
       "\n",
       "    .dataframe tbody tr th {\n",
       "        vertical-align: top;\n",
       "    }\n",
       "\n",
       "    .dataframe thead th {\n",
       "        text-align: right;\n",
       "    }\n",
       "</style>\n",
       "<table border=\"1\" class=\"dataframe\">\n",
       "  <thead>\n",
       "    <tr style=\"text-align: right;\">\n",
       "      <th></th>\n",
       "      <th>Id</th>\n",
       "      <th>Province_State</th>\n",
       "      <th>Country_Region</th>\n",
       "      <th>Date</th>\n",
       "      <th>ConfirmedCases</th>\n",
       "      <th>Fatalities</th>\n",
       "      <th>Population (2020)</th>\n",
       "      <th>Density</th>\n",
       "      <th>country+province</th>\n",
       "      <th>Lat</th>\n",
       "      <th>Long</th>\n",
       "      <th>day_from_jan_first</th>\n",
       "      <th>temp</th>\n",
       "      <th>min</th>\n",
       "      <th>max</th>\n",
       "      <th>stp</th>\n",
       "      <th>wdsp</th>\n",
       "      <th>prcp</th>\n",
       "      <th>fog</th>\n",
       "      <th>Country_Region_Types</th>\n",
       "    </tr>\n",
       "  </thead>\n",
       "  <tbody>\n",
       "    <tr>\n",
       "      <th>0</th>\n",
       "      <td>0</td>\n",
       "      <td>NaN</td>\n",
       "      <td>Afghanistan</td>\n",
       "      <td>2020-01-22</td>\n",
       "      <td>0.0</td>\n",
       "      <td>0.0</td>\n",
       "      <td>38928346.0</td>\n",
       "      <td>60.0</td>\n",
       "      <td>Afghanistan-</td>\n",
       "      <td>33.0</td>\n",
       "      <td>65.0</td>\n",
       "      <td>22</td>\n",
       "      <td>42.6</td>\n",
       "      <td>33.6</td>\n",
       "      <td>54.9</td>\n",
       "      <td>999.9</td>\n",
       "      <td>9.4</td>\n",
       "      <td>0.00</td>\n",
       "      <td>0</td>\n",
       "      <td>0</td>\n",
       "    </tr>\n",
       "    <tr>\n",
       "      <th>1</th>\n",
       "      <td>1</td>\n",
       "      <td>NaN</td>\n",
       "      <td>Afghanistan</td>\n",
       "      <td>2020-01-23</td>\n",
       "      <td>0.0</td>\n",
       "      <td>0.0</td>\n",
       "      <td>38928346.0</td>\n",
       "      <td>60.0</td>\n",
       "      <td>Afghanistan-</td>\n",
       "      <td>33.0</td>\n",
       "      <td>65.0</td>\n",
       "      <td>23</td>\n",
       "      <td>42.0</td>\n",
       "      <td>32.7</td>\n",
       "      <td>55.9</td>\n",
       "      <td>999.9</td>\n",
       "      <td>14.9</td>\n",
       "      <td>99.99</td>\n",
       "      <td>1</td>\n",
       "      <td>0</td>\n",
       "    </tr>\n",
       "    <tr>\n",
       "      <th>2</th>\n",
       "      <td>2</td>\n",
       "      <td>NaN</td>\n",
       "      <td>Afghanistan</td>\n",
       "      <td>2020-01-24</td>\n",
       "      <td>0.0</td>\n",
       "      <td>0.0</td>\n",
       "      <td>38928346.0</td>\n",
       "      <td>60.0</td>\n",
       "      <td>Afghanistan-</td>\n",
       "      <td>33.0</td>\n",
       "      <td>65.0</td>\n",
       "      <td>24</td>\n",
       "      <td>40.1</td>\n",
       "      <td>36.9</td>\n",
       "      <td>43.2</td>\n",
       "      <td>999.9</td>\n",
       "      <td>10.4</td>\n",
       "      <td>0.17</td>\n",
       "      <td>1</td>\n",
       "      <td>0</td>\n",
       "    </tr>\n",
       "    <tr>\n",
       "      <th>3</th>\n",
       "      <td>3</td>\n",
       "      <td>NaN</td>\n",
       "      <td>Afghanistan</td>\n",
       "      <td>2020-01-25</td>\n",
       "      <td>0.0</td>\n",
       "      <td>0.0</td>\n",
       "      <td>38928346.0</td>\n",
       "      <td>60.0</td>\n",
       "      <td>Afghanistan-</td>\n",
       "      <td>33.0</td>\n",
       "      <td>65.0</td>\n",
       "      <td>25</td>\n",
       "      <td>46.0</td>\n",
       "      <td>37.9</td>\n",
       "      <td>56.3</td>\n",
       "      <td>999.9</td>\n",
       "      <td>6.1</td>\n",
       "      <td>0.57</td>\n",
       "      <td>1</td>\n",
       "      <td>0</td>\n",
       "    </tr>\n",
       "    <tr>\n",
       "      <th>4</th>\n",
       "      <td>4</td>\n",
       "      <td>NaN</td>\n",
       "      <td>Afghanistan</td>\n",
       "      <td>2020-01-26</td>\n",
       "      <td>0.0</td>\n",
       "      <td>0.0</td>\n",
       "      <td>38928346.0</td>\n",
       "      <td>60.0</td>\n",
       "      <td>Afghanistan-</td>\n",
       "      <td>33.0</td>\n",
       "      <td>65.0</td>\n",
       "      <td>26</td>\n",
       "      <td>42.8</td>\n",
       "      <td>36.1</td>\n",
       "      <td>53.1</td>\n",
       "      <td>999.9</td>\n",
       "      <td>10.8</td>\n",
       "      <td>0.00</td>\n",
       "      <td>1</td>\n",
       "      <td>0</td>\n",
       "    </tr>\n",
       "  </tbody>\n",
       "</table>\n",
       "</div>"
      ],
      "text/plain": [
       "   Id Province_State Country_Region        Date  ConfirmedCases  Fatalities  \\\n",
       "0   0            NaN    Afghanistan  2020-01-22             0.0         0.0   \n",
       "1   1            NaN    Afghanistan  2020-01-23             0.0         0.0   \n",
       "2   2            NaN    Afghanistan  2020-01-24             0.0         0.0   \n",
       "3   3            NaN    Afghanistan  2020-01-25             0.0         0.0   \n",
       "4   4            NaN    Afghanistan  2020-01-26             0.0         0.0   \n",
       "\n",
       "   Population (2020)  Density country+province   Lat  Long  \\\n",
       "0         38928346.0     60.0     Afghanistan-  33.0  65.0   \n",
       "1         38928346.0     60.0     Afghanistan-  33.0  65.0   \n",
       "2         38928346.0     60.0     Afghanistan-  33.0  65.0   \n",
       "3         38928346.0     60.0     Afghanistan-  33.0  65.0   \n",
       "4         38928346.0     60.0     Afghanistan-  33.0  65.0   \n",
       "\n",
       "   day_from_jan_first  temp   min   max    stp  wdsp   prcp fog  \\\n",
       "0                  22  42.6  33.6  54.9  999.9   9.4   0.00   0   \n",
       "1                  23  42.0  32.7  55.9  999.9  14.9  99.99   1   \n",
       "2                  24  40.1  36.9  43.2  999.9  10.4   0.17   1   \n",
       "3                  25  46.0  37.9  56.3  999.9   6.1   0.57   1   \n",
       "4                  26  42.8  36.1  53.1  999.9  10.8   0.00   1   \n",
       "\n",
       "   Country_Region_Types  \n",
       "0                     0  \n",
       "1                     0  \n",
       "2                     0  \n",
       "3                     0  \n",
       "4                     0  "
      ]
     },
     "execution_count": 40,
     "metadata": {},
     "output_type": "execute_result"
    }
   ],
   "source": [
    "train_df_pop.head()"
   ]
  },
  {
   "cell_type": "code",
   "execution_count": 41,
   "metadata": {},
   "outputs": [
    {
     "data": {
      "text/html": [
       "<div>\n",
       "<style scoped>\n",
       "    .dataframe tbody tr th:only-of-type {\n",
       "        vertical-align: middle;\n",
       "    }\n",
       "\n",
       "    .dataframe tbody tr th {\n",
       "        vertical-align: top;\n",
       "    }\n",
       "\n",
       "    .dataframe thead th {\n",
       "        text-align: right;\n",
       "    }\n",
       "</style>\n",
       "<table border=\"1\" class=\"dataframe\">\n",
       "  <thead>\n",
       "    <tr style=\"text-align: right;\">\n",
       "      <th></th>\n",
       "      <th>ForecastId</th>\n",
       "      <th>Province_State</th>\n",
       "      <th>Country_Region</th>\n",
       "      <th>Date</th>\n",
       "      <th>Population (2020)</th>\n",
       "      <th>Density</th>\n",
       "      <th>country+province</th>\n",
       "      <th>Lat</th>\n",
       "      <th>Long</th>\n",
       "      <th>day_from_jan_first</th>\n",
       "      <th>temp</th>\n",
       "      <th>min</th>\n",
       "      <th>max</th>\n",
       "      <th>stp</th>\n",
       "      <th>wdsp</th>\n",
       "      <th>prcp</th>\n",
       "      <th>fog</th>\n",
       "      <th>Country_Region_Types</th>\n",
       "    </tr>\n",
       "    <tr>\n",
       "      <th>ForecastId</th>\n",
       "      <th></th>\n",
       "      <th></th>\n",
       "      <th></th>\n",
       "      <th></th>\n",
       "      <th></th>\n",
       "      <th></th>\n",
       "      <th></th>\n",
       "      <th></th>\n",
       "      <th></th>\n",
       "      <th></th>\n",
       "      <th></th>\n",
       "      <th></th>\n",
       "      <th></th>\n",
       "      <th></th>\n",
       "      <th></th>\n",
       "      <th></th>\n",
       "      <th></th>\n",
       "      <th></th>\n",
       "    </tr>\n",
       "  </thead>\n",
       "  <tbody>\n",
       "    <tr>\n",
       "      <th>0</th>\n",
       "      <td>1</td>\n",
       "      <td>NaN</td>\n",
       "      <td>Afghanistan</td>\n",
       "      <td>2020-03-19</td>\n",
       "      <td>38928346.0</td>\n",
       "      <td>60.0</td>\n",
       "      <td>Afghanistan-</td>\n",
       "      <td>33.0</td>\n",
       "      <td>65.0</td>\n",
       "      <td>79</td>\n",
       "      <td>45.2</td>\n",
       "      <td>32.0</td>\n",
       "      <td>59.7</td>\n",
       "      <td>775.3</td>\n",
       "      <td>5.3</td>\n",
       "      <td>0.31</td>\n",
       "      <td>1</td>\n",
       "      <td>0</td>\n",
       "    </tr>\n",
       "    <tr>\n",
       "      <th>1</th>\n",
       "      <td>2</td>\n",
       "      <td>NaN</td>\n",
       "      <td>Afghanistan</td>\n",
       "      <td>2020-03-20</td>\n",
       "      <td>38928346.0</td>\n",
       "      <td>60.0</td>\n",
       "      <td>Afghanistan-</td>\n",
       "      <td>33.0</td>\n",
       "      <td>65.0</td>\n",
       "      <td>80</td>\n",
       "      <td>39.4</td>\n",
       "      <td>32.7</td>\n",
       "      <td>43.5</td>\n",
       "      <td>773.2</td>\n",
       "      <td>4.8</td>\n",
       "      <td>1.22</td>\n",
       "      <td>1</td>\n",
       "      <td>0</td>\n",
       "    </tr>\n",
       "    <tr>\n",
       "      <th>2</th>\n",
       "      <td>3</td>\n",
       "      <td>NaN</td>\n",
       "      <td>Afghanistan</td>\n",
       "      <td>2020-03-21</td>\n",
       "      <td>38928346.0</td>\n",
       "      <td>60.0</td>\n",
       "      <td>Afghanistan-</td>\n",
       "      <td>33.0</td>\n",
       "      <td>65.0</td>\n",
       "      <td>81</td>\n",
       "      <td>42.4</td>\n",
       "      <td>34.7</td>\n",
       "      <td>54.3</td>\n",
       "      <td>776.3</td>\n",
       "      <td>2.7</td>\n",
       "      <td>2.20</td>\n",
       "      <td>1</td>\n",
       "      <td>0</td>\n",
       "    </tr>\n",
       "    <tr>\n",
       "      <th>3</th>\n",
       "      <td>4</td>\n",
       "      <td>NaN</td>\n",
       "      <td>Afghanistan</td>\n",
       "      <td>2020-03-22</td>\n",
       "      <td>38928346.0</td>\n",
       "      <td>60.0</td>\n",
       "      <td>Afghanistan-</td>\n",
       "      <td>33.0</td>\n",
       "      <td>65.0</td>\n",
       "      <td>82</td>\n",
       "      <td>44.7</td>\n",
       "      <td>35.8</td>\n",
       "      <td>53.8</td>\n",
       "      <td>774.7</td>\n",
       "      <td>7.5</td>\n",
       "      <td>0.00</td>\n",
       "      <td>1</td>\n",
       "      <td>0</td>\n",
       "    </tr>\n",
       "    <tr>\n",
       "      <th>4</th>\n",
       "      <td>5</td>\n",
       "      <td>NaN</td>\n",
       "      <td>Afghanistan</td>\n",
       "      <td>2020-03-23</td>\n",
       "      <td>38928346.0</td>\n",
       "      <td>60.0</td>\n",
       "      <td>Afghanistan-</td>\n",
       "      <td>33.0</td>\n",
       "      <td>65.0</td>\n",
       "      <td>83</td>\n",
       "      <td>45.0</td>\n",
       "      <td>37.9</td>\n",
       "      <td>50.4</td>\n",
       "      <td>769.8</td>\n",
       "      <td>7.3</td>\n",
       "      <td>0.47</td>\n",
       "      <td>1</td>\n",
       "      <td>0</td>\n",
       "    </tr>\n",
       "  </tbody>\n",
       "</table>\n",
       "</div>"
      ],
      "text/plain": [
       "            ForecastId Province_State Country_Region        Date  \\\n",
       "ForecastId                                                         \n",
       "0                    1            NaN    Afghanistan  2020-03-19   \n",
       "1                    2            NaN    Afghanistan  2020-03-20   \n",
       "2                    3            NaN    Afghanistan  2020-03-21   \n",
       "3                    4            NaN    Afghanistan  2020-03-22   \n",
       "4                    5            NaN    Afghanistan  2020-03-23   \n",
       "\n",
       "            Population (2020)  Density country+province   Lat  Long  \\\n",
       "ForecastId                                                            \n",
       "0                  38928346.0     60.0     Afghanistan-  33.0  65.0   \n",
       "1                  38928346.0     60.0     Afghanistan-  33.0  65.0   \n",
       "2                  38928346.0     60.0     Afghanistan-  33.0  65.0   \n",
       "3                  38928346.0     60.0     Afghanistan-  33.0  65.0   \n",
       "4                  38928346.0     60.0     Afghanistan-  33.0  65.0   \n",
       "\n",
       "            day_from_jan_first  temp   min   max    stp wdsp  prcp fog  \\\n",
       "ForecastId                                                               \n",
       "0                           79  45.2  32.0  59.7  775.3  5.3  0.31   1   \n",
       "1                           80  39.4  32.7  43.5  773.2  4.8  1.22   1   \n",
       "2                           81  42.4  34.7  54.3  776.3  2.7  2.20   1   \n",
       "3                           82  44.7  35.8  53.8  774.7  7.5  0.00   1   \n",
       "4                           83  45.0  37.9  50.4  769.8  7.3  0.47   1   \n",
       "\n",
       "            Country_Region_Types  \n",
       "ForecastId                        \n",
       "0                              0  \n",
       "1                              0  \n",
       "2                              0  \n",
       "3                              0  \n",
       "4                              0  "
      ]
     },
     "execution_count": 41,
     "metadata": {},
     "output_type": "execute_result"
    }
   ],
   "source": [
    "test_df_pop.head()"
   ]
  },
  {
   "cell_type": "code",
   "execution_count": 42,
   "metadata": {},
   "outputs": [],
   "source": [
    "train_df_pop.rename(columns={\"Population (2020)\":\"Population\"}, inplace=True)"
   ]
  },
  {
   "cell_type": "code",
   "execution_count": 43,
   "metadata": {},
   "outputs": [],
   "source": [
    "test_df_pop.rename(columns={\"Population (2020)\":\"Population\"}, inplace=True)"
   ]
  },
  {
   "cell_type": "code",
   "execution_count": 44,
   "metadata": {},
   "outputs": [
    {
     "data": {
      "text/html": [
       "<div>\n",
       "<style scoped>\n",
       "    .dataframe tbody tr th:only-of-type {\n",
       "        vertical-align: middle;\n",
       "    }\n",
       "\n",
       "    .dataframe tbody tr th {\n",
       "        vertical-align: top;\n",
       "    }\n",
       "\n",
       "    .dataframe thead th {\n",
       "        text-align: right;\n",
       "    }\n",
       "</style>\n",
       "<table border=\"1\" class=\"dataframe\">\n",
       "  <thead>\n",
       "    <tr style=\"text-align: right;\">\n",
       "      <th></th>\n",
       "      <th>Id</th>\n",
       "      <th>Province_State</th>\n",
       "      <th>Country_Region</th>\n",
       "      <th>Date</th>\n",
       "      <th>ConfirmedCases</th>\n",
       "      <th>Fatalities</th>\n",
       "      <th>Population</th>\n",
       "      <th>Density</th>\n",
       "      <th>country+province</th>\n",
       "      <th>Lat</th>\n",
       "      <th>Long</th>\n",
       "      <th>day_from_jan_first</th>\n",
       "      <th>temp</th>\n",
       "      <th>min</th>\n",
       "      <th>max</th>\n",
       "      <th>stp</th>\n",
       "      <th>wdsp</th>\n",
       "      <th>prcp</th>\n",
       "      <th>fog</th>\n",
       "      <th>Country_Region_Types</th>\n",
       "    </tr>\n",
       "  </thead>\n",
       "  <tbody>\n",
       "    <tr>\n",
       "      <th>0</th>\n",
       "      <td>0</td>\n",
       "      <td>NaN</td>\n",
       "      <td>Afghanistan</td>\n",
       "      <td>2020-01-22</td>\n",
       "      <td>0.0</td>\n",
       "      <td>0.0</td>\n",
       "      <td>38928346.0</td>\n",
       "      <td>60.0</td>\n",
       "      <td>Afghanistan-</td>\n",
       "      <td>33.0</td>\n",
       "      <td>65.0</td>\n",
       "      <td>22</td>\n",
       "      <td>42.6</td>\n",
       "      <td>33.6</td>\n",
       "      <td>54.9</td>\n",
       "      <td>999.9</td>\n",
       "      <td>9.4</td>\n",
       "      <td>0.00</td>\n",
       "      <td>0</td>\n",
       "      <td>0</td>\n",
       "    </tr>\n",
       "    <tr>\n",
       "      <th>1</th>\n",
       "      <td>1</td>\n",
       "      <td>NaN</td>\n",
       "      <td>Afghanistan</td>\n",
       "      <td>2020-01-23</td>\n",
       "      <td>0.0</td>\n",
       "      <td>0.0</td>\n",
       "      <td>38928346.0</td>\n",
       "      <td>60.0</td>\n",
       "      <td>Afghanistan-</td>\n",
       "      <td>33.0</td>\n",
       "      <td>65.0</td>\n",
       "      <td>23</td>\n",
       "      <td>42.0</td>\n",
       "      <td>32.7</td>\n",
       "      <td>55.9</td>\n",
       "      <td>999.9</td>\n",
       "      <td>14.9</td>\n",
       "      <td>99.99</td>\n",
       "      <td>1</td>\n",
       "      <td>0</td>\n",
       "    </tr>\n",
       "    <tr>\n",
       "      <th>2</th>\n",
       "      <td>2</td>\n",
       "      <td>NaN</td>\n",
       "      <td>Afghanistan</td>\n",
       "      <td>2020-01-24</td>\n",
       "      <td>0.0</td>\n",
       "      <td>0.0</td>\n",
       "      <td>38928346.0</td>\n",
       "      <td>60.0</td>\n",
       "      <td>Afghanistan-</td>\n",
       "      <td>33.0</td>\n",
       "      <td>65.0</td>\n",
       "      <td>24</td>\n",
       "      <td>40.1</td>\n",
       "      <td>36.9</td>\n",
       "      <td>43.2</td>\n",
       "      <td>999.9</td>\n",
       "      <td>10.4</td>\n",
       "      <td>0.17</td>\n",
       "      <td>1</td>\n",
       "      <td>0</td>\n",
       "    </tr>\n",
       "    <tr>\n",
       "      <th>3</th>\n",
       "      <td>3</td>\n",
       "      <td>NaN</td>\n",
       "      <td>Afghanistan</td>\n",
       "      <td>2020-01-25</td>\n",
       "      <td>0.0</td>\n",
       "      <td>0.0</td>\n",
       "      <td>38928346.0</td>\n",
       "      <td>60.0</td>\n",
       "      <td>Afghanistan-</td>\n",
       "      <td>33.0</td>\n",
       "      <td>65.0</td>\n",
       "      <td>25</td>\n",
       "      <td>46.0</td>\n",
       "      <td>37.9</td>\n",
       "      <td>56.3</td>\n",
       "      <td>999.9</td>\n",
       "      <td>6.1</td>\n",
       "      <td>0.57</td>\n",
       "      <td>1</td>\n",
       "      <td>0</td>\n",
       "    </tr>\n",
       "    <tr>\n",
       "      <th>4</th>\n",
       "      <td>4</td>\n",
       "      <td>NaN</td>\n",
       "      <td>Afghanistan</td>\n",
       "      <td>2020-01-26</td>\n",
       "      <td>0.0</td>\n",
       "      <td>0.0</td>\n",
       "      <td>38928346.0</td>\n",
       "      <td>60.0</td>\n",
       "      <td>Afghanistan-</td>\n",
       "      <td>33.0</td>\n",
       "      <td>65.0</td>\n",
       "      <td>26</td>\n",
       "      <td>42.8</td>\n",
       "      <td>36.1</td>\n",
       "      <td>53.1</td>\n",
       "      <td>999.9</td>\n",
       "      <td>10.8</td>\n",
       "      <td>0.00</td>\n",
       "      <td>1</td>\n",
       "      <td>0</td>\n",
       "    </tr>\n",
       "  </tbody>\n",
       "</table>\n",
       "</div>"
      ],
      "text/plain": [
       "   Id Province_State Country_Region        Date  ConfirmedCases  Fatalities  \\\n",
       "0   0            NaN    Afghanistan  2020-01-22             0.0         0.0   \n",
       "1   1            NaN    Afghanistan  2020-01-23             0.0         0.0   \n",
       "2   2            NaN    Afghanistan  2020-01-24             0.0         0.0   \n",
       "3   3            NaN    Afghanistan  2020-01-25             0.0         0.0   \n",
       "4   4            NaN    Afghanistan  2020-01-26             0.0         0.0   \n",
       "\n",
       "   Population  Density country+province   Lat  Long  day_from_jan_first  temp  \\\n",
       "0  38928346.0     60.0     Afghanistan-  33.0  65.0                  22  42.6   \n",
       "1  38928346.0     60.0     Afghanistan-  33.0  65.0                  23  42.0   \n",
       "2  38928346.0     60.0     Afghanistan-  33.0  65.0                  24  40.1   \n",
       "3  38928346.0     60.0     Afghanistan-  33.0  65.0                  25  46.0   \n",
       "4  38928346.0     60.0     Afghanistan-  33.0  65.0                  26  42.8   \n",
       "\n",
       "    min   max    stp  wdsp   prcp fog  Country_Region_Types  \n",
       "0  33.6  54.9  999.9   9.4   0.00   0                     0  \n",
       "1  32.7  55.9  999.9  14.9  99.99   1                     0  \n",
       "2  36.9  43.2  999.9  10.4   0.17   1                     0  \n",
       "3  37.9  56.3  999.9   6.1   0.57   1                     0  \n",
       "4  36.1  53.1  999.9  10.8   0.00   1                     0  "
      ]
     },
     "execution_count": 44,
     "metadata": {},
     "output_type": "execute_result"
    }
   ],
   "source": [
    "train_df_pop.head()"
   ]
  },
  {
   "cell_type": "code",
   "execution_count": 45,
   "metadata": {},
   "outputs": [
    {
     "data": {
      "text/html": [
       "<div>\n",
       "<style scoped>\n",
       "    .dataframe tbody tr th:only-of-type {\n",
       "        vertical-align: middle;\n",
       "    }\n",
       "\n",
       "    .dataframe tbody tr th {\n",
       "        vertical-align: top;\n",
       "    }\n",
       "\n",
       "    .dataframe thead th {\n",
       "        text-align: right;\n",
       "    }\n",
       "</style>\n",
       "<table border=\"1\" class=\"dataframe\">\n",
       "  <thead>\n",
       "    <tr style=\"text-align: right;\">\n",
       "      <th></th>\n",
       "      <th>ForecastId</th>\n",
       "      <th>Province_State</th>\n",
       "      <th>Country_Region</th>\n",
       "      <th>Date</th>\n",
       "      <th>Population</th>\n",
       "      <th>Density</th>\n",
       "      <th>country+province</th>\n",
       "      <th>Lat</th>\n",
       "      <th>Long</th>\n",
       "      <th>day_from_jan_first</th>\n",
       "      <th>temp</th>\n",
       "      <th>min</th>\n",
       "      <th>max</th>\n",
       "      <th>stp</th>\n",
       "      <th>wdsp</th>\n",
       "      <th>prcp</th>\n",
       "      <th>fog</th>\n",
       "      <th>Country_Region_Types</th>\n",
       "    </tr>\n",
       "    <tr>\n",
       "      <th>ForecastId</th>\n",
       "      <th></th>\n",
       "      <th></th>\n",
       "      <th></th>\n",
       "      <th></th>\n",
       "      <th></th>\n",
       "      <th></th>\n",
       "      <th></th>\n",
       "      <th></th>\n",
       "      <th></th>\n",
       "      <th></th>\n",
       "      <th></th>\n",
       "      <th></th>\n",
       "      <th></th>\n",
       "      <th></th>\n",
       "      <th></th>\n",
       "      <th></th>\n",
       "      <th></th>\n",
       "      <th></th>\n",
       "    </tr>\n",
       "  </thead>\n",
       "  <tbody>\n",
       "    <tr>\n",
       "      <th>0</th>\n",
       "      <td>1</td>\n",
       "      <td>NaN</td>\n",
       "      <td>Afghanistan</td>\n",
       "      <td>2020-03-19</td>\n",
       "      <td>38928346.0</td>\n",
       "      <td>60.0</td>\n",
       "      <td>Afghanistan-</td>\n",
       "      <td>33.0</td>\n",
       "      <td>65.0</td>\n",
       "      <td>79</td>\n",
       "      <td>45.2</td>\n",
       "      <td>32.0</td>\n",
       "      <td>59.7</td>\n",
       "      <td>775.3</td>\n",
       "      <td>5.3</td>\n",
       "      <td>0.31</td>\n",
       "      <td>1</td>\n",
       "      <td>0</td>\n",
       "    </tr>\n",
       "    <tr>\n",
       "      <th>1</th>\n",
       "      <td>2</td>\n",
       "      <td>NaN</td>\n",
       "      <td>Afghanistan</td>\n",
       "      <td>2020-03-20</td>\n",
       "      <td>38928346.0</td>\n",
       "      <td>60.0</td>\n",
       "      <td>Afghanistan-</td>\n",
       "      <td>33.0</td>\n",
       "      <td>65.0</td>\n",
       "      <td>80</td>\n",
       "      <td>39.4</td>\n",
       "      <td>32.7</td>\n",
       "      <td>43.5</td>\n",
       "      <td>773.2</td>\n",
       "      <td>4.8</td>\n",
       "      <td>1.22</td>\n",
       "      <td>1</td>\n",
       "      <td>0</td>\n",
       "    </tr>\n",
       "    <tr>\n",
       "      <th>2</th>\n",
       "      <td>3</td>\n",
       "      <td>NaN</td>\n",
       "      <td>Afghanistan</td>\n",
       "      <td>2020-03-21</td>\n",
       "      <td>38928346.0</td>\n",
       "      <td>60.0</td>\n",
       "      <td>Afghanistan-</td>\n",
       "      <td>33.0</td>\n",
       "      <td>65.0</td>\n",
       "      <td>81</td>\n",
       "      <td>42.4</td>\n",
       "      <td>34.7</td>\n",
       "      <td>54.3</td>\n",
       "      <td>776.3</td>\n",
       "      <td>2.7</td>\n",
       "      <td>2.20</td>\n",
       "      <td>1</td>\n",
       "      <td>0</td>\n",
       "    </tr>\n",
       "    <tr>\n",
       "      <th>3</th>\n",
       "      <td>4</td>\n",
       "      <td>NaN</td>\n",
       "      <td>Afghanistan</td>\n",
       "      <td>2020-03-22</td>\n",
       "      <td>38928346.0</td>\n",
       "      <td>60.0</td>\n",
       "      <td>Afghanistan-</td>\n",
       "      <td>33.0</td>\n",
       "      <td>65.0</td>\n",
       "      <td>82</td>\n",
       "      <td>44.7</td>\n",
       "      <td>35.8</td>\n",
       "      <td>53.8</td>\n",
       "      <td>774.7</td>\n",
       "      <td>7.5</td>\n",
       "      <td>0.00</td>\n",
       "      <td>1</td>\n",
       "      <td>0</td>\n",
       "    </tr>\n",
       "    <tr>\n",
       "      <th>4</th>\n",
       "      <td>5</td>\n",
       "      <td>NaN</td>\n",
       "      <td>Afghanistan</td>\n",
       "      <td>2020-03-23</td>\n",
       "      <td>38928346.0</td>\n",
       "      <td>60.0</td>\n",
       "      <td>Afghanistan-</td>\n",
       "      <td>33.0</td>\n",
       "      <td>65.0</td>\n",
       "      <td>83</td>\n",
       "      <td>45.0</td>\n",
       "      <td>37.9</td>\n",
       "      <td>50.4</td>\n",
       "      <td>769.8</td>\n",
       "      <td>7.3</td>\n",
       "      <td>0.47</td>\n",
       "      <td>1</td>\n",
       "      <td>0</td>\n",
       "    </tr>\n",
       "  </tbody>\n",
       "</table>\n",
       "</div>"
      ],
      "text/plain": [
       "            ForecastId Province_State Country_Region        Date  Population  \\\n",
       "ForecastId                                                                     \n",
       "0                    1            NaN    Afghanistan  2020-03-19  38928346.0   \n",
       "1                    2            NaN    Afghanistan  2020-03-20  38928346.0   \n",
       "2                    3            NaN    Afghanistan  2020-03-21  38928346.0   \n",
       "3                    4            NaN    Afghanistan  2020-03-22  38928346.0   \n",
       "4                    5            NaN    Afghanistan  2020-03-23  38928346.0   \n",
       "\n",
       "            Density country+province   Lat  Long  day_from_jan_first  temp  \\\n",
       "ForecastId                                                                   \n",
       "0              60.0     Afghanistan-  33.0  65.0                  79  45.2   \n",
       "1              60.0     Afghanistan-  33.0  65.0                  80  39.4   \n",
       "2              60.0     Afghanistan-  33.0  65.0                  81  42.4   \n",
       "3              60.0     Afghanistan-  33.0  65.0                  82  44.7   \n",
       "4              60.0     Afghanistan-  33.0  65.0                  83  45.0   \n",
       "\n",
       "             min   max    stp wdsp  prcp fog  Country_Region_Types  \n",
       "ForecastId                                                          \n",
       "0           32.0  59.7  775.3  5.3  0.31   1                     0  \n",
       "1           32.7  43.5  773.2  4.8  1.22   1                     0  \n",
       "2           34.7  54.3  776.3  2.7  2.20   1                     0  \n",
       "3           35.8  53.8  774.7  7.5  0.00   1                     0  \n",
       "4           37.9  50.4  769.8  7.3  0.47   1                     0  "
      ]
     },
     "execution_count": 45,
     "metadata": {},
     "output_type": "execute_result"
    }
   ],
   "source": [
    "test_df_pop.head()"
   ]
  },
  {
   "cell_type": "code",
   "execution_count": 46,
   "metadata": {},
   "outputs": [],
   "source": [
    "X_dataset=train_df_pop.copy()"
   ]
  },
  {
   "cell_type": "code",
   "execution_count": 47,
   "metadata": {},
   "outputs": [],
   "source": [
    "X_dataset=X_dataset[[\"Date\",\"Population\",\"Density\",\"day_from_jan_first\",\"temp\",\"min\",\"max\",\"stp\",\"wdsp\",\"prcp\",\"fog\",\"Country_Region_Types\",\"Lat\",\"Long\"]]"
   ]
  },
  {
   "cell_type": "code",
   "execution_count": 48,
   "metadata": {},
   "outputs": [],
   "source": [
    "X_dataset[\"Date\"] = X_dataset[\"Date\"].apply(lambda x:x.replace(\"-\",\"\"))\n",
    "X_dataset[\"Date\"]  = X_dataset[\"Date\"].astype(int)"
   ]
  },
  {
   "cell_type": "code",
   "execution_count": 49,
   "metadata": {},
   "outputs": [
    {
     "name": "stdout",
     "output_type": "stream",
     "text": [
      "<class 'pandas.core.frame.DataFrame'>\n",
      "RangeIndex: 16758 entries, 0 to 16757\n",
      "Data columns (total 14 columns):\n",
      "Date                    16758 non-null int64\n",
      "Population              16758 non-null float64\n",
      "Density                 16758 non-null float64\n",
      "day_from_jan_first      16758 non-null int64\n",
      "temp                    16758 non-null float64\n",
      "min                     16758 non-null float64\n",
      "max                     16758 non-null float64\n",
      "stp                     16758 non-null float64\n",
      "wdsp                    16758 non-null object\n",
      "prcp                    16758 non-null float64\n",
      "fog                     16758 non-null object\n",
      "Country_Region_Types    16758 non-null int64\n",
      "Lat                     16758 non-null float64\n",
      "Long                    16758 non-null float64\n",
      "dtypes: float64(9), int64(3), object(2)\n",
      "memory usage: 1.8+ MB\n"
     ]
    }
   ],
   "source": [
    "X_dataset.info()"
   ]
  },
  {
   "cell_type": "code",
   "execution_count": 50,
   "metadata": {},
   "outputs": [
    {
     "data": {
      "text/html": [
       "<div>\n",
       "<style scoped>\n",
       "    .dataframe tbody tr th:only-of-type {\n",
       "        vertical-align: middle;\n",
       "    }\n",
       "\n",
       "    .dataframe tbody tr th {\n",
       "        vertical-align: top;\n",
       "    }\n",
       "\n",
       "    .dataframe thead th {\n",
       "        text-align: right;\n",
       "    }\n",
       "</style>\n",
       "<table border=\"1\" class=\"dataframe\">\n",
       "  <thead>\n",
       "    <tr style=\"text-align: right;\">\n",
       "      <th></th>\n",
       "      <th>Date</th>\n",
       "      <th>Population</th>\n",
       "      <th>Density</th>\n",
       "      <th>day_from_jan_first</th>\n",
       "      <th>temp</th>\n",
       "      <th>min</th>\n",
       "      <th>max</th>\n",
       "      <th>stp</th>\n",
       "      <th>wdsp</th>\n",
       "      <th>prcp</th>\n",
       "      <th>fog</th>\n",
       "      <th>Country_Region_Types</th>\n",
       "      <th>Lat</th>\n",
       "      <th>Long</th>\n",
       "    </tr>\n",
       "  </thead>\n",
       "  <tbody>\n",
       "    <tr>\n",
       "      <th>0</th>\n",
       "      <td>20200122</td>\n",
       "      <td>38928346.0</td>\n",
       "      <td>60.0</td>\n",
       "      <td>22</td>\n",
       "      <td>42.6</td>\n",
       "      <td>33.6</td>\n",
       "      <td>54.9</td>\n",
       "      <td>999.9</td>\n",
       "      <td>9.4</td>\n",
       "      <td>0.00</td>\n",
       "      <td>0</td>\n",
       "      <td>0</td>\n",
       "      <td>33.0</td>\n",
       "      <td>65.0</td>\n",
       "    </tr>\n",
       "    <tr>\n",
       "      <th>1</th>\n",
       "      <td>20200123</td>\n",
       "      <td>38928346.0</td>\n",
       "      <td>60.0</td>\n",
       "      <td>23</td>\n",
       "      <td>42.0</td>\n",
       "      <td>32.7</td>\n",
       "      <td>55.9</td>\n",
       "      <td>999.9</td>\n",
       "      <td>14.9</td>\n",
       "      <td>99.99</td>\n",
       "      <td>1</td>\n",
       "      <td>0</td>\n",
       "      <td>33.0</td>\n",
       "      <td>65.0</td>\n",
       "    </tr>\n",
       "    <tr>\n",
       "      <th>2</th>\n",
       "      <td>20200124</td>\n",
       "      <td>38928346.0</td>\n",
       "      <td>60.0</td>\n",
       "      <td>24</td>\n",
       "      <td>40.1</td>\n",
       "      <td>36.9</td>\n",
       "      <td>43.2</td>\n",
       "      <td>999.9</td>\n",
       "      <td>10.4</td>\n",
       "      <td>0.17</td>\n",
       "      <td>1</td>\n",
       "      <td>0</td>\n",
       "      <td>33.0</td>\n",
       "      <td>65.0</td>\n",
       "    </tr>\n",
       "    <tr>\n",
       "      <th>3</th>\n",
       "      <td>20200125</td>\n",
       "      <td>38928346.0</td>\n",
       "      <td>60.0</td>\n",
       "      <td>25</td>\n",
       "      <td>46.0</td>\n",
       "      <td>37.9</td>\n",
       "      <td>56.3</td>\n",
       "      <td>999.9</td>\n",
       "      <td>6.1</td>\n",
       "      <td>0.57</td>\n",
       "      <td>1</td>\n",
       "      <td>0</td>\n",
       "      <td>33.0</td>\n",
       "      <td>65.0</td>\n",
       "    </tr>\n",
       "    <tr>\n",
       "      <th>4</th>\n",
       "      <td>20200126</td>\n",
       "      <td>38928346.0</td>\n",
       "      <td>60.0</td>\n",
       "      <td>26</td>\n",
       "      <td>42.8</td>\n",
       "      <td>36.1</td>\n",
       "      <td>53.1</td>\n",
       "      <td>999.9</td>\n",
       "      <td>10.8</td>\n",
       "      <td>0.00</td>\n",
       "      <td>1</td>\n",
       "      <td>0</td>\n",
       "      <td>33.0</td>\n",
       "      <td>65.0</td>\n",
       "    </tr>\n",
       "  </tbody>\n",
       "</table>\n",
       "</div>"
      ],
      "text/plain": [
       "       Date  Population  Density  day_from_jan_first  temp   min   max    stp  \\\n",
       "0  20200122  38928346.0     60.0                  22  42.6  33.6  54.9  999.9   \n",
       "1  20200123  38928346.0     60.0                  23  42.0  32.7  55.9  999.9   \n",
       "2  20200124  38928346.0     60.0                  24  40.1  36.9  43.2  999.9   \n",
       "3  20200125  38928346.0     60.0                  25  46.0  37.9  56.3  999.9   \n",
       "4  20200126  38928346.0     60.0                  26  42.8  36.1  53.1  999.9   \n",
       "\n",
       "   wdsp   prcp fog  Country_Region_Types   Lat  Long  \n",
       "0   9.4   0.00   0                     0  33.0  65.0  \n",
       "1  14.9  99.99   1                     0  33.0  65.0  \n",
       "2  10.4   0.17   1                     0  33.0  65.0  \n",
       "3   6.1   0.57   1                     0  33.0  65.0  \n",
       "4  10.8   0.00   1                     0  33.0  65.0  "
      ]
     },
     "execution_count": 50,
     "metadata": {},
     "output_type": "execute_result"
    }
   ],
   "source": [
    "X_dataset.head()"
   ]
  },
  {
   "cell_type": "code",
   "execution_count": 51,
   "metadata": {},
   "outputs": [],
   "source": [
    "X_dataset[\"fog\"]  = X_dataset[\"fog\"].astype(int)\n",
    "X_dataset[\"wdsp\"]  = X_dataset[\"wdsp\"].astype(float)"
   ]
  },
  {
   "cell_type": "code",
   "execution_count": 52,
   "metadata": {},
   "outputs": [
    {
     "name": "stdout",
     "output_type": "stream",
     "text": [
      "<class 'pandas.core.frame.DataFrame'>\n",
      "RangeIndex: 16758 entries, 0 to 16757\n",
      "Data columns (total 14 columns):\n",
      "Date                    16758 non-null int64\n",
      "Population              16758 non-null float64\n",
      "Density                 16758 non-null float64\n",
      "day_from_jan_first      16758 non-null int64\n",
      "temp                    16758 non-null float64\n",
      "min                     16758 non-null float64\n",
      "max                     16758 non-null float64\n",
      "stp                     16758 non-null float64\n",
      "wdsp                    16758 non-null float64\n",
      "prcp                    16758 non-null float64\n",
      "fog                     16758 non-null int64\n",
      "Country_Region_Types    16758 non-null int64\n",
      "Lat                     16758 non-null float64\n",
      "Long                    16758 non-null float64\n",
      "dtypes: float64(10), int64(4)\n",
      "memory usage: 1.8 MB\n"
     ]
    }
   ],
   "source": [
    "X_dataset.info()"
   ]
  },
  {
   "cell_type": "code",
   "execution_count": 53,
   "metadata": {},
   "outputs": [
    {
     "data": {
      "text/plain": [
       "20200318"
      ]
     },
     "execution_count": 53,
     "metadata": {},
     "output_type": "execute_result"
    }
   ],
   "source": [
    "X_dataset[\"Date\"].max()"
   ]
  },
  {
   "cell_type": "code",
   "execution_count": 54,
   "metadata": {},
   "outputs": [],
   "source": [
    "y1=train_df_pop[train_df_pop[\"Date\"]<\"2020-03-19\"][\"ConfirmedCases\"]\n",
    "y2=train_df_pop[train_df_pop[\"Date\"]<\"2020-03-19\"][\"Fatalities\"]"
   ]
  },
  {
   "cell_type": "code",
   "execution_count": 55,
   "metadata": {},
   "outputs": [],
   "source": [
    "#Confirmed Cases\n",
    "X_train_confirmed, X_test_confirmed, y_train_confirmed, y_test_confirmed = train_test_split(X_dataset, y1, test_size = .20, random_state = 42)"
   ]
  },
  {
   "cell_type": "code",
   "execution_count": 56,
   "metadata": {},
   "outputs": [],
   "source": [
    "dt1=DecisionTreeRegressor(criterion=\"friedman_mse\",max_depth=20,random_state=42)"
   ]
  },
  {
   "cell_type": "code",
   "execution_count": 57,
   "metadata": {},
   "outputs": [
    {
     "data": {
      "text/plain": [
       "DecisionTreeRegressor(ccp_alpha=0.0, criterion='friedman_mse', max_depth=20,\n",
       "                      max_features=None, max_leaf_nodes=None,\n",
       "                      min_impurity_decrease=0.0, min_impurity_split=None,\n",
       "                      min_samples_leaf=1, min_samples_split=2,\n",
       "                      min_weight_fraction_leaf=0.0, presort='deprecated',\n",
       "                      random_state=42, splitter='best')"
      ]
     },
     "execution_count": 57,
     "metadata": {},
     "output_type": "execute_result"
    }
   ],
   "source": [
    "dt1.fit(X_train_confirmed, y_train_confirmed)"
   ]
  },
  {
   "cell_type": "code",
   "execution_count": 58,
   "metadata": {},
   "outputs": [],
   "source": [
    "y_pred_dt_confirmed=dt1.predict(X_test_confirmed)"
   ]
  },
  {
   "cell_type": "code",
   "execution_count": 59,
   "metadata": {},
   "outputs": [
    {
     "data": {
      "text/plain": [
       "0.5561725137130228"
      ]
     },
     "execution_count": 59,
     "metadata": {},
     "output_type": "execute_result"
    }
   ],
   "source": [
    "np.sqrt(mean_squared_log_error( y_test_confirmed, y_pred_dt_confirmed ))"
   ]
  },
  {
   "cell_type": "code",
   "execution_count": 60,
   "metadata": {},
   "outputs": [],
   "source": [
    "#Fatalities\n",
    "X_train_fatal, X_test_fatal, y_train_fatal, y_test_fatal = train_test_split(X_dataset, y2, test_size = .20, random_state = 42)"
   ]
  },
  {
   "cell_type": "code",
   "execution_count": 61,
   "metadata": {},
   "outputs": [],
   "source": [
    "dt2=DecisionTreeRegressor(criterion=\"friedman_mse\",max_depth=20,random_state=42)"
   ]
  },
  {
   "cell_type": "code",
   "execution_count": 62,
   "metadata": {},
   "outputs": [
    {
     "data": {
      "text/plain": [
       "DecisionTreeRegressor(ccp_alpha=0.0, criterion='friedman_mse', max_depth=20,\n",
       "                      max_features=None, max_leaf_nodes=None,\n",
       "                      min_impurity_decrease=0.0, min_impurity_split=None,\n",
       "                      min_samples_leaf=1, min_samples_split=2,\n",
       "                      min_weight_fraction_leaf=0.0, presort='deprecated',\n",
       "                      random_state=42, splitter='best')"
      ]
     },
     "execution_count": 62,
     "metadata": {},
     "output_type": "execute_result"
    }
   ],
   "source": [
    "dt2.fit(X_train_fatal, y_train_fatal)"
   ]
  },
  {
   "cell_type": "code",
   "execution_count": 63,
   "metadata": {},
   "outputs": [],
   "source": [
    "y_pred_dt_fatal=dt2.predict(X_test_fatal)"
   ]
  },
  {
   "cell_type": "code",
   "execution_count": 64,
   "metadata": {},
   "outputs": [
    {
     "data": {
      "text/plain": [
       "0.32442159308122837"
      ]
     },
     "execution_count": 64,
     "metadata": {},
     "output_type": "execute_result"
    }
   ],
   "source": [
    "np.sqrt(mean_squared_log_error( y_test_fatal, y_pred_dt_fatal ))"
   ]
  },
  {
   "cell_type": "code",
   "execution_count": 65,
   "metadata": {},
   "outputs": [],
   "source": [
    "test_data=test_df_pop[[\"Date\",\"Population\",\"Density\",\"day_from_jan_first\",\"temp\",\"min\",\"max\",\"stp\",\"wdsp\",\"prcp\",\"fog\",\"Country_Region_Types\",\"Lat\",\"Long\"]]"
   ]
  },
  {
   "cell_type": "code",
   "execution_count": 66,
   "metadata": {},
   "outputs": [
    {
     "data": {
      "text/html": [
       "<div>\n",
       "<style scoped>\n",
       "    .dataframe tbody tr th:only-of-type {\n",
       "        vertical-align: middle;\n",
       "    }\n",
       "\n",
       "    .dataframe tbody tr th {\n",
       "        vertical-align: top;\n",
       "    }\n",
       "\n",
       "    .dataframe thead th {\n",
       "        text-align: right;\n",
       "    }\n",
       "</style>\n",
       "<table border=\"1\" class=\"dataframe\">\n",
       "  <thead>\n",
       "    <tr style=\"text-align: right;\">\n",
       "      <th></th>\n",
       "      <th>Date</th>\n",
       "      <th>Population</th>\n",
       "      <th>Density</th>\n",
       "      <th>day_from_jan_first</th>\n",
       "      <th>temp</th>\n",
       "      <th>min</th>\n",
       "      <th>max</th>\n",
       "      <th>stp</th>\n",
       "      <th>wdsp</th>\n",
       "      <th>prcp</th>\n",
       "      <th>fog</th>\n",
       "      <th>Country_Region_Types</th>\n",
       "      <th>Lat</th>\n",
       "      <th>Long</th>\n",
       "    </tr>\n",
       "    <tr>\n",
       "      <th>ForecastId</th>\n",
       "      <th></th>\n",
       "      <th></th>\n",
       "      <th></th>\n",
       "      <th></th>\n",
       "      <th></th>\n",
       "      <th></th>\n",
       "      <th></th>\n",
       "      <th></th>\n",
       "      <th></th>\n",
       "      <th></th>\n",
       "      <th></th>\n",
       "      <th></th>\n",
       "      <th></th>\n",
       "      <th></th>\n",
       "    </tr>\n",
       "  </thead>\n",
       "  <tbody>\n",
       "    <tr>\n",
       "      <th>0</th>\n",
       "      <td>2020-03-19</td>\n",
       "      <td>38928346.0</td>\n",
       "      <td>60.0</td>\n",
       "      <td>79</td>\n",
       "      <td>45.2</td>\n",
       "      <td>32.0</td>\n",
       "      <td>59.7</td>\n",
       "      <td>775.3</td>\n",
       "      <td>5.3</td>\n",
       "      <td>0.31</td>\n",
       "      <td>1</td>\n",
       "      <td>0</td>\n",
       "      <td>33.0</td>\n",
       "      <td>65.0</td>\n",
       "    </tr>\n",
       "    <tr>\n",
       "      <th>1</th>\n",
       "      <td>2020-03-20</td>\n",
       "      <td>38928346.0</td>\n",
       "      <td>60.0</td>\n",
       "      <td>80</td>\n",
       "      <td>39.4</td>\n",
       "      <td>32.7</td>\n",
       "      <td>43.5</td>\n",
       "      <td>773.2</td>\n",
       "      <td>4.8</td>\n",
       "      <td>1.22</td>\n",
       "      <td>1</td>\n",
       "      <td>0</td>\n",
       "      <td>33.0</td>\n",
       "      <td>65.0</td>\n",
       "    </tr>\n",
       "    <tr>\n",
       "      <th>2</th>\n",
       "      <td>2020-03-21</td>\n",
       "      <td>38928346.0</td>\n",
       "      <td>60.0</td>\n",
       "      <td>81</td>\n",
       "      <td>42.4</td>\n",
       "      <td>34.7</td>\n",
       "      <td>54.3</td>\n",
       "      <td>776.3</td>\n",
       "      <td>2.7</td>\n",
       "      <td>2.20</td>\n",
       "      <td>1</td>\n",
       "      <td>0</td>\n",
       "      <td>33.0</td>\n",
       "      <td>65.0</td>\n",
       "    </tr>\n",
       "    <tr>\n",
       "      <th>3</th>\n",
       "      <td>2020-03-22</td>\n",
       "      <td>38928346.0</td>\n",
       "      <td>60.0</td>\n",
       "      <td>82</td>\n",
       "      <td>44.7</td>\n",
       "      <td>35.8</td>\n",
       "      <td>53.8</td>\n",
       "      <td>774.7</td>\n",
       "      <td>7.5</td>\n",
       "      <td>0.00</td>\n",
       "      <td>1</td>\n",
       "      <td>0</td>\n",
       "      <td>33.0</td>\n",
       "      <td>65.0</td>\n",
       "    </tr>\n",
       "    <tr>\n",
       "      <th>4</th>\n",
       "      <td>2020-03-23</td>\n",
       "      <td>38928346.0</td>\n",
       "      <td>60.0</td>\n",
       "      <td>83</td>\n",
       "      <td>45.0</td>\n",
       "      <td>37.9</td>\n",
       "      <td>50.4</td>\n",
       "      <td>769.8</td>\n",
       "      <td>7.3</td>\n",
       "      <td>0.47</td>\n",
       "      <td>1</td>\n",
       "      <td>0</td>\n",
       "      <td>33.0</td>\n",
       "      <td>65.0</td>\n",
       "    </tr>\n",
       "  </tbody>\n",
       "</table>\n",
       "</div>"
      ],
      "text/plain": [
       "                  Date  Population  Density  day_from_jan_first  temp   min  \\\n",
       "ForecastId                                                                    \n",
       "0           2020-03-19  38928346.0     60.0                  79  45.2  32.0   \n",
       "1           2020-03-20  38928346.0     60.0                  80  39.4  32.7   \n",
       "2           2020-03-21  38928346.0     60.0                  81  42.4  34.7   \n",
       "3           2020-03-22  38928346.0     60.0                  82  44.7  35.8   \n",
       "4           2020-03-23  38928346.0     60.0                  83  45.0  37.9   \n",
       "\n",
       "             max    stp wdsp  prcp fog  Country_Region_Types   Lat  Long  \n",
       "ForecastId                                                                \n",
       "0           59.7  775.3  5.3  0.31   1                     0  33.0  65.0  \n",
       "1           43.5  773.2  4.8  1.22   1                     0  33.0  65.0  \n",
       "2           54.3  776.3  2.7  2.20   1                     0  33.0  65.0  \n",
       "3           53.8  774.7  7.5  0.00   1                     0  33.0  65.0  \n",
       "4           50.4  769.8  7.3  0.47   1                     0  33.0  65.0  "
      ]
     },
     "execution_count": 66,
     "metadata": {},
     "output_type": "execute_result"
    }
   ],
   "source": [
    "test_data.head()"
   ]
  },
  {
   "cell_type": "code",
   "execution_count": 67,
   "metadata": {},
   "outputs": [
    {
     "name": "stderr",
     "output_type": "stream",
     "text": [
      "/opt/conda/lib/python3.6/site-packages/ipykernel_launcher.py:1: SettingWithCopyWarning: \n",
      "A value is trying to be set on a copy of a slice from a DataFrame.\n",
      "Try using .loc[row_indexer,col_indexer] = value instead\n",
      "\n",
      "See the caveats in the documentation: http://pandas.pydata.org/pandas-docs/stable/user_guide/indexing.html#returning-a-view-versus-a-copy\n",
      "  \"\"\"Entry point for launching an IPython kernel.\n",
      "/opt/conda/lib/python3.6/site-packages/ipykernel_launcher.py:2: SettingWithCopyWarning: \n",
      "A value is trying to be set on a copy of a slice from a DataFrame.\n",
      "Try using .loc[row_indexer,col_indexer] = value instead\n",
      "\n",
      "See the caveats in the documentation: http://pandas.pydata.org/pandas-docs/stable/user_guide/indexing.html#returning-a-view-versus-a-copy\n",
      "  \n"
     ]
    }
   ],
   "source": [
    "test_data[\"Date\"] = test_data[\"Date\"].apply(lambda x:x.replace(\"-\",\"\"))\n",
    "test_data[\"Date\"]  = test_data[\"Date\"].astype(int)"
   ]
  },
  {
   "cell_type": "code",
   "execution_count": 68,
   "metadata": {},
   "outputs": [],
   "source": [
    "y_confirmed=dt1.predict(test_data)"
   ]
  },
  {
   "cell_type": "code",
   "execution_count": 69,
   "metadata": {},
   "outputs": [],
   "source": [
    "y_fatal=dt2.predict(test_data)"
   ]
  },
  {
   "cell_type": "code",
   "execution_count": 70,
   "metadata": {},
   "outputs": [],
   "source": [
    "submission=pd.DataFrame({'ForecastId': test_df[\"ForecastId\"], 'ConfirmedCases': y_confirmed, 'Fatalities': y_fatal})"
   ]
  },
  {
   "cell_type": "code",
   "execution_count": 71,
   "metadata": {},
   "outputs": [],
   "source": [
    "submission[\"ConfirmedCases\"]=submission[\"ConfirmedCases\"].astype(int)\n",
    "submission[\"Fatalities\"]=submission[\"Fatalities\"].astype(int)"
   ]
  },
  {
   "cell_type": "code",
   "execution_count": 72,
   "metadata": {},
   "outputs": [
    {
     "data": {
      "text/html": [
       "<div>\n",
       "<style scoped>\n",
       "    .dataframe tbody tr th:only-of-type {\n",
       "        vertical-align: middle;\n",
       "    }\n",
       "\n",
       "    .dataframe tbody tr th {\n",
       "        vertical-align: top;\n",
       "    }\n",
       "\n",
       "    .dataframe thead th {\n",
       "        text-align: right;\n",
       "    }\n",
       "</style>\n",
       "<table border=\"1\" class=\"dataframe\">\n",
       "  <thead>\n",
       "    <tr style=\"text-align: right;\">\n",
       "      <th></th>\n",
       "      <th>ForecastId</th>\n",
       "      <th>ConfirmedCases</th>\n",
       "      <th>Fatalities</th>\n",
       "    </tr>\n",
       "  </thead>\n",
       "  <tbody>\n",
       "    <tr>\n",
       "      <th>0</th>\n",
       "      <td>1</td>\n",
       "      <td>22</td>\n",
       "      <td>0</td>\n",
       "    </tr>\n",
       "    <tr>\n",
       "      <th>1</th>\n",
       "      <td>2</td>\n",
       "      <td>38</td>\n",
       "      <td>0</td>\n",
       "    </tr>\n",
       "    <tr>\n",
       "      <th>2</th>\n",
       "      <td>3</td>\n",
       "      <td>22</td>\n",
       "      <td>0</td>\n",
       "    </tr>\n",
       "    <tr>\n",
       "      <th>3</th>\n",
       "      <td>4</td>\n",
       "      <td>169</td>\n",
       "      <td>0</td>\n",
       "    </tr>\n",
       "    <tr>\n",
       "      <th>4</th>\n",
       "      <td>5</td>\n",
       "      <td>169</td>\n",
       "      <td>0</td>\n",
       "    </tr>\n",
       "  </tbody>\n",
       "</table>\n",
       "</div>"
      ],
      "text/plain": [
       "   ForecastId  ConfirmedCases  Fatalities\n",
       "0           1              22           0\n",
       "1           2              38           0\n",
       "2           3              22           0\n",
       "3           4             169           0\n",
       "4           5             169           0"
      ]
     },
     "execution_count": 72,
     "metadata": {},
     "output_type": "execute_result"
    }
   ],
   "source": [
    "submission.head()"
   ]
  },
  {
   "cell_type": "code",
   "execution_count": 73,
   "metadata": {},
   "outputs": [],
   "source": [
    "submission.to_csv('submission.csv', index=False)"
   ]
  }
 ],
 "metadata": {
  "kernelspec": {
   "display_name": "Python 3",
   "language": "python",
   "name": "python3"
  },
  "language_info": {
   "codemirror_mode": {
    "name": "ipython",
    "version": 3
   },
   "file_extension": ".py",
   "mimetype": "text/x-python",
   "name": "python",
   "nbconvert_exporter": "python",
   "pygments_lexer": "ipython3",
   "version": "3.6.6"
  }
 },
 "nbformat": 4,
 "nbformat_minor": 4
}
