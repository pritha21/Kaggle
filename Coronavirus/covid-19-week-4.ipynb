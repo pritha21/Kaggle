{
 "cells": [
  {
   "cell_type": "code",
   "execution_count": 1,
   "metadata": {
    "_cell_guid": "b1076dfc-b9ad-4769-8c92-a6c4dae69d19",
    "_uuid": "8f2839f25d086af736a60e9eeb907d3b93b6e0e5"
   },
   "outputs": [
    {
     "name": "stdout",
     "output_type": "stream",
     "text": [
      "/kaggle/input/covid19-global-forecasting-week-4/submission.csv\n",
      "/kaggle/input/covid19-global-forecasting-week-4/test.csv\n",
      "/kaggle/input/covid19-global-forecasting-week-4/train.csv\n",
      "/kaggle/input/population-by-country-2020/population_by_country_2020.csv\n"
     ]
    }
   ],
   "source": [
    "# This Python 3 environment comes with many helpful analytics libraries installed\n",
    "# It is defined by the kaggle/python docker image: https://github.com/kaggle/docker-python\n",
    "# For example, here's several helpful packages to load in \n",
    "\n",
    "import numpy as np # linear algebra\n",
    "import pandas as pd # data processing, CSV file I/O (e.g. pd.read_csv)\n",
    "\n",
    "# Input data files are available in the \"../input/\" directory.\n",
    "# For example, running this (by clicking run or pressing Shift+Enter) will list all files under the input directory\n",
    "\n",
    "import os\n",
    "for dirname, _, filenames in os.walk('/kaggle/input'):\n",
    "    for filename in filenames:\n",
    "        print(os.path.join(dirname, filename))\n",
    "\n",
    "# Any results you write to the current directory are saved as output."
   ]
  },
  {
   "cell_type": "code",
   "execution_count": 2,
   "metadata": {},
   "outputs": [
    {
     "name": "stdout",
     "output_type": "stream",
     "text": [
      "Collecting pycountry_convert\r\n",
      "  Downloading pycountry_convert-0.7.2-py3-none-any.whl (13 kB)\r\n",
      "Collecting pprintpp>=0.3.0\r\n",
      "  Downloading pprintpp-0.4.0-py2.py3-none-any.whl (16 kB)\r\n",
      "Requirement already satisfied: wheel>=0.30.0 in /opt/conda/lib/python3.6/site-packages (from pycountry_convert) (0.34.2)\r\n",
      "Requirement already satisfied: pycountry>=16.11.27.1 in /opt/conda/lib/python3.6/site-packages (from pycountry_convert) (19.8.18)\r\n",
      "Requirement already satisfied: pytest-cov>=2.5.1 in /opt/conda/lib/python3.6/site-packages (from pycountry_convert) (2.8.1)\r\n",
      "Requirement already satisfied: pytest>=3.4.0 in /opt/conda/lib/python3.6/site-packages (from pycountry_convert) (5.0.1)\r\n",
      "Requirement already satisfied: pytest-mock>=1.6.3 in /opt/conda/lib/python3.6/site-packages (from pycountry_convert) (2.0.0)\r\n",
      "Collecting repoze.lru>=0.7\r\n",
      "  Downloading repoze.lru-0.7-py3-none-any.whl (10 kB)\r\n",
      "Requirement already satisfied: coverage>=4.4 in /opt/conda/lib/python3.6/site-packages (from pytest-cov>=2.5.1->pycountry_convert) (5.0.4)\r\n",
      "Requirement already satisfied: py>=1.5.0 in /opt/conda/lib/python3.6/site-packages (from pytest>=3.4.0->pycountry_convert) (1.8.1)\r\n",
      "Requirement already satisfied: packaging in /opt/conda/lib/python3.6/site-packages (from pytest>=3.4.0->pycountry_convert) (20.3)\r\n",
      "Requirement already satisfied: attrs>=17.4.0 in /opt/conda/lib/python3.6/site-packages (from pytest>=3.4.0->pycountry_convert) (19.3.0)\r\n",
      "Requirement already satisfied: more-itertools>=4.0.0 in /opt/conda/lib/python3.6/site-packages (from pytest>=3.4.0->pycountry_convert) (8.2.0)\r\n",
      "Requirement already satisfied: atomicwrites>=1.0 in /opt/conda/lib/python3.6/site-packages (from pytest>=3.4.0->pycountry_convert) (1.3.0)\r\n",
      "Requirement already satisfied: pluggy<1.0,>=0.12 in /opt/conda/lib/python3.6/site-packages (from pytest>=3.4.0->pycountry_convert) (0.13.1)\r\n",
      "Requirement already satisfied: importlib-metadata>=0.12 in /opt/conda/lib/python3.6/site-packages (from pytest>=3.4.0->pycountry_convert) (1.5.0)\r\n",
      "Requirement already satisfied: wcwidth in /opt/conda/lib/python3.6/site-packages (from pytest>=3.4.0->pycountry_convert) (0.1.9)\r\n",
      "Requirement already satisfied: pyparsing>=2.0.2 in /opt/conda/lib/python3.6/site-packages (from packaging->pytest>=3.4.0->pycountry_convert) (2.4.6)\r\n",
      "Requirement already satisfied: six in /opt/conda/lib/python3.6/site-packages (from packaging->pytest>=3.4.0->pycountry_convert) (1.14.0)\r\n",
      "Requirement already satisfied: zipp>=0.5 in /opt/conda/lib/python3.6/site-packages (from importlib-metadata>=0.12->pytest>=3.4.0->pycountry_convert) (2.2.0)\r\n",
      "Installing collected packages: pprintpp, repoze.lru, pycountry-convert\r\n",
      "Successfully installed pprintpp-0.4.0 pycountry-convert-0.7.2 repoze.lru-0.7\r\n",
      "Note: you may need to restart the kernel to use updated packages.\n"
     ]
    }
   ],
   "source": [
    "pip install pycountry_convert"
   ]
  },
  {
   "cell_type": "code",
   "execution_count": 3,
   "metadata": {
    "_cell_guid": "79c7e3d0-c299-4dcb-8224-4455121ee9b0",
    "_uuid": "d629ff2d2480ee46fbb7e2d37f6b5fab8052498a"
   },
   "outputs": [],
   "source": [
    "import pandas as pd\n",
    "import matplotlib.pyplot as plt\n",
    "import seaborn as sn\n",
    "from sklearn.model_selection import train_test_split\n",
    "import numpy as np\n",
    "from sklearn.preprocessing import MinMaxScaler\n",
    "from sklearn.metrics import mean_squared_log_error\n",
    "from sklearn.tree import DecisionTreeRegressor\n",
    "from xgboost import XGBRegressor\n",
    "from sklearn.preprocessing import LabelEncoder\n",
    "import pycountry_convert as pc\n",
    "import pycountry\n",
    "import functools"
   ]
  },
  {
   "cell_type": "code",
   "execution_count": 4,
   "metadata": {},
   "outputs": [],
   "source": [
    "train_df=pd.read_csv(\"../input/covid19-global-forecasting-week-4/train.csv\")\n",
    "test_df=pd.read_csv(\"../input/covid19-global-forecasting-week-4/test.csv\")"
   ]
  },
  {
   "cell_type": "code",
   "execution_count": 5,
   "metadata": {},
   "outputs": [
    {
     "data": {
      "text/html": [
       "<div>\n",
       "<style scoped>\n",
       "    .dataframe tbody tr th:only-of-type {\n",
       "        vertical-align: middle;\n",
       "    }\n",
       "\n",
       "    .dataframe tbody tr th {\n",
       "        vertical-align: top;\n",
       "    }\n",
       "\n",
       "    .dataframe thead th {\n",
       "        text-align: right;\n",
       "    }\n",
       "</style>\n",
       "<table border=\"1\" class=\"dataframe\">\n",
       "  <thead>\n",
       "    <tr style=\"text-align: right;\">\n",
       "      <th></th>\n",
       "      <th>Id</th>\n",
       "      <th>Province_State</th>\n",
       "      <th>Country_Region</th>\n",
       "      <th>Date</th>\n",
       "      <th>ConfirmedCases</th>\n",
       "      <th>Fatalities</th>\n",
       "    </tr>\n",
       "  </thead>\n",
       "  <tbody>\n",
       "    <tr>\n",
       "      <th>0</th>\n",
       "      <td>1</td>\n",
       "      <td>NaN</td>\n",
       "      <td>Afghanistan</td>\n",
       "      <td>2020-01-22</td>\n",
       "      <td>0.0</td>\n",
       "      <td>0.0</td>\n",
       "    </tr>\n",
       "    <tr>\n",
       "      <th>1</th>\n",
       "      <td>2</td>\n",
       "      <td>NaN</td>\n",
       "      <td>Afghanistan</td>\n",
       "      <td>2020-01-23</td>\n",
       "      <td>0.0</td>\n",
       "      <td>0.0</td>\n",
       "    </tr>\n",
       "    <tr>\n",
       "      <th>2</th>\n",
       "      <td>3</td>\n",
       "      <td>NaN</td>\n",
       "      <td>Afghanistan</td>\n",
       "      <td>2020-01-24</td>\n",
       "      <td>0.0</td>\n",
       "      <td>0.0</td>\n",
       "    </tr>\n",
       "    <tr>\n",
       "      <th>3</th>\n",
       "      <td>4</td>\n",
       "      <td>NaN</td>\n",
       "      <td>Afghanistan</td>\n",
       "      <td>2020-01-25</td>\n",
       "      <td>0.0</td>\n",
       "      <td>0.0</td>\n",
       "    </tr>\n",
       "    <tr>\n",
       "      <th>4</th>\n",
       "      <td>5</td>\n",
       "      <td>NaN</td>\n",
       "      <td>Afghanistan</td>\n",
       "      <td>2020-01-26</td>\n",
       "      <td>0.0</td>\n",
       "      <td>0.0</td>\n",
       "    </tr>\n",
       "  </tbody>\n",
       "</table>\n",
       "</div>"
      ],
      "text/plain": [
       "   Id Province_State Country_Region        Date  ConfirmedCases  Fatalities\n",
       "0   1            NaN    Afghanistan  2020-01-22             0.0         0.0\n",
       "1   2            NaN    Afghanistan  2020-01-23             0.0         0.0\n",
       "2   3            NaN    Afghanistan  2020-01-24             0.0         0.0\n",
       "3   4            NaN    Afghanistan  2020-01-25             0.0         0.0\n",
       "4   5            NaN    Afghanistan  2020-01-26             0.0         0.0"
      ]
     },
     "execution_count": 5,
     "metadata": {},
     "output_type": "execute_result"
    }
   ],
   "source": [
    "train_df.head()"
   ]
  },
  {
   "cell_type": "code",
   "execution_count": 6,
   "metadata": {},
   "outputs": [
    {
     "name": "stdout",
     "output_type": "stream",
     "text": [
      "<class 'pandas.core.frame.DataFrame'>\n",
      "RangeIndex: 26292 entries, 0 to 26291\n",
      "Data columns (total 6 columns):\n",
      "Id                26292 non-null int64\n",
      "Province_State    11172 non-null object\n",
      "Country_Region    26292 non-null object\n",
      "Date              26292 non-null object\n",
      "ConfirmedCases    26292 non-null float64\n",
      "Fatalities        26292 non-null float64\n",
      "dtypes: float64(2), int64(1), object(3)\n",
      "memory usage: 1.2+ MB\n"
     ]
    }
   ],
   "source": [
    "train_df.info()"
   ]
  },
  {
   "cell_type": "code",
   "execution_count": 7,
   "metadata": {},
   "outputs": [
    {
     "name": "stdout",
     "output_type": "stream",
     "text": [
      "<class 'pandas.core.frame.DataFrame'>\n",
      "RangeIndex: 13459 entries, 0 to 13458\n",
      "Data columns (total 4 columns):\n",
      "ForecastId        13459 non-null int64\n",
      "Province_State    5719 non-null object\n",
      "Country_Region    13459 non-null object\n",
      "Date              13459 non-null object\n",
      "dtypes: int64(1), object(3)\n",
      "memory usage: 420.7+ KB\n"
     ]
    }
   ],
   "source": [
    "test_df.info()"
   ]
  },
  {
   "cell_type": "code",
   "execution_count": 8,
   "metadata": {},
   "outputs": [
    {
     "name": "stdout",
     "output_type": "stream",
     "text": [
      "Min train date:  2020-01-22\n",
      "Max train date:  2020-04-14\n",
      "Min test date:  2020-04-02\n",
      "Max test date:  2020-05-14\n"
     ]
    }
   ],
   "source": [
    "print(\"Min train date: \",train_df[\"Date\"].min())\n",
    "print(\"Max train date: \",train_df[\"Date\"].max())\n",
    "print(\"Min test date: \",test_df[\"Date\"].min())\n",
    "print(\"Max test date: \",test_df[\"Date\"].max())"
   ]
  },
  {
   "cell_type": "code",
   "execution_count": 9,
   "metadata": {},
   "outputs": [],
   "source": [
    "pop_info = pd.read_csv(\"../input/population-by-country-2020/population_by_country_2020.csv\")\n",
    "#Population Data"
   ]
  },
  {
   "cell_type": "code",
   "execution_count": 10,
   "metadata": {},
   "outputs": [
    {
     "data": {
      "text/html": [
       "<div>\n",
       "<style scoped>\n",
       "    .dataframe tbody tr th:only-of-type {\n",
       "        vertical-align: middle;\n",
       "    }\n",
       "\n",
       "    .dataframe tbody tr th {\n",
       "        vertical-align: top;\n",
       "    }\n",
       "\n",
       "    .dataframe thead th {\n",
       "        text-align: right;\n",
       "    }\n",
       "</style>\n",
       "<table border=\"1\" class=\"dataframe\">\n",
       "  <thead>\n",
       "    <tr style=\"text-align: right;\">\n",
       "      <th></th>\n",
       "      <th>Country (or dependency)</th>\n",
       "      <th>Population (2020)</th>\n",
       "      <th>Yearly Change</th>\n",
       "      <th>Net Change</th>\n",
       "      <th>Density (P/Km²)</th>\n",
       "      <th>Land Area (Km²)</th>\n",
       "      <th>Migrants (net)</th>\n",
       "      <th>Fert. Rate</th>\n",
       "      <th>Med. Age</th>\n",
       "      <th>Urban Pop %</th>\n",
       "      <th>World Share</th>\n",
       "    </tr>\n",
       "  </thead>\n",
       "  <tbody>\n",
       "    <tr>\n",
       "      <th>0</th>\n",
       "      <td>China</td>\n",
       "      <td>1438116346</td>\n",
       "      <td>0.39 %</td>\n",
       "      <td>5540090</td>\n",
       "      <td>153</td>\n",
       "      <td>9388211</td>\n",
       "      <td>-348399.0</td>\n",
       "      <td>1.7</td>\n",
       "      <td>38</td>\n",
       "      <td>61 %</td>\n",
       "      <td>18.47 %</td>\n",
       "    </tr>\n",
       "    <tr>\n",
       "      <th>1</th>\n",
       "      <td>India</td>\n",
       "      <td>1377011281</td>\n",
       "      <td>0.99 %</td>\n",
       "      <td>13586631</td>\n",
       "      <td>464</td>\n",
       "      <td>2973190</td>\n",
       "      <td>-532687.0</td>\n",
       "      <td>2.2</td>\n",
       "      <td>28</td>\n",
       "      <td>35 %</td>\n",
       "      <td>17.70 %</td>\n",
       "    </tr>\n",
       "    <tr>\n",
       "      <th>2</th>\n",
       "      <td>United States</td>\n",
       "      <td>330578810</td>\n",
       "      <td>0.59 %</td>\n",
       "      <td>1937734</td>\n",
       "      <td>36</td>\n",
       "      <td>9147420</td>\n",
       "      <td>954806.0</td>\n",
       "      <td>1.8</td>\n",
       "      <td>38</td>\n",
       "      <td>83 %</td>\n",
       "      <td>4.25 %</td>\n",
       "    </tr>\n",
       "    <tr>\n",
       "      <th>3</th>\n",
       "      <td>Indonesia</td>\n",
       "      <td>272884327</td>\n",
       "      <td>1.07 %</td>\n",
       "      <td>2898047</td>\n",
       "      <td>151</td>\n",
       "      <td>1811570</td>\n",
       "      <td>-98955.0</td>\n",
       "      <td>2.3</td>\n",
       "      <td>30</td>\n",
       "      <td>56 %</td>\n",
       "      <td>3.51 %</td>\n",
       "    </tr>\n",
       "    <tr>\n",
       "      <th>4</th>\n",
       "      <td>Pakistan</td>\n",
       "      <td>219922471</td>\n",
       "      <td>2.00 %</td>\n",
       "      <td>4327022</td>\n",
       "      <td>287</td>\n",
       "      <td>770880</td>\n",
       "      <td>-233379.0</td>\n",
       "      <td>3.6</td>\n",
       "      <td>23</td>\n",
       "      <td>35 %</td>\n",
       "      <td>2.83 %</td>\n",
       "    </tr>\n",
       "  </tbody>\n",
       "</table>\n",
       "</div>"
      ],
      "text/plain": [
       "  Country (or dependency)  Population (2020) Yearly Change  Net Change  \\\n",
       "0                   China         1438116346        0.39 %     5540090   \n",
       "1                   India         1377011281        0.99 %    13586631   \n",
       "2           United States          330578810        0.59 %     1937734   \n",
       "3               Indonesia          272884327        1.07 %     2898047   \n",
       "4                Pakistan          219922471        2.00 %     4327022   \n",
       "\n",
       "   Density (P/Km²)  Land Area (Km²)  Migrants (net) Fert. Rate Med. Age  \\\n",
       "0              153          9388211       -348399.0        1.7       38   \n",
       "1              464          2973190       -532687.0        2.2       28   \n",
       "2               36          9147420        954806.0        1.8       38   \n",
       "3              151          1811570        -98955.0        2.3       30   \n",
       "4              287           770880       -233379.0        3.6       23   \n",
       "\n",
       "  Urban Pop % World Share  \n",
       "0        61 %     18.47 %  \n",
       "1        35 %     17.70 %  \n",
       "2        83 %      4.25 %  \n",
       "3        56 %      3.51 %  \n",
       "4        35 %      2.83 %  "
      ]
     },
     "execution_count": 10,
     "metadata": {},
     "output_type": "execute_result"
    }
   ],
   "source": [
    "pop_info.head()"
   ]
  },
  {
   "cell_type": "code",
   "execution_count": 11,
   "metadata": {},
   "outputs": [],
   "source": [
    "pop_info.rename(columns={'Density (P/Km²)': 'Density'}, inplace=True)"
   ]
  },
  {
   "cell_type": "code",
   "execution_count": 12,
   "metadata": {},
   "outputs": [
    {
     "data": {
      "text/plain": [
       "Index(['Country (or dependency)', 'Population (2020)', 'Yearly Change',\n",
       "       'Net Change', 'Density', 'Land Area (Km²)', 'Migrants (net)',\n",
       "       'Fert. Rate', 'Med. Age', 'Urban Pop %', 'World Share'],\n",
       "      dtype='object')"
      ]
     },
     "execution_count": 12,
     "metadata": {},
     "output_type": "execute_result"
    }
   ],
   "source": [
    "pop_info.columns"
   ]
  },
  {
   "cell_type": "code",
   "execution_count": 13,
   "metadata": {},
   "outputs": [],
   "source": [
    "country_lookup=pop_info[[\"Country (or dependency)\",\"Population (2020)\",\"Density\",\"Med. Age\",\"Urban Pop %\"]]"
   ]
  },
  {
   "cell_type": "code",
   "execution_count": 14,
   "metadata": {},
   "outputs": [
    {
     "data": {
      "text/html": [
       "<div>\n",
       "<style scoped>\n",
       "    .dataframe tbody tr th:only-of-type {\n",
       "        vertical-align: middle;\n",
       "    }\n",
       "\n",
       "    .dataframe tbody tr th {\n",
       "        vertical-align: top;\n",
       "    }\n",
       "\n",
       "    .dataframe thead th {\n",
       "        text-align: right;\n",
       "    }\n",
       "</style>\n",
       "<table border=\"1\" class=\"dataframe\">\n",
       "  <thead>\n",
       "    <tr style=\"text-align: right;\">\n",
       "      <th></th>\n",
       "      <th>Country (or dependency)</th>\n",
       "      <th>Population (2020)</th>\n",
       "      <th>Density</th>\n",
       "      <th>Med. Age</th>\n",
       "      <th>Urban Pop %</th>\n",
       "    </tr>\n",
       "  </thead>\n",
       "  <tbody>\n",
       "    <tr>\n",
       "      <th>0</th>\n",
       "      <td>China</td>\n",
       "      <td>1438116346</td>\n",
       "      <td>153</td>\n",
       "      <td>38</td>\n",
       "      <td>61 %</td>\n",
       "    </tr>\n",
       "    <tr>\n",
       "      <th>1</th>\n",
       "      <td>India</td>\n",
       "      <td>1377011281</td>\n",
       "      <td>464</td>\n",
       "      <td>28</td>\n",
       "      <td>35 %</td>\n",
       "    </tr>\n",
       "    <tr>\n",
       "      <th>2</th>\n",
       "      <td>United States</td>\n",
       "      <td>330578810</td>\n",
       "      <td>36</td>\n",
       "      <td>38</td>\n",
       "      <td>83 %</td>\n",
       "    </tr>\n",
       "    <tr>\n",
       "      <th>3</th>\n",
       "      <td>Indonesia</td>\n",
       "      <td>272884327</td>\n",
       "      <td>151</td>\n",
       "      <td>30</td>\n",
       "      <td>56 %</td>\n",
       "    </tr>\n",
       "    <tr>\n",
       "      <th>4</th>\n",
       "      <td>Pakistan</td>\n",
       "      <td>219922471</td>\n",
       "      <td>287</td>\n",
       "      <td>23</td>\n",
       "      <td>35 %</td>\n",
       "    </tr>\n",
       "  </tbody>\n",
       "</table>\n",
       "</div>"
      ],
      "text/plain": [
       "  Country (or dependency)  Population (2020)  Density Med. Age Urban Pop %\n",
       "0                   China         1438116346      153       38        61 %\n",
       "1                   India         1377011281      464       28        35 %\n",
       "2           United States          330578810       36       38        83 %\n",
       "3               Indonesia          272884327      151       30        56 %\n",
       "4                Pakistan          219922471      287       23        35 %"
      ]
     },
     "execution_count": 14,
     "metadata": {},
     "output_type": "execute_result"
    }
   ],
   "source": [
    "country_lookup.head()"
   ]
  },
  {
   "cell_type": "code",
   "execution_count": 15,
   "metadata": {},
   "outputs": [],
   "source": [
    "pd.DataFrame.from_dict(country_lookup)\n",
    "train_df_pop=pd.merge(train_df, country_lookup, how='left', left_on='Country_Region', right_on='Country (or dependency)')\n",
    "#Train data joined with population data"
   ]
  },
  {
   "cell_type": "code",
   "execution_count": 16,
   "metadata": {},
   "outputs": [
    {
     "name": "stdout",
     "output_type": "stream",
     "text": [
      "<class 'pandas.core.frame.DataFrame'>\n",
      "Int64Index: 26292 entries, 0 to 26291\n",
      "Data columns (total 11 columns):\n",
      "Id                         26292 non-null int64\n",
      "Province_State             11172 non-null object\n",
      "Country_Region             26292 non-null object\n",
      "Date                       26292 non-null object\n",
      "ConfirmedCases             26292 non-null float64\n",
      "Fatalities                 26292 non-null float64\n",
      "Country (or dependency)    20580 non-null object\n",
      "Population (2020)          20580 non-null float64\n",
      "Density                    20580 non-null float64\n",
      "Med. Age                   20580 non-null object\n",
      "Urban Pop %                20580 non-null object\n",
      "dtypes: float64(4), int64(1), object(6)\n",
      "memory usage: 2.4+ MB\n"
     ]
    }
   ],
   "source": [
    "train_df_pop.info()"
   ]
  },
  {
   "cell_type": "code",
   "execution_count": 17,
   "metadata": {},
   "outputs": [],
   "source": [
    "#Some of the names don't match with the file, hence manually setting them\n",
    "train_df_pop.loc[train_df_pop[\"Country_Region\"]==\"US\", [\"Population (2020)\"]]=331002651 #United Sates\n",
    "train_df_pop.loc[train_df_pop[\"Country_Region\"]==\"US\", [\"Density\"]]=36\n",
    "train_df_pop.loc[train_df_pop[\"Country_Region\"]==\"US\", [\"Med. Age\"]]=38\n",
    "train_df_pop.loc[train_df_pop[\"Country_Region\"]==\"US\", [\"Urban Pop %\"]]=\"83%\"\n",
    "train_df_pop.loc[train_df_pop[\"Country_Region\"]==\"Burma\", [\"Population (2020)\"]]=54409800 #Myanmar\n",
    "train_df_pop.loc[train_df_pop[\"Country_Region\"]==\"Burma\", [\"Density\"]]=83\n",
    "train_df_pop.loc[train_df_pop[\"Country_Region\"]==\"Burma\", [\"Med. Age\"]]=29\n",
    "train_df_pop.loc[train_df_pop[\"Country_Region\"]==\"Burma\", [\"Urban Pop %\"]]=\"39%\"\n",
    "train_df_pop.loc[train_df_pop[\"Country_Region\"]==\"Sao Tome and Principe\", [\"Population (2020)\"]]=219159 #Sao Tome & Principe\n",
    "train_df_pop.loc[train_df_pop[\"Country_Region\"]==\"Sao Tome and Principe\", [\"Density\"]]=228\n",
    "train_df_pop.loc[train_df_pop[\"Country_Region\"]==\"Sao Tome and Principe\", [\"Med. Age\"]]=19\n",
    "train_df_pop.loc[train_df_pop[\"Country_Region\"]==\"Sao Tome and Principe\", [\"Urban Pop %\"]]=\"74%\"\n",
    "train_df_pop.loc[train_df_pop[\"Country_Region\"]==\"West Bank and Gaza\", [\"Population (2020)\"]]=3340143 #Google Search\n",
    "train_df_pop.loc[train_df_pop[\"Country_Region\"]==\"West Bank and Gaza\", [\"Density\"]]=759\n",
    "train_df_pop.loc[train_df_pop[\"Country_Region\"]==\"West Bank and Gaza\", [\"Med. Age\"]]=17\n",
    "train_df_pop.loc[train_df_pop[\"Country_Region\"]==\"West Bank and Gaza\", [\"Urban Pop %\"]]=\"76%\"\n",
    "train_df_pop.loc[train_df_pop[\"Country_Region\"]==\"Kosovo\", [\"Population (2020)\"]]=1810463 #Taken from Wikipedia\n",
    "train_df_pop.loc[train_df_pop[\"Country_Region\"]==\"Kosovo\", [\"Density\"]]=159\n",
    "train_df_pop.loc[train_df_pop[\"Country_Region\"]==\"Kosovo\", [\"Med. Age\"]]=29\n",
    "train_df_pop.loc[train_df_pop[\"Country_Region\"]==\"Kosovo\", [\"Urban Pop %\"]]=\"55%\"\n",
    "train_df_pop.loc[train_df_pop[\"Country_Region\"]==\"Korea, South\", [\"Population (2020)\"]]=51269185 #South Korea\n",
    "train_df_pop.loc[train_df_pop[\"Country_Region\"]==\"Korea, South\", [\"Density\"]]=527\n",
    "train_df_pop.loc[train_df_pop[\"Country_Region\"]==\"Korea, South\", [\"Med. Age\"]]=44\n",
    "train_df_pop.loc[train_df_pop[\"Country_Region\"]==\"Korea, South\", [\"Urban Pop %\"]]=\"82%\"\n",
    "train_df_pop.loc[train_df_pop[\"Country_Region\"]==\"Czechia\", [\"Population (2020)\"]]=10708981 #Czech Republic\n",
    "train_df_pop.loc[train_df_pop[\"Country_Region\"]==\"Czechia\", [\"Density\"]]=139\n",
    "train_df_pop.loc[train_df_pop[\"Country_Region\"]==\"Czechia\", [\"Med. Age\"]]=43\n",
    "train_df_pop.loc[train_df_pop[\"Country_Region\"]==\"Czechia\", [\"Urban Pop %\"]]=\"74%\"\n",
    "train_df_pop.loc[train_df_pop[\"Country_Region\"]==\"Taiwan*\", [\"Population (2020)\"]]=23816775 #Taiwan\n",
    "train_df_pop.loc[train_df_pop[\"Country_Region\"]==\"Taiwan*\", [\"Density\"]]=673\n",
    "train_df_pop.loc[train_df_pop[\"Country_Region\"]==\"Taiwan*\", [\"Med. Age\"]]=42\n",
    "train_df_pop.loc[train_df_pop[\"Country_Region\"]==\"Taiwan*\", [\"Urban Pop %\"]]=\"79%\"\n",
    "train_df_pop.loc[train_df_pop[\"Country_Region\"]==\"Congo (Kinshasa)\", [\"Population (2020)\"]]=89561403 #DR Congo\n",
    "train_df_pop.loc[train_df_pop[\"Country_Region\"]==\"Congo (Kinshasa)\", [\"Density\"]]=40\n",
    "train_df_pop.loc[train_df_pop[\"Country_Region\"]==\"Congo (Kinshasa)\", [\"Med. Age\"]]=17\n",
    "train_df_pop.loc[train_df_pop[\"Country_Region\"]==\"Congo (Kinshasa)\", [\"Urban Pop %\"]]=\"46%\"\n",
    "train_df_pop.loc[train_df_pop[\"Country_Region\"]==\"Congo (Brazzaville)\", [\"Population (2020)\"]]=5518087 #Congo\n",
    "train_df_pop.loc[train_df_pop[\"Country_Region\"]==\"Congo (Brazzaville)\", [\"Density\"]]=16\n",
    "train_df_pop.loc[train_df_pop[\"Country_Region\"]==\"Congo (Brazzaville)\", [\"Med. Age\"]]=19\n",
    "train_df_pop.loc[train_df_pop[\"Country_Region\"]==\"Congo (Brazzaville)\", [\"Urban Pop %\"]]=\"70%\"\n",
    "train_df_pop.loc[train_df_pop[\"Country_Region\"]==\"Cote d'Ivoire\", [\"Population (2020)\"]]=26378274 #CÃ´te d'Ivoire\n",
    "train_df_pop.loc[train_df_pop[\"Country_Region\"]==\"Cote d'Ivoire\", [\"Density\"]]=83\n",
    "train_df_pop.loc[train_df_pop[\"Country_Region\"]==\"Cote d'Ivoire\", [\"Med. Age\"]]=19\n",
    "train_df_pop.loc[train_df_pop[\"Country_Region\"]==\"Cote d'Ivoire\", [\"Urban Pop %\"]]=\"51%\"\n",
    "train_df_pop.loc[train_df_pop[\"Country_Region\"]==\"Saint Kitts and Nevis\", [\"Population (2020)\"]]=53199 #Saint Kitts & Nevis\n",
    "train_df_pop.loc[train_df_pop[\"Country_Region\"]==\"Saint Kitts and Nevis\", [\"Density\"]]=205\n",
    "train_df_pop.loc[train_df_pop[\"Country_Region\"]==\"Saint Kitts and Nevis\", [\"Med. Age\"]]=36\n",
    "train_df_pop.loc[train_df_pop[\"Country_Region\"]==\"Saint Kitts and Nevis\", [\"Urban Pop %\"]]=\"33%\"\n",
    "train_df_pop.loc[train_df_pop[\"Country_Region\"]==\"Saint Vincent and the Grenadines\", [\"Population (2020)\"]]=110940 #St. Vincent & Grenadines\n",
    "train_df_pop.loc[train_df_pop[\"Country_Region\"]==\"Saint Vincent and the Grenadines\", [\"Density\"]]=284\n",
    "train_df_pop.loc[train_df_pop[\"Country_Region\"]==\"Saint Vincent and the Grenadines\", [\"Med. Age\"]]=33\n",
    "train_df_pop.loc[train_df_pop[\"Country_Region\"]==\"Saint Vincent and the Grenadines\", [\"Urban Pop %\"]]=\"53%\"\n",
    "train_df_pop.loc[train_df_pop[\"Country_Region\"]==\"Diamond Princess\", [\"Population (2020)\"]]=3770 #Population and density are same since it is a cruise ship\n",
    "train_df_pop.loc[train_df_pop[\"Country_Region\"]==\"Diamond Princess\", [\"Density\"]]=3770\n",
    "train_df_pop.loc[train_df_pop[\"Country_Region\"]==\"Diamond Princess\", [\"Med. Age\"]]=62\n",
    "train_df_pop.loc[train_df_pop[\"Country_Region\"]==\"Diamond Princess\", [\"Urban Pop %\"]]=\"100%\"\n",
    "train_df_pop.loc[train_df_pop[\"Country_Region\"]==\"MS Zaandam\", [\"Population (2020)\"]]=1432 #Population and density are same since it is a cruise ship\n",
    "train_df_pop.loc[train_df_pop[\"Country_Region\"]==\"MS Zaandam\", [\"Density\"]]=1432\n",
    "train_df_pop.loc[train_df_pop[\"Country_Region\"]==\"MS Zaandam\", [\"Med. Age\"]]=65\n",
    "train_df_pop.loc[train_df_pop[\"Country_Region\"]==\"MS Zaandam\", [\"Urban Pop %\"]]=\"100%\""
   ]
  },
  {
   "cell_type": "code",
   "execution_count": 18,
   "metadata": {},
   "outputs": [],
   "source": [
    "test_df_pop=pd.merge(test_df, country_lookup, how='left', left_on='Country_Region', right_on='Country (or dependency)')\n",
    "#Test data joined with population data"
   ]
  },
  {
   "cell_type": "code",
   "execution_count": 19,
   "metadata": {},
   "outputs": [],
   "source": [
    "#Some of the names don't match with the file, hence manually setting them\n",
    "test_df_pop.loc[test_df_pop[\"Country_Region\"]==\"US\", [\"Population (2020)\"]]=331002651 #United Sates\n",
    "test_df_pop.loc[test_df_pop[\"Country_Region\"]==\"US\", [\"Density\"]]=36\n",
    "test_df_pop.loc[test_df_pop[\"Country_Region\"]==\"US\", [\"Med. Age\"]]=38\n",
    "test_df_pop.loc[test_df_pop[\"Country_Region\"]==\"US\", [\"Urban Pop %\"]]=\"83%\"\n",
    "test_df_pop.loc[test_df_pop[\"Country_Region\"]==\"Burma\", [\"Population (2020)\"]]=54409800 #Myanmar\n",
    "test_df_pop.loc[test_df_pop[\"Country_Region\"]==\"Burma\", [\"Density\"]]=83\n",
    "test_df_pop.loc[test_df_pop[\"Country_Region\"]==\"Burma\", [\"Med. Age\"]]=29\n",
    "test_df_pop.loc[test_df_pop[\"Country_Region\"]==\"Burma\", [\"Urban Pop %\"]]=\"39%\"\n",
    "test_df_pop.loc[test_df_pop[\"Country_Region\"]==\"Sao Tome and Principe\", [\"Population (2020)\"]]=219159 #Sao Tome & Principe\n",
    "test_df_pop.loc[test_df_pop[\"Country_Region\"]==\"Sao Tome and Principe\", [\"Density\"]]=228\n",
    "test_df_pop.loc[test_df_pop[\"Country_Region\"]==\"Sao Tome and Principe\", [\"Med. Age\"]]=19\n",
    "test_df_pop.loc[test_df_pop[\"Country_Region\"]==\"Sao Tome and Principe\", [\"Urban Pop %\"]]=\"74%\"\n",
    "test_df_pop.loc[test_df_pop[\"Country_Region\"]==\"West Bank and Gaza\", [\"Population (2020)\"]]=3340143 #Google Search\n",
    "test_df_pop.loc[test_df_pop[\"Country_Region\"]==\"West Bank and Gaza\", [\"Density\"]]=759\n",
    "test_df_pop.loc[test_df_pop[\"Country_Region\"]==\"West Bank and Gaza\", [\"Med. Age\"]]=17\n",
    "test_df_pop.loc[test_df_pop[\"Country_Region\"]==\"West Bank and Gaza\", [\"Urban Pop %\"]]=\"76%\"\n",
    "test_df_pop.loc[test_df_pop[\"Country_Region\"]==\"Kosovo\", [\"Population (2020)\"]]=1810463 #Taken from Wikipedia\n",
    "test_df_pop.loc[test_df_pop[\"Country_Region\"]==\"Kosovo\", [\"Density\"]]=159\n",
    "test_df_pop.loc[test_df_pop[\"Country_Region\"]==\"Kosovo\", [\"Med. Age\"]]=29\n",
    "test_df_pop.loc[test_df_pop[\"Country_Region\"]==\"Kosovo\", [\"Urban Pop %\"]]=\"55%\"\n",
    "test_df_pop.loc[test_df_pop[\"Country_Region\"]==\"Korea, South\", [\"Population (2020)\"]]=51269185 #South Korea\n",
    "test_df_pop.loc[test_df_pop[\"Country_Region\"]==\"Korea, South\", [\"Density\"]]=527\n",
    "test_df_pop.loc[test_df_pop[\"Country_Region\"]==\"Korea, South\", [\"Med. Age\"]]=44\n",
    "test_df_pop.loc[test_df_pop[\"Country_Region\"]==\"Korea, South\", [\"Urban Pop %\"]]=\"82%\"\n",
    "test_df_pop.loc[test_df_pop[\"Country_Region\"]==\"Czechia\", [\"Population (2020)\"]]=10708981 #Czech Republic\n",
    "test_df_pop.loc[test_df_pop[\"Country_Region\"]==\"Czechia\", [\"Density\"]]=139\n",
    "test_df_pop.loc[test_df_pop[\"Country_Region\"]==\"Czechia\", [\"Med. Age\"]]=43\n",
    "test_df_pop.loc[test_df_pop[\"Country_Region\"]==\"Czechia\", [\"Urban Pop %\"]]=\"74%\"\n",
    "test_df_pop.loc[test_df_pop[\"Country_Region\"]==\"Taiwan*\", [\"Population (2020)\"]]=23816775 #Taiwan\n",
    "test_df_pop.loc[test_df_pop[\"Country_Region\"]==\"Taiwan*\", [\"Density\"]]=673\n",
    "test_df_pop.loc[test_df_pop[\"Country_Region\"]==\"Taiwan*\", [\"Med. Age\"]]=42\n",
    "test_df_pop.loc[test_df_pop[\"Country_Region\"]==\"Taiwan*\", [\"Urban Pop %\"]]=\"79%\"\n",
    "test_df_pop.loc[test_df_pop[\"Country_Region\"]==\"Congo (Kinshasa)\", [\"Population (2020)\"]]=89561403 #DR Congo\n",
    "test_df_pop.loc[test_df_pop[\"Country_Region\"]==\"Congo (Kinshasa)\", [\"Density\"]]=40\n",
    "test_df_pop.loc[test_df_pop[\"Country_Region\"]==\"Congo (Kinshasa)\", [\"Med. Age\"]]=17\n",
    "test_df_pop.loc[test_df_pop[\"Country_Region\"]==\"Congo (Kinshasa)\", [\"Urban Pop %\"]]=\"46%\"\n",
    "test_df_pop.loc[test_df_pop[\"Country_Region\"]==\"Congo (Brazzaville)\", [\"Population (2020)\"]]=5518087 #Congo\n",
    "test_df_pop.loc[test_df_pop[\"Country_Region\"]==\"Congo (Brazzaville)\", [\"Density\"]]=16\n",
    "test_df_pop.loc[test_df_pop[\"Country_Region\"]==\"Congo (Brazzaville)\", [\"Med. Age\"]]=19\n",
    "test_df_pop.loc[test_df_pop[\"Country_Region\"]==\"Congo (Brazzaville)\", [\"Urban Pop %\"]]=\"70%\"\n",
    "test_df_pop.loc[test_df_pop[\"Country_Region\"]==\"Cote d'Ivoire\", [\"Population (2020)\"]]=26378274 #CÃ´te d'Ivoire\n",
    "test_df_pop.loc[test_df_pop[\"Country_Region\"]==\"Cote d'Ivoire\", [\"Density\"]]=83\n",
    "test_df_pop.loc[test_df_pop[\"Country_Region\"]==\"Cote d'Ivoire\", [\"Med. Age\"]]=19\n",
    "test_df_pop.loc[test_df_pop[\"Country_Region\"]==\"Cote d'Ivoire\", [\"Urban Pop %\"]]=\"51%\"\n",
    "test_df_pop.loc[test_df_pop[\"Country_Region\"]==\"Saint Kitts and Nevis\", [\"Population (2020)\"]]=53199 #Saint Kitts & Nevis\n",
    "test_df_pop.loc[test_df_pop[\"Country_Region\"]==\"Saint Kitts and Nevis\", [\"Density\"]]=205\n",
    "test_df_pop.loc[test_df_pop[\"Country_Region\"]==\"Saint Kitts and Nevis\", [\"Med. Age\"]]=36\n",
    "test_df_pop.loc[test_df_pop[\"Country_Region\"]==\"Saint Kitts and Nevis\", [\"Urban Pop %\"]]=\"33%\"\n",
    "test_df_pop.loc[test_df_pop[\"Country_Region\"]==\"Saint Vincent and the Grenadines\", [\"Population (2020)\"]]=110940 #St. Vincent & Grenadines\n",
    "test_df_pop.loc[test_df_pop[\"Country_Region\"]==\"Saint Vincent and the Grenadines\", [\"Density\"]]=284\n",
    "test_df_pop.loc[test_df_pop[\"Country_Region\"]==\"Saint Vincent and the Grenadines\", [\"Med. Age\"]]=33\n",
    "test_df_pop.loc[test_df_pop[\"Country_Region\"]==\"Saint Vincent and the Grenadines\", [\"Urban Pop %\"]]=\"53%\"\n",
    "test_df_pop.loc[test_df_pop[\"Country_Region\"]==\"Diamond Princess\", [\"Population (2020)\"]]=3770 #Population and density are same since it is a cruise ship\n",
    "test_df_pop.loc[test_df_pop[\"Country_Region\"]==\"Diamond Princess\", [\"Density\"]]=3770\n",
    "test_df_pop.loc[test_df_pop[\"Country_Region\"]==\"Diamond Princess\", [\"Med. Age\"]]=62\n",
    "test_df_pop.loc[test_df_pop[\"Country_Region\"]==\"Diamond Princess\", [\"Urban Pop %\"]]=\"100%\"\n",
    "test_df_pop.loc[test_df_pop[\"Country_Region\"]==\"MS Zaandam\", [\"Population (2020)\"]]=1432 #Population and density are same since it is a cruise ship\n",
    "test_df_pop.loc[test_df_pop[\"Country_Region\"]==\"MS Zaandam\", [\"Density\"]]=1432\n",
    "test_df_pop.loc[test_df_pop[\"Country_Region\"]==\"MS Zaandam\", [\"Med. Age\"]]=65\n",
    "test_df_pop.loc[test_df_pop[\"Country_Region\"]==\"MS Zaandam\", [\"Urban Pop %\"]]=\"100%\""
   ]
  },
  {
   "cell_type": "code",
   "execution_count": 20,
   "metadata": {},
   "outputs": [
    {
     "data": {
      "text/plain": [
       "Id                             0\n",
       "Province_State             15120\n",
       "Country_Region                 0\n",
       "Date                           0\n",
       "ConfirmedCases                 0\n",
       "Fatalities                     0\n",
       "Country (or dependency)     5712\n",
       "Population (2020)              0\n",
       "Density                        0\n",
       "Med. Age                       0\n",
       "Urban Pop %                    0\n",
       "dtype: int64"
      ]
     },
     "execution_count": 20,
     "metadata": {},
     "output_type": "execute_result"
    }
   ],
   "source": [
    "train_df_pop.isnull().sum()"
   ]
  },
  {
   "cell_type": "code",
   "execution_count": 21,
   "metadata": {},
   "outputs": [
    {
     "data": {
      "text/plain": [
       "ForecastId                    0\n",
       "Province_State             7740\n",
       "Country_Region                0\n",
       "Date                          0\n",
       "Country (or dependency)    2924\n",
       "Population (2020)             0\n",
       "Density                       0\n",
       "Med. Age                      0\n",
       "Urban Pop %                   0\n",
       "dtype: int64"
      ]
     },
     "execution_count": 21,
     "metadata": {},
     "output_type": "execute_result"
    }
   ],
   "source": [
    "test_df_pop.isnull().sum()"
   ]
  },
  {
   "cell_type": "code",
   "execution_count": 22,
   "metadata": {},
   "outputs": [],
   "source": [
    "train_df_pop.drop(\"Country (or dependency)\", axis=1, inplace=True)\n",
    "test_df_pop.drop(\"Country (or dependency)\", axis=1, inplace=True)\n",
    "#Irrelevant columns"
   ]
  },
  {
   "cell_type": "code",
   "execution_count": 23,
   "metadata": {},
   "outputs": [],
   "source": [
    "train_df_pop.rename(columns={'Country_Region':'Country'}, inplace=True)\n",
    "test_df_pop.rename(columns={'Country_Region':'Country'}, inplace=True)\n",
    "\n",
    "train_df_pop.rename(columns={'Province_State':'State'}, inplace=True)\n",
    "test_df_pop.rename(columns={'Province_State':'State'}, inplace=True)"
   ]
  },
  {
   "cell_type": "code",
   "execution_count": 24,
   "metadata": {},
   "outputs": [],
   "source": [
    "#Creating a new column-\"day_from_jan_first\"\n",
    "mo = train_df_pop['Date'].apply(lambda x: x[5:7])\n",
    "da = train_df_pop['Date'].apply(lambda x: x[8:10])\n",
    "mo_test = test_df_pop['Date'].apply(lambda x: x[5:7])\n",
    "da_test = test_df_pop['Date'].apply(lambda x: x[8:10])\n",
    "train_df_pop['day_from_jan_first'] = (da.apply(int)\n",
    "                               + 31*(mo=='02') \n",
    "                               + 60*(mo=='03')\n",
    "                               + 91*(mo=='04')  \n",
    "                              )\n",
    "test_df_pop['day_from_jan_first'] = (da_test.apply(int)\n",
    "                               + 31*(mo_test=='02') \n",
    "                               + 60*(mo_test=='03')\n",
    "                               + 91*(mo_test=='04')  \n",
    "                              )"
   ]
  },
  {
   "cell_type": "code",
   "execution_count": 25,
   "metadata": {},
   "outputs": [],
   "source": [
    "train_df_pop[\"Date\"] = train_df_pop[\"Date\"].apply(lambda x:x.replace(\"-\",\"\"))\n",
    "train_df_pop[\"Date\"] = train_df_pop[\"Date\"].astype(int)"
   ]
  },
  {
   "cell_type": "code",
   "execution_count": 26,
   "metadata": {},
   "outputs": [],
   "source": [
    "test_df_pop[\"Date\"] = test_df_pop[\"Date\"].apply(lambda x:x.replace(\"-\",\"\"))\n",
    "test_df_pop[\"Date\"] = test_df_pop[\"Date\"].astype(int)"
   ]
  },
  {
   "cell_type": "code",
   "execution_count": 27,
   "metadata": {},
   "outputs": [],
   "source": [
    "#Function to fill empty state values\n",
    "EMPTY_VAL = \"EMPTY_VAL\"\n",
    "\n",
    "def fillState(state, country):\n",
    "    if state == EMPTY_VAL: return country\n",
    "    return state"
   ]
  },
  {
   "cell_type": "code",
   "execution_count": 28,
   "metadata": {},
   "outputs": [],
   "source": [
    "train_copy = train_df_pop.copy()\n",
    "#Copy of train set"
   ]
  },
  {
   "cell_type": "code",
   "execution_count": 29,
   "metadata": {},
   "outputs": [],
   "source": [
    "train_copy['State'].fillna(EMPTY_VAL, inplace=True)\n",
    "train_copy['State'] = train_copy.loc[:, ['State', 'Country']].apply(lambda x : fillState(x['State'], x['Country']), axis=1)"
   ]
  },
  {
   "cell_type": "code",
   "execution_count": 30,
   "metadata": {},
   "outputs": [
    {
     "data": {
      "text/html": [
       "<div>\n",
       "<style scoped>\n",
       "    .dataframe tbody tr th:only-of-type {\n",
       "        vertical-align: middle;\n",
       "    }\n",
       "\n",
       "    .dataframe tbody tr th {\n",
       "        vertical-align: top;\n",
       "    }\n",
       "\n",
       "    .dataframe thead th {\n",
       "        text-align: right;\n",
       "    }\n",
       "</style>\n",
       "<table border=\"1\" class=\"dataframe\">\n",
       "  <thead>\n",
       "    <tr style=\"text-align: right;\">\n",
       "      <th></th>\n",
       "      <th>Id</th>\n",
       "      <th>State</th>\n",
       "      <th>Country</th>\n",
       "      <th>Date</th>\n",
       "      <th>ConfirmedCases</th>\n",
       "      <th>Fatalities</th>\n",
       "      <th>Population (2020)</th>\n",
       "      <th>Density</th>\n",
       "      <th>Med. Age</th>\n",
       "      <th>Urban Pop %</th>\n",
       "      <th>day_from_jan_first</th>\n",
       "    </tr>\n",
       "  </thead>\n",
       "  <tbody>\n",
       "    <tr>\n",
       "      <th>0</th>\n",
       "      <td>1</td>\n",
       "      <td>Afghanistan</td>\n",
       "      <td>Afghanistan</td>\n",
       "      <td>20200122</td>\n",
       "      <td>0.0</td>\n",
       "      <td>0.0</td>\n",
       "      <td>38728504.0</td>\n",
       "      <td>60.0</td>\n",
       "      <td>18</td>\n",
       "      <td>25 %</td>\n",
       "      <td>22</td>\n",
       "    </tr>\n",
       "    <tr>\n",
       "      <th>1</th>\n",
       "      <td>2</td>\n",
       "      <td>Afghanistan</td>\n",
       "      <td>Afghanistan</td>\n",
       "      <td>20200123</td>\n",
       "      <td>0.0</td>\n",
       "      <td>0.0</td>\n",
       "      <td>38728504.0</td>\n",
       "      <td>60.0</td>\n",
       "      <td>18</td>\n",
       "      <td>25 %</td>\n",
       "      <td>23</td>\n",
       "    </tr>\n",
       "    <tr>\n",
       "      <th>2</th>\n",
       "      <td>3</td>\n",
       "      <td>Afghanistan</td>\n",
       "      <td>Afghanistan</td>\n",
       "      <td>20200124</td>\n",
       "      <td>0.0</td>\n",
       "      <td>0.0</td>\n",
       "      <td>38728504.0</td>\n",
       "      <td>60.0</td>\n",
       "      <td>18</td>\n",
       "      <td>25 %</td>\n",
       "      <td>24</td>\n",
       "    </tr>\n",
       "    <tr>\n",
       "      <th>3</th>\n",
       "      <td>4</td>\n",
       "      <td>Afghanistan</td>\n",
       "      <td>Afghanistan</td>\n",
       "      <td>20200125</td>\n",
       "      <td>0.0</td>\n",
       "      <td>0.0</td>\n",
       "      <td>38728504.0</td>\n",
       "      <td>60.0</td>\n",
       "      <td>18</td>\n",
       "      <td>25 %</td>\n",
       "      <td>25</td>\n",
       "    </tr>\n",
       "    <tr>\n",
       "      <th>4</th>\n",
       "      <td>5</td>\n",
       "      <td>Afghanistan</td>\n",
       "      <td>Afghanistan</td>\n",
       "      <td>20200126</td>\n",
       "      <td>0.0</td>\n",
       "      <td>0.0</td>\n",
       "      <td>38728504.0</td>\n",
       "      <td>60.0</td>\n",
       "      <td>18</td>\n",
       "      <td>25 %</td>\n",
       "      <td>26</td>\n",
       "    </tr>\n",
       "  </tbody>\n",
       "</table>\n",
       "</div>"
      ],
      "text/plain": [
       "   Id        State      Country      Date  ConfirmedCases  Fatalities  \\\n",
       "0   1  Afghanistan  Afghanistan  20200122             0.0         0.0   \n",
       "1   2  Afghanistan  Afghanistan  20200123             0.0         0.0   \n",
       "2   3  Afghanistan  Afghanistan  20200124             0.0         0.0   \n",
       "3   4  Afghanistan  Afghanistan  20200125             0.0         0.0   \n",
       "4   5  Afghanistan  Afghanistan  20200126             0.0         0.0   \n",
       "\n",
       "   Population (2020)  Density Med. Age Urban Pop %  day_from_jan_first  \n",
       "0         38728504.0     60.0       18        25 %                  22  \n",
       "1         38728504.0     60.0       18        25 %                  23  \n",
       "2         38728504.0     60.0       18        25 %                  24  \n",
       "3         38728504.0     60.0       18        25 %                  25  \n",
       "4         38728504.0     60.0       18        25 %                  26  "
      ]
     },
     "execution_count": 30,
     "metadata": {},
     "output_type": "execute_result"
    }
   ],
   "source": [
    "train_copy.head()"
   ]
  },
  {
   "cell_type": "code",
   "execution_count": 31,
   "metadata": {},
   "outputs": [],
   "source": [
    "test_copy = test_df_pop.copy()"
   ]
  },
  {
   "cell_type": "code",
   "execution_count": 32,
   "metadata": {},
   "outputs": [],
   "source": [
    "test_copy['State'].fillna(EMPTY_VAL, inplace=True)\n",
    "test_copy['State'] = test_copy.loc[:, ['State', 'Country']].apply(lambda x : fillState(x['State'], x['Country']), axis=1)"
   ]
  },
  {
   "cell_type": "code",
   "execution_count": 33,
   "metadata": {},
   "outputs": [
    {
     "data": {
      "text/html": [
       "<div>\n",
       "<style scoped>\n",
       "    .dataframe tbody tr th:only-of-type {\n",
       "        vertical-align: middle;\n",
       "    }\n",
       "\n",
       "    .dataframe tbody tr th {\n",
       "        vertical-align: top;\n",
       "    }\n",
       "\n",
       "    .dataframe thead th {\n",
       "        text-align: right;\n",
       "    }\n",
       "</style>\n",
       "<table border=\"1\" class=\"dataframe\">\n",
       "  <thead>\n",
       "    <tr style=\"text-align: right;\">\n",
       "      <th></th>\n",
       "      <th>ForecastId</th>\n",
       "      <th>State</th>\n",
       "      <th>Country</th>\n",
       "      <th>Date</th>\n",
       "      <th>Population (2020)</th>\n",
       "      <th>Density</th>\n",
       "      <th>Med. Age</th>\n",
       "      <th>Urban Pop %</th>\n",
       "      <th>day_from_jan_first</th>\n",
       "    </tr>\n",
       "  </thead>\n",
       "  <tbody>\n",
       "    <tr>\n",
       "      <th>0</th>\n",
       "      <td>1</td>\n",
       "      <td>Afghanistan</td>\n",
       "      <td>Afghanistan</td>\n",
       "      <td>20200402</td>\n",
       "      <td>38728504.0</td>\n",
       "      <td>60.0</td>\n",
       "      <td>18</td>\n",
       "      <td>25 %</td>\n",
       "      <td>93</td>\n",
       "    </tr>\n",
       "    <tr>\n",
       "      <th>1</th>\n",
       "      <td>2</td>\n",
       "      <td>Afghanistan</td>\n",
       "      <td>Afghanistan</td>\n",
       "      <td>20200403</td>\n",
       "      <td>38728504.0</td>\n",
       "      <td>60.0</td>\n",
       "      <td>18</td>\n",
       "      <td>25 %</td>\n",
       "      <td>94</td>\n",
       "    </tr>\n",
       "    <tr>\n",
       "      <th>2</th>\n",
       "      <td>3</td>\n",
       "      <td>Afghanistan</td>\n",
       "      <td>Afghanistan</td>\n",
       "      <td>20200404</td>\n",
       "      <td>38728504.0</td>\n",
       "      <td>60.0</td>\n",
       "      <td>18</td>\n",
       "      <td>25 %</td>\n",
       "      <td>95</td>\n",
       "    </tr>\n",
       "    <tr>\n",
       "      <th>3</th>\n",
       "      <td>4</td>\n",
       "      <td>Afghanistan</td>\n",
       "      <td>Afghanistan</td>\n",
       "      <td>20200405</td>\n",
       "      <td>38728504.0</td>\n",
       "      <td>60.0</td>\n",
       "      <td>18</td>\n",
       "      <td>25 %</td>\n",
       "      <td>96</td>\n",
       "    </tr>\n",
       "    <tr>\n",
       "      <th>4</th>\n",
       "      <td>5</td>\n",
       "      <td>Afghanistan</td>\n",
       "      <td>Afghanistan</td>\n",
       "      <td>20200406</td>\n",
       "      <td>38728504.0</td>\n",
       "      <td>60.0</td>\n",
       "      <td>18</td>\n",
       "      <td>25 %</td>\n",
       "      <td>97</td>\n",
       "    </tr>\n",
       "  </tbody>\n",
       "</table>\n",
       "</div>"
      ],
      "text/plain": [
       "   ForecastId        State      Country      Date  Population (2020)  Density  \\\n",
       "0           1  Afghanistan  Afghanistan  20200402         38728504.0     60.0   \n",
       "1           2  Afghanistan  Afghanistan  20200403         38728504.0     60.0   \n",
       "2           3  Afghanistan  Afghanistan  20200404         38728504.0     60.0   \n",
       "3           4  Afghanistan  Afghanistan  20200405         38728504.0     60.0   \n",
       "4           5  Afghanistan  Afghanistan  20200406         38728504.0     60.0   \n",
       "\n",
       "  Med. Age Urban Pop %  day_from_jan_first  \n",
       "0       18        25 %                  93  \n",
       "1       18        25 %                  94  \n",
       "2       18        25 %                  95  \n",
       "3       18        25 %                  96  \n",
       "4       18        25 %                  97  "
      ]
     },
     "execution_count": 33,
     "metadata": {},
     "output_type": "execute_result"
    }
   ],
   "source": [
    "test_copy.head()"
   ]
  },
  {
   "cell_type": "markdown",
   "metadata": {},
   "source": [
    "## Extracting continent name"
   ]
  },
  {
   "cell_type": "code",
   "execution_count": 34,
   "metadata": {},
   "outputs": [],
   "source": [
    "#Function to check for invalid Country names\n",
    "#https://medium.com/@richamonga86/do-you-want-to-check-if-country-name-coming-in-your-data-is-correct-or-not-5583cee1b960\n",
    "def country_name_check():\n",
    "    pycntrylst = list(pycountry.countries)\n",
    "    alpha_2 = []\n",
    "    alpha_3 = []\n",
    "    name = []\n",
    "    common_name = []\n",
    "    official_name = []\n",
    "    invalid_countrynames =[]\n",
    "    tobe_deleted = ['IRAN','SOUTH KOREA','NORTH KOREA','SUDAN','MACAU','REPUBLIC OF IRELAND']\n",
    "    for i in pycntrylst:\n",
    "        alpha_2.append(i.alpha_2)\n",
    "        alpha_3.append(i.alpha_3)\n",
    "        name.append(i.name)\n",
    "        if hasattr(i, \"common_name\"):\n",
    "            common_name.append(i.common_name)\n",
    "        else:\n",
    "            common_name.append(\"\")\n",
    "        if hasattr(i, \"official_name\"):\n",
    "            official_name.append(i.official_name)\n",
    "        else:\n",
    "            official_name.append(\"\")\n",
    "    for j in country_list:\n",
    "        if j not in map(str.upper,alpha_2) and j not in map(str.upper,alpha_3) and j not in map(str.upper,name) and j not in map(str.upper,common_name) and j not in map(str.upper,official_name):\n",
    "            invalid_countrynames.append(j)\n",
    "    invalid_countrynames = list(set(invalid_countrynames))\n",
    "    invalid_countrynames = [item for item in invalid_countrynames if item not in tobe_deleted]\n",
    "    return print(invalid_countrynames)"
   ]
  },
  {
   "cell_type": "code",
   "execution_count": 35,
   "metadata": {},
   "outputs": [],
   "source": [
    "country_list=list(train_copy[\"Country\"])"
   ]
  },
  {
   "cell_type": "code",
   "execution_count": 36,
   "metadata": {},
   "outputs": [],
   "source": [
    "country_list=[element.upper() for element in country_list]"
   ]
  },
  {
   "cell_type": "code",
   "execution_count": 37,
   "metadata": {},
   "outputs": [
    {
     "name": "stdout",
     "output_type": "stream",
     "text": [
      "['MS ZAANDAM', 'BURMA', 'KOREA, SOUTH', 'LAOS', 'CONGO (KINSHASA)', 'SYRIA', 'TAIWAN*', 'WEST BANK AND GAZA', 'RUSSIA', \"COTE D'IVOIRE\", 'CONGO (BRAZZAVILLE)', 'DIAMOND PRINCESS', 'KOSOVO', 'BRUNEI', 'HOLY SEE']\n"
     ]
    }
   ],
   "source": [
    "country_name_check()\n",
    "#Invalid country names"
   ]
  },
  {
   "cell_type": "code",
   "execution_count": 38,
   "metadata": {},
   "outputs": [],
   "source": [
    "#Final function to extract continent name\n",
    "@functools.lru_cache(maxsize=128)\n",
    "def do_fuzzy_search(country):\n",
    "    try:\n",
    "        result = pycountry.countries.search_fuzzy(country)\n",
    "    except Exception:\n",
    "        if country in ['Congo (Brazzaville)', \"Cote d'Ivoire\", 'MS Zaandam', 'Diamond Princess', 'Holy See', 'Syria', 'West Bank and Gaza', 'Kosovo', 'Russia', 'Taiwan*', 'Korea, South', 'Burma', 'Congo (Kinshasa)', 'Laos', 'Brunei']:\n",
    "            return np.nan\n",
    "    else:\n",
    "        return pc.convert_continent_code_to_continent_name(pc.country_alpha2_to_continent_code(result[0].alpha_2))"
   ]
  },
  {
   "cell_type": "code",
   "execution_count": 39,
   "metadata": {},
   "outputs": [],
   "source": [
    "train_copy.loc[train_copy[\"Country\"]==\"Holy See\", [\"Country\"]]=\"Rome\"\n",
    "train_copy.loc[train_copy[\"Country\"]==\"Timor-Leste\", [\"Country\"]]=\"Bali\"\n",
    "train_copy.loc[train_copy[\"Country\"]==\"Western Sahara\", [\"Country\"]]=\"Rabat\"\n",
    "#This step is being done because otherwise an error is popping up, ie-\n",
    "#KeyError: \"Invalid Country Alpha-2 code: 'VA'\" for the values-\"Holy See\", \"Timor-Leste\" and \"Western Sahara\"\n",
    "#Replacing these values with certain city names to get the correct continent mapping\n",
    "#After extracting the Continent name, the country name will be changed back to original"
   ]
  },
  {
   "cell_type": "code",
   "execution_count": 40,
   "metadata": {},
   "outputs": [],
   "source": [
    "test_copy.loc[test_copy[\"Country\"]==\"Holy See\", [\"Country\"]]=\"Rome\"\n",
    "test_copy.loc[test_copy[\"Country\"]==\"Timor-Leste\", [\"Country\"]]=\"Bali\"\n",
    "test_copy.loc[test_copy[\"Country\"]==\"Western Sahara\", [\"Country\"]]=\"Rabat\"\n",
    "#This step is being done because otherwise an error is popping up, ie-\n",
    "#KeyError: \"Invalid Country Alpha-2 code: 'VA'\" for the values-\"Holy See\", \"Timor-Leste\" and \"Western Sahara\"\n",
    "#Replacing these values with certain city names to get the correct continent mapping\n",
    "#After extracting the Continent name, the country name will be changed back to original"
   ]
  },
  {
   "cell_type": "code",
   "execution_count": 41,
   "metadata": {},
   "outputs": [],
   "source": [
    "train_copy[\"Continent\"] = train_copy[\"Country\"].apply(lambda country: do_fuzzy_search(country))"
   ]
  },
  {
   "cell_type": "code",
   "execution_count": 42,
   "metadata": {},
   "outputs": [],
   "source": [
    "test_copy[\"Continent\"] = test_copy[\"Country\"].apply(lambda country: do_fuzzy_search(country))"
   ]
  },
  {
   "cell_type": "code",
   "execution_count": 43,
   "metadata": {},
   "outputs": [
    {
     "data": {
      "text/plain": [
       "North America    7308\n",
       "Asia             6048\n",
       "Europe           5964\n",
       "Africa           4284\n",
       "South America    1008\n",
       "Oceania           924\n",
       "Name: Continent, dtype: int64"
      ]
     },
     "execution_count": 43,
     "metadata": {},
     "output_type": "execute_result"
    }
   ],
   "source": [
    "train_copy[\"Continent\"].value_counts()"
   ]
  },
  {
   "cell_type": "code",
   "execution_count": 44,
   "metadata": {},
   "outputs": [
    {
     "data": {
      "text/plain": [
       "North America    3741\n",
       "Asia             3096\n",
       "Europe           3053\n",
       "Africa           2193\n",
       "South America     516\n",
       "Oceania           473\n",
       "Name: Continent, dtype: int64"
      ]
     },
     "execution_count": 44,
     "metadata": {},
     "output_type": "execute_result"
    }
   ],
   "source": [
    "test_copy[\"Continent\"].value_counts()"
   ]
  },
  {
   "cell_type": "code",
   "execution_count": 45,
   "metadata": {},
   "outputs": [],
   "source": [
    "#Filling in for missing values\n",
    "train_copy.loc[train_copy[\"Country\"]==\"Burma\", [\"Continent\"]]=\"Asia\"\n",
    "train_copy.loc[train_copy[\"Country\"]==\"MS Zaandam\", [\"Continent\"]]=\"Others\"\n",
    "train_copy.loc[train_copy[\"Country\"]==\"Diamond Princess\", [\"Continent\"]]=\"Others\"\n",
    "train_copy.loc[train_copy[\"Country\"]==\"Congo (Kinshasa)\", [\"Continent\"]]=\"Africa\"\n",
    "train_copy.loc[train_copy[\"Country\"]==\"Congo (Brazzaville)\", [\"Continent\"]]=\"Africa\"\n",
    "train_copy.loc[train_copy[\"Country\"]==\"West Bank and Gaza\", [\"Continent\"]]=\"Asia\"\n",
    "train_copy.loc[train_copy[\"Country\"]==\"Taiwan*\", [\"Continent\"]]=\"Asia\"\n",
    "train_copy.loc[train_copy[\"Country\"]==\"Korea, South\", [\"Continent\"]]=\"Asia\"\n",
    "train_copy.loc[train_copy[\"Country\"]==\"Laos\", [\"Continent\"]]=\"Asia\""
   ]
  },
  {
   "cell_type": "code",
   "execution_count": 46,
   "metadata": {},
   "outputs": [
    {
     "data": {
      "text/plain": [
       "Id                    0\n",
       "State                 0\n",
       "Country               0\n",
       "Date                  0\n",
       "ConfirmedCases        0\n",
       "Fatalities            0\n",
       "Population (2020)     0\n",
       "Density               0\n",
       "Med. Age              0\n",
       "Urban Pop %           0\n",
       "day_from_jan_first    0\n",
       "Continent             0\n",
       "dtype: int64"
      ]
     },
     "execution_count": 46,
     "metadata": {},
     "output_type": "execute_result"
    }
   ],
   "source": [
    "train_copy.isnull().sum()"
   ]
  },
  {
   "cell_type": "code",
   "execution_count": 47,
   "metadata": {},
   "outputs": [],
   "source": [
    "#Filling in for missing values\n",
    "test_copy.loc[test_copy[\"Country\"]==\"Burma\", [\"Continent\"]]=\"Asia\"\n",
    "test_copy.loc[test_copy[\"Country\"]==\"MS Zaandam\", [\"Continent\"]]=\"Others\"\n",
    "test_copy.loc[test_copy[\"Country\"]==\"Diamond Princess\", [\"Continent\"]]=\"Others\"\n",
    "test_copy.loc[test_copy[\"Country\"]==\"Congo (Kinshasa)\", [\"Continent\"]]=\"Africa\"\n",
    "test_copy.loc[test_copy[\"Country\"]==\"Congo (Brazzaville)\", [\"Continent\"]]=\"Africa\"\n",
    "test_copy.loc[test_copy[\"Country\"]==\"West Bank and Gaza\", [\"Continent\"]]=\"Asia\"\n",
    "test_copy.loc[test_copy[\"Country\"]==\"Taiwan*\", [\"Continent\"]]=\"Asia\"\n",
    "test_copy.loc[test_copy[\"Country\"]==\"Korea, South\", [\"Continent\"]]=\"Asia\"\n",
    "test_copy.loc[test_copy[\"Country\"]==\"Laos\", [\"Continent\"]]=\"Asia\""
   ]
  },
  {
   "cell_type": "code",
   "execution_count": 48,
   "metadata": {},
   "outputs": [
    {
     "data": {
      "text/plain": [
       "ForecastId            0\n",
       "State                 0\n",
       "Country               0\n",
       "Date                  0\n",
       "Population (2020)     0\n",
       "Density               0\n",
       "Med. Age              0\n",
       "Urban Pop %           0\n",
       "day_from_jan_first    0\n",
       "Continent             0\n",
       "dtype: int64"
      ]
     },
     "execution_count": 48,
     "metadata": {},
     "output_type": "execute_result"
    }
   ],
   "source": [
    "test_copy.isnull().sum()"
   ]
  },
  {
   "cell_type": "code",
   "execution_count": 49,
   "metadata": {},
   "outputs": [],
   "source": [
    "train_copy.loc[train_copy[\"Country\"]==\"Rome\", [\"Country\"]]=\"Holy See\"\n",
    "train_copy.loc[train_copy[\"Country\"]==\"Bali\", [\"Country\"]]=\"Timor-Leste\"\n",
    "train_copy.loc[train_copy[\"Country\"]==\"Rabat\", [\"Country\"]]=\"Western Sahara\"\n",
    "#Changing back to original values"
   ]
  },
  {
   "cell_type": "code",
   "execution_count": 50,
   "metadata": {},
   "outputs": [],
   "source": [
    "test_copy.loc[test_copy[\"Country\"]==\"Rome\", [\"Country\"]]=\"Holy See\"\n",
    "test_copy.loc[test_copy[\"Country\"]==\"Bali\", [\"Country\"]]=\"Timor-Leste\"\n",
    "test_copy.loc[test_copy[\"Country\"]==\"Rabat\", [\"Country\"]]=\"Western Sahara\"\n",
    "#Changing back to original values"
   ]
  },
  {
   "cell_type": "code",
   "execution_count": 51,
   "metadata": {},
   "outputs": [
    {
     "data": {
      "text/html": [
       "<div>\n",
       "<style scoped>\n",
       "    .dataframe tbody tr th:only-of-type {\n",
       "        vertical-align: middle;\n",
       "    }\n",
       "\n",
       "    .dataframe tbody tr th {\n",
       "        vertical-align: top;\n",
       "    }\n",
       "\n",
       "    .dataframe thead th {\n",
       "        text-align: right;\n",
       "    }\n",
       "</style>\n",
       "<table border=\"1\" class=\"dataframe\">\n",
       "  <thead>\n",
       "    <tr style=\"text-align: right;\">\n",
       "      <th></th>\n",
       "      <th></th>\n",
       "      <th>Id</th>\n",
       "      <th>Date</th>\n",
       "      <th>ConfirmedCases</th>\n",
       "      <th>Fatalities</th>\n",
       "      <th>Population (2020)</th>\n",
       "      <th>Density</th>\n",
       "      <th>day_from_jan_first</th>\n",
       "    </tr>\n",
       "    <tr>\n",
       "      <th>State</th>\n",
       "      <th>Country</th>\n",
       "      <th></th>\n",
       "      <th></th>\n",
       "      <th></th>\n",
       "      <th></th>\n",
       "      <th></th>\n",
       "      <th></th>\n",
       "      <th></th>\n",
       "    </tr>\n",
       "  </thead>\n",
       "  <tbody>\n",
       "    <tr>\n",
       "      <th>Andorra</th>\n",
       "      <th>Andorra</th>\n",
       "      <td>32298</td>\n",
       "      <td>1696823001</td>\n",
       "      <td>10373.0</td>\n",
       "      <td>351.0</td>\n",
       "      <td>6487992.0</td>\n",
       "      <td>13776.0</td>\n",
       "      <td>5334</td>\n",
       "    </tr>\n",
       "    <tr>\n",
       "      <th>Dominica</th>\n",
       "      <th>Dominica</th>\n",
       "      <td>970746</td>\n",
       "      <td>1696823001</td>\n",
       "      <td>283.0</td>\n",
       "      <td>0.0</td>\n",
       "      <td>6043548.0</td>\n",
       "      <td>8064.0</td>\n",
       "      <td>5334</td>\n",
       "    </tr>\n",
       "    <tr>\n",
       "      <th>Holy See</th>\n",
       "      <th>Holy See</th>\n",
       "      <td>1305906</td>\n",
       "      <td>1696823001</td>\n",
       "      <td>162.0</td>\n",
       "      <td>0.0</td>\n",
       "      <td>67284.0</td>\n",
       "      <td>168252.0</td>\n",
       "      <td>5334</td>\n",
       "    </tr>\n",
       "    <tr>\n",
       "      <th>Liechtenstein</th>\n",
       "      <th>Liechtenstein</th>\n",
       "      <td>1545306</td>\n",
       "      <td>1696823001</td>\n",
       "      <td>1772.0</td>\n",
       "      <td>11.0</td>\n",
       "      <td>3200736.0</td>\n",
       "      <td>19992.0</td>\n",
       "      <td>5334</td>\n",
       "    </tr>\n",
       "    <tr>\n",
       "      <th>Monaco</th>\n",
       "      <th>Monaco</th>\n",
       "      <td>1679370</td>\n",
       "      <td>1696823001</td>\n",
       "      <td>1534.0</td>\n",
       "      <td>17.0</td>\n",
       "      <td>3291204.0</td>\n",
       "      <td>2212308.0</td>\n",
       "      <td>5334</td>\n",
       "    </tr>\n",
       "    <tr>\n",
       "      <th>San Marino</th>\n",
       "      <th>San Marino</th>\n",
       "      <td>2004954</td>\n",
       "      <td>1696823001</td>\n",
       "      <td>7655.0</td>\n",
       "      <td>777.0</td>\n",
       "      <td>2848944.0</td>\n",
       "      <td>47544.0</td>\n",
       "      <td>5334</td>\n",
       "    </tr>\n",
       "  </tbody>\n",
       "</table>\n",
       "</div>"
      ],
      "text/plain": [
       "                                  Id        Date  ConfirmedCases  Fatalities  \\\n",
       "State         Country                                                          \n",
       "Andorra       Andorra          32298  1696823001         10373.0       351.0   \n",
       "Dominica      Dominica        970746  1696823001           283.0         0.0   \n",
       "Holy See      Holy See       1305906  1696823001           162.0         0.0   \n",
       "Liechtenstein Liechtenstein  1545306  1696823001          1772.0        11.0   \n",
       "Monaco        Monaco         1679370  1696823001          1534.0        17.0   \n",
       "San Marino    San Marino     2004954  1696823001          7655.0       777.0   \n",
       "\n",
       "                             Population (2020)    Density  day_from_jan_first  \n",
       "State         Country                                                          \n",
       "Andorra       Andorra                6487992.0    13776.0                5334  \n",
       "Dominica      Dominica               6043548.0     8064.0                5334  \n",
       "Holy See      Holy See                 67284.0   168252.0                5334  \n",
       "Liechtenstein Liechtenstein          3200736.0    19992.0                5334  \n",
       "Monaco        Monaco                 3291204.0  2212308.0                5334  \n",
       "San Marino    San Marino             2848944.0    47544.0                5334  "
      ]
     },
     "execution_count": 51,
     "metadata": {},
     "output_type": "execute_result"
    }
   ],
   "source": [
    "train_copy[train_copy[\"Med. Age\"]==\"N.A.\"].groupby([\"State\",\"Country\"]).sum()\n",
    "#Checking for NA values for median age"
   ]
  },
  {
   "cell_type": "code",
   "execution_count": 52,
   "metadata": {},
   "outputs": [],
   "source": [
    "train_copy.loc[train_copy[\"Country\"]==\"Andorra\", [\"Med. Age\"]]=44.9\n",
    "train_copy.loc[train_copy[\"Country\"]==\"Dominica\", [\"Med. Age\"]]=27\n",
    "train_copy.loc[train_copy[\"Country\"]==\"Holy See\", [\"Med. Age\"]]=25\n",
    "train_copy.loc[train_copy[\"Country\"]==\"Liechtenstein\", [\"Med. Age\"]]=41\n",
    "train_copy.loc[train_copy[\"Country\"]==\"Monaco\", [\"Med. Age\"]]=53\n",
    "train_copy.loc[train_copy[\"Country\"]==\"San Marino\", [\"Med. Age\"]]=45\n",
    "#Filling in missing values for median age in training data "
   ]
  },
  {
   "cell_type": "code",
   "execution_count": 53,
   "metadata": {},
   "outputs": [],
   "source": [
    "test_copy.loc[test_copy[\"Country\"]==\"Andorra\", [\"Med. Age\"]]=44.9\n",
    "test_copy.loc[test_copy[\"Country\"]==\"Dominica\", [\"Med. Age\"]]=27\n",
    "test_copy.loc[test_copy[\"Country\"]==\"Holy See\", [\"Med. Age\"]]=25\n",
    "test_copy.loc[test_copy[\"Country\"]==\"Liechtenstein\", [\"Med. Age\"]]=41\n",
    "test_copy.loc[test_copy[\"Country\"]==\"Monaco\", [\"Med. Age\"]]=53\n",
    "test_copy.loc[test_copy[\"Country\"]==\"San Marino\", [\"Med. Age\"]]=45\n",
    "#Filling in missing values for median age in test data "
   ]
  },
  {
   "cell_type": "code",
   "execution_count": 54,
   "metadata": {},
   "outputs": [
    {
     "name": "stdout",
     "output_type": "stream",
     "text": [
      "<class 'pandas.core.frame.DataFrame'>\n",
      "Int64Index: 26292 entries, 0 to 26291\n",
      "Data columns (total 12 columns):\n",
      "Id                    26292 non-null int64\n",
      "State                 26292 non-null object\n",
      "Country               26292 non-null object\n",
      "Date                  26292 non-null int64\n",
      "ConfirmedCases        26292 non-null float64\n",
      "Fatalities            26292 non-null float64\n",
      "Population (2020)     26292 non-null float64\n",
      "Density               26292 non-null float64\n",
      "Med. Age              26292 non-null object\n",
      "Urban Pop %           26292 non-null object\n",
      "day_from_jan_first    26292 non-null int64\n",
      "Continent             26292 non-null object\n",
      "dtypes: float64(4), int64(3), object(5)\n",
      "memory usage: 2.6+ MB\n"
     ]
    }
   ],
   "source": [
    "train_copy.info()"
   ]
  },
  {
   "cell_type": "code",
   "execution_count": 55,
   "metadata": {},
   "outputs": [],
   "source": [
    "train_copy[\"Med. Age\"]=train_copy[\"Med. Age\"].astype(int)\n",
    "test_copy[\"Med. Age\"]=test_copy[\"Med. Age\"].astype(int)\n",
    "#Converting median age to integer type"
   ]
  },
  {
   "cell_type": "code",
   "execution_count": 56,
   "metadata": {},
   "outputs": [
    {
     "data": {
      "text/html": [
       "<div>\n",
       "<style scoped>\n",
       "    .dataframe tbody tr th:only-of-type {\n",
       "        vertical-align: middle;\n",
       "    }\n",
       "\n",
       "    .dataframe tbody tr th {\n",
       "        vertical-align: top;\n",
       "    }\n",
       "\n",
       "    .dataframe thead th {\n",
       "        text-align: right;\n",
       "    }\n",
       "</style>\n",
       "<table border=\"1\" class=\"dataframe\">\n",
       "  <thead>\n",
       "    <tr style=\"text-align: right;\">\n",
       "      <th></th>\n",
       "      <th></th>\n",
       "      <th>Id</th>\n",
       "      <th>Date</th>\n",
       "      <th>ConfirmedCases</th>\n",
       "      <th>Fatalities</th>\n",
       "      <th>Population (2020)</th>\n",
       "      <th>Density</th>\n",
       "      <th>Med. Age</th>\n",
       "      <th>day_from_jan_first</th>\n",
       "    </tr>\n",
       "    <tr>\n",
       "      <th>State</th>\n",
       "      <th>Country</th>\n",
       "      <th></th>\n",
       "      <th></th>\n",
       "      <th></th>\n",
       "      <th></th>\n",
       "      <th></th>\n",
       "      <th></th>\n",
       "      <th></th>\n",
       "      <th></th>\n",
       "    </tr>\n",
       "  </thead>\n",
       "  <tbody>\n",
       "    <tr>\n",
       "      <th>Holy See</th>\n",
       "      <th>Holy See</th>\n",
       "      <td>1305906</td>\n",
       "      <td>1696823001</td>\n",
       "      <td>162.0</td>\n",
       "      <td>0.0</td>\n",
       "      <td>6.728400e+04</td>\n",
       "      <td>168252.0</td>\n",
       "      <td>2100</td>\n",
       "      <td>5334</td>\n",
       "    </tr>\n",
       "    <tr>\n",
       "      <th>Kuwait</th>\n",
       "      <th>Kuwait</th>\n",
       "      <td>1478274</td>\n",
       "      <td>1696823001</td>\n",
       "      <td>15645.0</td>\n",
       "      <td>14.0</td>\n",
       "      <td>3.575426e+08</td>\n",
       "      <td>20160.0</td>\n",
       "      <td>3108</td>\n",
       "      <td>5334</td>\n",
       "    </tr>\n",
       "    <tr>\n",
       "      <th>Monaco</th>\n",
       "      <th>Monaco</th>\n",
       "      <td>1679370</td>\n",
       "      <td>1696823001</td>\n",
       "      <td>1534.0</td>\n",
       "      <td>17.0</td>\n",
       "      <td>3.291204e+06</td>\n",
       "      <td>2212308.0</td>\n",
       "      <td>4452</td>\n",
       "      <td>5334</td>\n",
       "    </tr>\n",
       "    <tr>\n",
       "      <th>Singapore</th>\n",
       "      <th>Singapore</th>\n",
       "      <td>2071986</td>\n",
       "      <td>1696823001</td>\n",
       "      <td>38283.0</td>\n",
       "      <td>115.0</td>\n",
       "      <td>4.905804e+08</td>\n",
       "      <td>702072.0</td>\n",
       "      <td>3528</td>\n",
       "      <td>5334</td>\n",
       "    </tr>\n",
       "    <tr>\n",
       "      <th>Venezuela</th>\n",
       "      <th>Venezuela</th>\n",
       "      <td>2943402</td>\n",
       "      <td>1696823001</td>\n",
       "      <td>3625.0</td>\n",
       "      <td>117.0</td>\n",
       "      <td>2.390064e+09</td>\n",
       "      <td>2688.0</td>\n",
       "      <td>2520</td>\n",
       "      <td>5334</td>\n",
       "    </tr>\n",
       "  </tbody>\n",
       "</table>\n",
       "</div>"
      ],
      "text/plain": [
       "                          Id        Date  ConfirmedCases  Fatalities  \\\n",
       "State     Country                                                      \n",
       "Holy See  Holy See   1305906  1696823001           162.0         0.0   \n",
       "Kuwait    Kuwait     1478274  1696823001         15645.0        14.0   \n",
       "Monaco    Monaco     1679370  1696823001          1534.0        17.0   \n",
       "Singapore Singapore  2071986  1696823001         38283.0       115.0   \n",
       "Venezuela Venezuela  2943402  1696823001          3625.0       117.0   \n",
       "\n",
       "                     Population (2020)    Density  Med. Age  \\\n",
       "State     Country                                             \n",
       "Holy See  Holy See        6.728400e+04   168252.0      2100   \n",
       "Kuwait    Kuwait          3.575426e+08    20160.0      3108   \n",
       "Monaco    Monaco          3.291204e+06  2212308.0      4452   \n",
       "Singapore Singapore       4.905804e+08   702072.0      3528   \n",
       "Venezuela Venezuela       2.390064e+09     2688.0      2520   \n",
       "\n",
       "                     day_from_jan_first  \n",
       "State     Country                        \n",
       "Holy See  Holy See                 5334  \n",
       "Kuwait    Kuwait                   5334  \n",
       "Monaco    Monaco                   5334  \n",
       "Singapore Singapore                5334  \n",
       "Venezuela Venezuela                5334  "
      ]
     },
     "execution_count": 56,
     "metadata": {},
     "output_type": "execute_result"
    }
   ],
   "source": [
    "train_copy[train_copy[\"Urban Pop %\"]==\"N.A.\"].groupby([\"State\",\"Country\"]).sum()\n",
    "#Checking for NA values for urban population percentage"
   ]
  },
  {
   "cell_type": "code",
   "execution_count": 57,
   "metadata": {},
   "outputs": [],
   "source": [
    "train_copy.loc[train_copy[\"Country\"]==\"Kuwait\", [\"Urban Pop %\"]]=\"100%\"\n",
    "train_copy.loc[train_copy[\"Country\"]==\"Singapore\", [\"Urban Pop %\"]]=\"100%\"\n",
    "train_copy.loc[train_copy[\"Country\"]==\"Holy See\", [\"Urban Pop %\"]]=\"100%\"\n",
    "train_copy.loc[train_copy[\"Country\"]==\"Venezuela\", [\"Urban Pop %\"]]=\"88%\"\n",
    "train_copy.loc[train_copy[\"Country\"]==\"Monaco\", [\"Urban Pop %\"]]=\"100%\"\n",
    "#Filling in missing values for urban population percentage in training data "
   ]
  },
  {
   "cell_type": "code",
   "execution_count": 58,
   "metadata": {},
   "outputs": [],
   "source": [
    "test_copy.loc[test_copy[\"Country\"]==\"Kuwait\", [\"Urban Pop %\"]]=\"100%\"\n",
    "test_copy.loc[test_copy[\"Country\"]==\"Singapore\", [\"Urban Pop %\"]]=\"100%\"\n",
    "test_copy.loc[test_copy[\"Country\"]==\"Holy See\", [\"Urban Pop %\"]]=\"100%\"\n",
    "test_copy.loc[test_copy[\"Country\"]==\"Venezuela\", [\"Urban Pop %\"]]=\"88%\"\n",
    "test_copy.loc[test_copy[\"Country\"]==\"Monaco\", [\"Urban Pop %\"]]=\"100%\"\n",
    "#Filling in missing values for urban population percentage in test data "
   ]
  },
  {
   "cell_type": "code",
   "execution_count": 59,
   "metadata": {},
   "outputs": [],
   "source": [
    "train_copy['Urban Pop %']=train_copy['Urban Pop %'].str.replace('%','').astype(float)/100\n",
    "#Converting urban population percentage to float"
   ]
  },
  {
   "cell_type": "code",
   "execution_count": 60,
   "metadata": {},
   "outputs": [
    {
     "data": {
      "text/html": [
       "<div>\n",
       "<style scoped>\n",
       "    .dataframe tbody tr th:only-of-type {\n",
       "        vertical-align: middle;\n",
       "    }\n",
       "\n",
       "    .dataframe tbody tr th {\n",
       "        vertical-align: top;\n",
       "    }\n",
       "\n",
       "    .dataframe thead th {\n",
       "        text-align: right;\n",
       "    }\n",
       "</style>\n",
       "<table border=\"1\" class=\"dataframe\">\n",
       "  <thead>\n",
       "    <tr style=\"text-align: right;\">\n",
       "      <th></th>\n",
       "      <th>Id</th>\n",
       "      <th>State</th>\n",
       "      <th>Country</th>\n",
       "      <th>Date</th>\n",
       "      <th>ConfirmedCases</th>\n",
       "      <th>Fatalities</th>\n",
       "      <th>Population (2020)</th>\n",
       "      <th>Density</th>\n",
       "      <th>Med. Age</th>\n",
       "      <th>Urban Pop %</th>\n",
       "      <th>day_from_jan_first</th>\n",
       "      <th>Continent</th>\n",
       "    </tr>\n",
       "  </thead>\n",
       "  <tbody>\n",
       "    <tr>\n",
       "      <th>0</th>\n",
       "      <td>1</td>\n",
       "      <td>Afghanistan</td>\n",
       "      <td>Afghanistan</td>\n",
       "      <td>20200122</td>\n",
       "      <td>0.0</td>\n",
       "      <td>0.0</td>\n",
       "      <td>38728504.0</td>\n",
       "      <td>60.0</td>\n",
       "      <td>18</td>\n",
       "      <td>0.25</td>\n",
       "      <td>22</td>\n",
       "      <td>Asia</td>\n",
       "    </tr>\n",
       "    <tr>\n",
       "      <th>1</th>\n",
       "      <td>2</td>\n",
       "      <td>Afghanistan</td>\n",
       "      <td>Afghanistan</td>\n",
       "      <td>20200123</td>\n",
       "      <td>0.0</td>\n",
       "      <td>0.0</td>\n",
       "      <td>38728504.0</td>\n",
       "      <td>60.0</td>\n",
       "      <td>18</td>\n",
       "      <td>0.25</td>\n",
       "      <td>23</td>\n",
       "      <td>Asia</td>\n",
       "    </tr>\n",
       "    <tr>\n",
       "      <th>2</th>\n",
       "      <td>3</td>\n",
       "      <td>Afghanistan</td>\n",
       "      <td>Afghanistan</td>\n",
       "      <td>20200124</td>\n",
       "      <td>0.0</td>\n",
       "      <td>0.0</td>\n",
       "      <td>38728504.0</td>\n",
       "      <td>60.0</td>\n",
       "      <td>18</td>\n",
       "      <td>0.25</td>\n",
       "      <td>24</td>\n",
       "      <td>Asia</td>\n",
       "    </tr>\n",
       "    <tr>\n",
       "      <th>3</th>\n",
       "      <td>4</td>\n",
       "      <td>Afghanistan</td>\n",
       "      <td>Afghanistan</td>\n",
       "      <td>20200125</td>\n",
       "      <td>0.0</td>\n",
       "      <td>0.0</td>\n",
       "      <td>38728504.0</td>\n",
       "      <td>60.0</td>\n",
       "      <td>18</td>\n",
       "      <td>0.25</td>\n",
       "      <td>25</td>\n",
       "      <td>Asia</td>\n",
       "    </tr>\n",
       "    <tr>\n",
       "      <th>4</th>\n",
       "      <td>5</td>\n",
       "      <td>Afghanistan</td>\n",
       "      <td>Afghanistan</td>\n",
       "      <td>20200126</td>\n",
       "      <td>0.0</td>\n",
       "      <td>0.0</td>\n",
       "      <td>38728504.0</td>\n",
       "      <td>60.0</td>\n",
       "      <td>18</td>\n",
       "      <td>0.25</td>\n",
       "      <td>26</td>\n",
       "      <td>Asia</td>\n",
       "    </tr>\n",
       "  </tbody>\n",
       "</table>\n",
       "</div>"
      ],
      "text/plain": [
       "   Id        State      Country      Date  ConfirmedCases  Fatalities  \\\n",
       "0   1  Afghanistan  Afghanistan  20200122             0.0         0.0   \n",
       "1   2  Afghanistan  Afghanistan  20200123             0.0         0.0   \n",
       "2   3  Afghanistan  Afghanistan  20200124             0.0         0.0   \n",
       "3   4  Afghanistan  Afghanistan  20200125             0.0         0.0   \n",
       "4   5  Afghanistan  Afghanistan  20200126             0.0         0.0   \n",
       "\n",
       "   Population (2020)  Density  Med. Age  Urban Pop %  day_from_jan_first  \\\n",
       "0         38728504.0     60.0        18         0.25                  22   \n",
       "1         38728504.0     60.0        18         0.25                  23   \n",
       "2         38728504.0     60.0        18         0.25                  24   \n",
       "3         38728504.0     60.0        18         0.25                  25   \n",
       "4         38728504.0     60.0        18         0.25                  26   \n",
       "\n",
       "  Continent  \n",
       "0      Asia  \n",
       "1      Asia  \n",
       "2      Asia  \n",
       "3      Asia  \n",
       "4      Asia  "
      ]
     },
     "execution_count": 60,
     "metadata": {},
     "output_type": "execute_result"
    }
   ],
   "source": [
    "train_copy.head()"
   ]
  },
  {
   "cell_type": "code",
   "execution_count": 61,
   "metadata": {},
   "outputs": [],
   "source": [
    "test_copy['Urban Pop %']=test_copy['Urban Pop %'].str.replace('%','').astype(float)/100\n",
    "#Converting urban population percentage to float"
   ]
  },
  {
   "cell_type": "code",
   "execution_count": 62,
   "metadata": {},
   "outputs": [
    {
     "data": {
      "text/html": [
       "<div>\n",
       "<style scoped>\n",
       "    .dataframe tbody tr th:only-of-type {\n",
       "        vertical-align: middle;\n",
       "    }\n",
       "\n",
       "    .dataframe tbody tr th {\n",
       "        vertical-align: top;\n",
       "    }\n",
       "\n",
       "    .dataframe thead th {\n",
       "        text-align: right;\n",
       "    }\n",
       "</style>\n",
       "<table border=\"1\" class=\"dataframe\">\n",
       "  <thead>\n",
       "    <tr style=\"text-align: right;\">\n",
       "      <th></th>\n",
       "      <th>ForecastId</th>\n",
       "      <th>State</th>\n",
       "      <th>Country</th>\n",
       "      <th>Date</th>\n",
       "      <th>Population (2020)</th>\n",
       "      <th>Density</th>\n",
       "      <th>Med. Age</th>\n",
       "      <th>Urban Pop %</th>\n",
       "      <th>day_from_jan_first</th>\n",
       "      <th>Continent</th>\n",
       "    </tr>\n",
       "  </thead>\n",
       "  <tbody>\n",
       "    <tr>\n",
       "      <th>0</th>\n",
       "      <td>1</td>\n",
       "      <td>Afghanistan</td>\n",
       "      <td>Afghanistan</td>\n",
       "      <td>20200402</td>\n",
       "      <td>38728504.0</td>\n",
       "      <td>60.0</td>\n",
       "      <td>18</td>\n",
       "      <td>0.25</td>\n",
       "      <td>93</td>\n",
       "      <td>Asia</td>\n",
       "    </tr>\n",
       "    <tr>\n",
       "      <th>1</th>\n",
       "      <td>2</td>\n",
       "      <td>Afghanistan</td>\n",
       "      <td>Afghanistan</td>\n",
       "      <td>20200403</td>\n",
       "      <td>38728504.0</td>\n",
       "      <td>60.0</td>\n",
       "      <td>18</td>\n",
       "      <td>0.25</td>\n",
       "      <td>94</td>\n",
       "      <td>Asia</td>\n",
       "    </tr>\n",
       "    <tr>\n",
       "      <th>2</th>\n",
       "      <td>3</td>\n",
       "      <td>Afghanistan</td>\n",
       "      <td>Afghanistan</td>\n",
       "      <td>20200404</td>\n",
       "      <td>38728504.0</td>\n",
       "      <td>60.0</td>\n",
       "      <td>18</td>\n",
       "      <td>0.25</td>\n",
       "      <td>95</td>\n",
       "      <td>Asia</td>\n",
       "    </tr>\n",
       "    <tr>\n",
       "      <th>3</th>\n",
       "      <td>4</td>\n",
       "      <td>Afghanistan</td>\n",
       "      <td>Afghanistan</td>\n",
       "      <td>20200405</td>\n",
       "      <td>38728504.0</td>\n",
       "      <td>60.0</td>\n",
       "      <td>18</td>\n",
       "      <td>0.25</td>\n",
       "      <td>96</td>\n",
       "      <td>Asia</td>\n",
       "    </tr>\n",
       "    <tr>\n",
       "      <th>4</th>\n",
       "      <td>5</td>\n",
       "      <td>Afghanistan</td>\n",
       "      <td>Afghanistan</td>\n",
       "      <td>20200406</td>\n",
       "      <td>38728504.0</td>\n",
       "      <td>60.0</td>\n",
       "      <td>18</td>\n",
       "      <td>0.25</td>\n",
       "      <td>97</td>\n",
       "      <td>Asia</td>\n",
       "    </tr>\n",
       "  </tbody>\n",
       "</table>\n",
       "</div>"
      ],
      "text/plain": [
       "   ForecastId        State      Country      Date  Population (2020)  Density  \\\n",
       "0           1  Afghanistan  Afghanistan  20200402         38728504.0     60.0   \n",
       "1           2  Afghanistan  Afghanistan  20200403         38728504.0     60.0   \n",
       "2           3  Afghanistan  Afghanistan  20200404         38728504.0     60.0   \n",
       "3           4  Afghanistan  Afghanistan  20200405         38728504.0     60.0   \n",
       "4           5  Afghanistan  Afghanistan  20200406         38728504.0     60.0   \n",
       "\n",
       "   Med. Age  Urban Pop %  day_from_jan_first Continent  \n",
       "0        18         0.25                  93      Asia  \n",
       "1        18         0.25                  94      Asia  \n",
       "2        18         0.25                  95      Asia  \n",
       "3        18         0.25                  96      Asia  \n",
       "4        18         0.25                  97      Asia  "
      ]
     },
     "execution_count": 62,
     "metadata": {},
     "output_type": "execute_result"
    }
   ],
   "source": [
    "test_copy.head()"
   ]
  },
  {
   "cell_type": "code",
   "execution_count": 63,
   "metadata": {},
   "outputs": [],
   "source": [
    "labelencoder = LabelEncoder()"
   ]
  },
  {
   "cell_type": "code",
   "execution_count": 64,
   "metadata": {},
   "outputs": [],
   "source": [
    "train_copy['Country'] = labelencoder.fit_transform(train_copy['Country'])\n",
    "train_copy['State'] = labelencoder.fit_transform(train_copy['State'])\n",
    "train_copy['Continent'] = labelencoder.fit_transform(train_copy['Continent'])\n",
    "#Encoding country,state and continent values"
   ]
  },
  {
   "cell_type": "code",
   "execution_count": 65,
   "metadata": {},
   "outputs": [],
   "source": [
    "test_copy['Country'] = labelencoder.fit_transform(test_copy['Country'])\n",
    "test_copy['State'] = labelencoder.fit_transform(test_copy['State'])\n",
    "test_copy['Continent'] = labelencoder.fit_transform(test_copy['Continent'])\n",
    "#Encoding country,state and continent values"
   ]
  },
  {
   "cell_type": "code",
   "execution_count": 66,
   "metadata": {},
   "outputs": [
    {
     "name": "stdout",
     "output_type": "stream",
     "text": [
      "<class 'pandas.core.frame.DataFrame'>\n",
      "Int64Index: 26292 entries, 0 to 26291\n",
      "Data columns (total 12 columns):\n",
      "Id                    26292 non-null int64\n",
      "State                 26292 non-null int64\n",
      "Country               26292 non-null int64\n",
      "Date                  26292 non-null int64\n",
      "ConfirmedCases        26292 non-null float64\n",
      "Fatalities            26292 non-null float64\n",
      "Population (2020)     26292 non-null float64\n",
      "Density               26292 non-null float64\n",
      "Med. Age              26292 non-null int64\n",
      "Urban Pop %           26292 non-null float64\n",
      "day_from_jan_first    26292 non-null int64\n",
      "Continent             26292 non-null int64\n",
      "dtypes: float64(5), int64(7)\n",
      "memory usage: 2.6 MB\n"
     ]
    }
   ],
   "source": [
    "train_copy.info()"
   ]
  },
  {
   "cell_type": "code",
   "execution_count": 67,
   "metadata": {},
   "outputs": [
    {
     "data": {
      "text/plain": [
       "Index(['Id', 'State', 'Country', 'Date', 'ConfirmedCases', 'Fatalities',\n",
       "       'Population (2020)', 'Density', 'Med. Age', 'Urban Pop %',\n",
       "       'day_from_jan_first', 'Continent'],\n",
       "      dtype='object')"
      ]
     },
     "execution_count": 67,
     "metadata": {},
     "output_type": "execute_result"
    }
   ],
   "source": [
    "train_copy.columns"
   ]
  },
  {
   "cell_type": "code",
   "execution_count": 68,
   "metadata": {},
   "outputs": [
    {
     "data": {
      "text/html": [
       "<div>\n",
       "<style scoped>\n",
       "    .dataframe tbody tr th:only-of-type {\n",
       "        vertical-align: middle;\n",
       "    }\n",
       "\n",
       "    .dataframe tbody tr th {\n",
       "        vertical-align: top;\n",
       "    }\n",
       "\n",
       "    .dataframe thead th {\n",
       "        text-align: right;\n",
       "    }\n",
       "</style>\n",
       "<table border=\"1\" class=\"dataframe\">\n",
       "  <thead>\n",
       "    <tr style=\"text-align: right;\">\n",
       "      <th></th>\n",
       "      <th>Id</th>\n",
       "      <th>State</th>\n",
       "      <th>Country</th>\n",
       "      <th>Date</th>\n",
       "      <th>ConfirmedCases</th>\n",
       "      <th>Fatalities</th>\n",
       "      <th>Population (2020)</th>\n",
       "      <th>Density</th>\n",
       "      <th>Med. Age</th>\n",
       "      <th>Urban Pop %</th>\n",
       "      <th>day_from_jan_first</th>\n",
       "      <th>Continent</th>\n",
       "    </tr>\n",
       "  </thead>\n",
       "  <tbody>\n",
       "    <tr>\n",
       "      <th>0</th>\n",
       "      <td>1</td>\n",
       "      <td>0</td>\n",
       "      <td>0</td>\n",
       "      <td>20200122</td>\n",
       "      <td>0.0</td>\n",
       "      <td>0.0</td>\n",
       "      <td>38728504.0</td>\n",
       "      <td>60.0</td>\n",
       "      <td>18</td>\n",
       "      <td>0.25</td>\n",
       "      <td>22</td>\n",
       "      <td>1</td>\n",
       "    </tr>\n",
       "    <tr>\n",
       "      <th>1</th>\n",
       "      <td>2</td>\n",
       "      <td>0</td>\n",
       "      <td>0</td>\n",
       "      <td>20200123</td>\n",
       "      <td>0.0</td>\n",
       "      <td>0.0</td>\n",
       "      <td>38728504.0</td>\n",
       "      <td>60.0</td>\n",
       "      <td>18</td>\n",
       "      <td>0.25</td>\n",
       "      <td>23</td>\n",
       "      <td>1</td>\n",
       "    </tr>\n",
       "    <tr>\n",
       "      <th>2</th>\n",
       "      <td>3</td>\n",
       "      <td>0</td>\n",
       "      <td>0</td>\n",
       "      <td>20200124</td>\n",
       "      <td>0.0</td>\n",
       "      <td>0.0</td>\n",
       "      <td>38728504.0</td>\n",
       "      <td>60.0</td>\n",
       "      <td>18</td>\n",
       "      <td>0.25</td>\n",
       "      <td>24</td>\n",
       "      <td>1</td>\n",
       "    </tr>\n",
       "    <tr>\n",
       "      <th>3</th>\n",
       "      <td>4</td>\n",
       "      <td>0</td>\n",
       "      <td>0</td>\n",
       "      <td>20200125</td>\n",
       "      <td>0.0</td>\n",
       "      <td>0.0</td>\n",
       "      <td>38728504.0</td>\n",
       "      <td>60.0</td>\n",
       "      <td>18</td>\n",
       "      <td>0.25</td>\n",
       "      <td>25</td>\n",
       "      <td>1</td>\n",
       "    </tr>\n",
       "    <tr>\n",
       "      <th>4</th>\n",
       "      <td>5</td>\n",
       "      <td>0</td>\n",
       "      <td>0</td>\n",
       "      <td>20200126</td>\n",
       "      <td>0.0</td>\n",
       "      <td>0.0</td>\n",
       "      <td>38728504.0</td>\n",
       "      <td>60.0</td>\n",
       "      <td>18</td>\n",
       "      <td>0.25</td>\n",
       "      <td>26</td>\n",
       "      <td>1</td>\n",
       "    </tr>\n",
       "  </tbody>\n",
       "</table>\n",
       "</div>"
      ],
      "text/plain": [
       "   Id  State  Country      Date  ConfirmedCases  Fatalities  \\\n",
       "0   1      0        0  20200122             0.0         0.0   \n",
       "1   2      0        0  20200123             0.0         0.0   \n",
       "2   3      0        0  20200124             0.0         0.0   \n",
       "3   4      0        0  20200125             0.0         0.0   \n",
       "4   5      0        0  20200126             0.0         0.0   \n",
       "\n",
       "   Population (2020)  Density  Med. Age  Urban Pop %  day_from_jan_first  \\\n",
       "0         38728504.0     60.0        18         0.25                  22   \n",
       "1         38728504.0     60.0        18         0.25                  23   \n",
       "2         38728504.0     60.0        18         0.25                  24   \n",
       "3         38728504.0     60.0        18         0.25                  25   \n",
       "4         38728504.0     60.0        18         0.25                  26   \n",
       "\n",
       "   Continent  \n",
       "0          1  \n",
       "1          1  \n",
       "2          1  \n",
       "3          1  \n",
       "4          1  "
      ]
     },
     "execution_count": 68,
     "metadata": {},
     "output_type": "execute_result"
    }
   ],
   "source": [
    "train_copy.head()"
   ]
  },
  {
   "cell_type": "code",
   "execution_count": 69,
   "metadata": {},
   "outputs": [
    {
     "data": {
      "image/png": "[encoded data removed]",
      "text/plain": [
       "<Figure size 1440x720 with 2 Axes>"
      ]
     },
     "metadata": {
      "needs_background": "light"
     },
     "output_type": "display_data"
    }
   ],
   "source": [
    "corrMatrix = train_copy.corr()\n",
    "plt.figure(figsize=(20,10))\n",
    "sn.heatmap(corrMatrix, annot=True)\n",
    "plt.show()"
   ]
  },
  {
   "cell_type": "code",
   "execution_count": 70,
   "metadata": {},
   "outputs": [],
   "source": [
    "X=train_copy[['State', 'Country', 'Continent', 'day_from_jan_first', 'Population (2020)', 'Density', 'Med. Age', 'Urban Pop %']]"
   ]
  },
  {
   "cell_type": "code",
   "execution_count": 71,
   "metadata": {},
   "outputs": [],
   "source": [
    "y1=train_copy[\"ConfirmedCases\"] #Confirmed Case\n",
    "y2=train_copy[\"Fatalities\"]     #Fatalities"
   ]
  },
  {
   "cell_type": "code",
   "execution_count": 72,
   "metadata": {},
   "outputs": [],
   "source": [
    "#Confirmed Cases\n",
    "X_train_confirmed, X_test_confirmed, y_train_confirmed, y_test_confirmed = train_test_split(X, y1, test_size = .20, random_state = 42)"
   ]
  },
  {
   "cell_type": "code",
   "execution_count": 73,
   "metadata": {},
   "outputs": [],
   "source": [
    "#scaler = MinMaxScaler()\n",
    "#X_train_confirmed = scaler.fit_transform(X_train_confirmed)\n",
    "#X_test_confirmed = scaler.transform(X_test_confirmed)"
   ]
  },
  {
   "cell_type": "code",
   "execution_count": 74,
   "metadata": {},
   "outputs": [],
   "source": [
    "dt1=DecisionTreeRegressor(criterion=\"friedman_mse\",max_depth=20,random_state=42)"
   ]
  },
  {
   "cell_type": "code",
   "execution_count": 75,
   "metadata": {},
   "outputs": [
    {
     "data": {
      "text/plain": [
       "DecisionTreeRegressor(ccp_alpha=0.0, criterion='friedman_mse', max_depth=20,\n",
       "                      max_features=None, max_leaf_nodes=None,\n",
       "                      min_impurity_decrease=0.0, min_impurity_split=None,\n",
       "                      min_samples_leaf=1, min_samples_split=2,\n",
       "                      min_weight_fraction_leaf=0.0, presort='deprecated',\n",
       "                      random_state=42, splitter='best')"
      ]
     },
     "execution_count": 75,
     "metadata": {},
     "output_type": "execute_result"
    }
   ],
   "source": [
    "dt1.fit(X_train_confirmed, y_train_confirmed)"
   ]
  },
  {
   "cell_type": "code",
   "execution_count": 76,
   "metadata": {},
   "outputs": [],
   "source": [
    "y_pred_dt_confirmed=dt1.predict(X_test_confirmed)"
   ]
  },
  {
   "cell_type": "code",
   "execution_count": 77,
   "metadata": {},
   "outputs": [
    {
     "data": {
      "text/plain": [
       "0.3554352873543635"
      ]
     },
     "execution_count": 77,
     "metadata": {},
     "output_type": "execute_result"
    }
   ],
   "source": [
    "np.sqrt(mean_squared_log_error( y_test_confirmed, y_pred_dt_confirmed ))"
   ]
  },
  {
   "cell_type": "code",
   "execution_count": 78,
   "metadata": {},
   "outputs": [],
   "source": [
    "#Fatalities\n",
    "X_train_fatal, X_test_fatal, y_train_fatal, y_test_fatal = train_test_split(X, y2, test_size = .20, random_state = 42)"
   ]
  },
  {
   "cell_type": "code",
   "execution_count": 79,
   "metadata": {},
   "outputs": [],
   "source": [
    "#scaler1 = MinMaxScaler()\n",
    "#X_train_fatal = scaler1.fit_transform(X_train_fatal)\n",
    "#X_test_fatal = scaler1.transform(X_test_fatal)"
   ]
  },
  {
   "cell_type": "code",
   "execution_count": 80,
   "metadata": {},
   "outputs": [],
   "source": [
    "dt2=DecisionTreeRegressor(criterion=\"friedman_mse\",max_depth=20,random_state=42)"
   ]
  },
  {
   "cell_type": "code",
   "execution_count": 81,
   "metadata": {},
   "outputs": [
    {
     "data": {
      "text/plain": [
       "DecisionTreeRegressor(ccp_alpha=0.0, criterion='friedman_mse', max_depth=20,\n",
       "                      max_features=None, max_leaf_nodes=None,\n",
       "                      min_impurity_decrease=0.0, min_impurity_split=None,\n",
       "                      min_samples_leaf=1, min_samples_split=2,\n",
       "                      min_weight_fraction_leaf=0.0, presort='deprecated',\n",
       "                      random_state=42, splitter='best')"
      ]
     },
     "execution_count": 81,
     "metadata": {},
     "output_type": "execute_result"
    }
   ],
   "source": [
    "dt2.fit(X_train_fatal, y_train_fatal)"
   ]
  },
  {
   "cell_type": "code",
   "execution_count": 82,
   "metadata": {},
   "outputs": [],
   "source": [
    "y_pred_dt_fatal=dt2.predict(X_test_fatal)"
   ]
  },
  {
   "cell_type": "code",
   "execution_count": 83,
   "metadata": {},
   "outputs": [
    {
     "data": {
      "text/plain": [
       "0.19068492594882097"
      ]
     },
     "execution_count": 83,
     "metadata": {},
     "output_type": "execute_result"
    }
   ],
   "source": [
    "np.sqrt(mean_squared_log_error( y_test_fatal, y_pred_dt_fatal ))"
   ]
  },
  {
   "cell_type": "code",
   "execution_count": 84,
   "metadata": {},
   "outputs": [
    {
     "data": {
      "text/html": [
       "<div>\n",
       "<style scoped>\n",
       "    .dataframe tbody tr th:only-of-type {\n",
       "        vertical-align: middle;\n",
       "    }\n",
       "\n",
       "    .dataframe tbody tr th {\n",
       "        vertical-align: top;\n",
       "    }\n",
       "\n",
       "    .dataframe thead th {\n",
       "        text-align: right;\n",
       "    }\n",
       "</style>\n",
       "<table border=\"1\" class=\"dataframe\">\n",
       "  <thead>\n",
       "    <tr style=\"text-align: right;\">\n",
       "      <th></th>\n",
       "      <th>ForecastId</th>\n",
       "      <th>State</th>\n",
       "      <th>Country</th>\n",
       "      <th>Date</th>\n",
       "      <th>Population (2020)</th>\n",
       "      <th>Density</th>\n",
       "      <th>Med. Age</th>\n",
       "      <th>Urban Pop %</th>\n",
       "      <th>day_from_jan_first</th>\n",
       "      <th>Continent</th>\n",
       "    </tr>\n",
       "  </thead>\n",
       "  <tbody>\n",
       "    <tr>\n",
       "      <th>0</th>\n",
       "      <td>1</td>\n",
       "      <td>0</td>\n",
       "      <td>0</td>\n",
       "      <td>20200402</td>\n",
       "      <td>38728504.0</td>\n",
       "      <td>60.0</td>\n",
       "      <td>18</td>\n",
       "      <td>0.25</td>\n",
       "      <td>93</td>\n",
       "      <td>1</td>\n",
       "    </tr>\n",
       "    <tr>\n",
       "      <th>1</th>\n",
       "      <td>2</td>\n",
       "      <td>0</td>\n",
       "      <td>0</td>\n",
       "      <td>20200403</td>\n",
       "      <td>38728504.0</td>\n",
       "      <td>60.0</td>\n",
       "      <td>18</td>\n",
       "      <td>0.25</td>\n",
       "      <td>94</td>\n",
       "      <td>1</td>\n",
       "    </tr>\n",
       "    <tr>\n",
       "      <th>2</th>\n",
       "      <td>3</td>\n",
       "      <td>0</td>\n",
       "      <td>0</td>\n",
       "      <td>20200404</td>\n",
       "      <td>38728504.0</td>\n",
       "      <td>60.0</td>\n",
       "      <td>18</td>\n",
       "      <td>0.25</td>\n",
       "      <td>95</td>\n",
       "      <td>1</td>\n",
       "    </tr>\n",
       "    <tr>\n",
       "      <th>3</th>\n",
       "      <td>4</td>\n",
       "      <td>0</td>\n",
       "      <td>0</td>\n",
       "      <td>20200405</td>\n",
       "      <td>38728504.0</td>\n",
       "      <td>60.0</td>\n",
       "      <td>18</td>\n",
       "      <td>0.25</td>\n",
       "      <td>96</td>\n",
       "      <td>1</td>\n",
       "    </tr>\n",
       "    <tr>\n",
       "      <th>4</th>\n",
       "      <td>5</td>\n",
       "      <td>0</td>\n",
       "      <td>0</td>\n",
       "      <td>20200406</td>\n",
       "      <td>38728504.0</td>\n",
       "      <td>60.0</td>\n",
       "      <td>18</td>\n",
       "      <td>0.25</td>\n",
       "      <td>97</td>\n",
       "      <td>1</td>\n",
       "    </tr>\n",
       "  </tbody>\n",
       "</table>\n",
       "</div>"
      ],
      "text/plain": [
       "   ForecastId  State  Country      Date  Population (2020)  Density  Med. Age  \\\n",
       "0           1      0        0  20200402         38728504.0     60.0        18   \n",
       "1           2      0        0  20200403         38728504.0     60.0        18   \n",
       "2           3      0        0  20200404         38728504.0     60.0        18   \n",
       "3           4      0        0  20200405         38728504.0     60.0        18   \n",
       "4           5      0        0  20200406         38728504.0     60.0        18   \n",
       "\n",
       "   Urban Pop %  day_from_jan_first  Continent  \n",
       "0         0.25                  93          1  \n",
       "1         0.25                  94          1  \n",
       "2         0.25                  95          1  \n",
       "3         0.25                  96          1  \n",
       "4         0.25                  97          1  "
      ]
     },
     "execution_count": 84,
     "metadata": {},
     "output_type": "execute_result"
    }
   ],
   "source": [
    "test_copy.head()"
   ]
  },
  {
   "cell_type": "code",
   "execution_count": 85,
   "metadata": {},
   "outputs": [],
   "source": [
    "X_test=test_copy[['State', 'Country', 'Continent', 'day_from_jan_first','Population (2020)', 'Density', 'Med. Age', 'Urban Pop %']]"
   ]
  },
  {
   "cell_type": "code",
   "execution_count": 86,
   "metadata": {},
   "outputs": [],
   "source": [
    "#scaler2 = MinMaxScaler()\n",
    "#X_test = scaler2.fit_transform(X_test)"
   ]
  },
  {
   "cell_type": "code",
   "execution_count": 87,
   "metadata": {},
   "outputs": [],
   "source": [
    "y_confirmed=dt1.predict(X_test)"
   ]
  },
  {
   "cell_type": "code",
   "execution_count": 88,
   "metadata": {},
   "outputs": [],
   "source": [
    "y_fatal=dt2.predict(X_test)"
   ]
  },
  {
   "cell_type": "code",
   "execution_count": 89,
   "metadata": {},
   "outputs": [],
   "source": [
    "submission=pd.DataFrame({'ForecastId': test_copy[\"ForecastId\"], 'ConfirmedCases': y_confirmed, 'Fatalities': y_fatal})"
   ]
  },
  {
   "cell_type": "code",
   "execution_count": 90,
   "metadata": {},
   "outputs": [
    {
     "data": {
      "text/html": [
       "<div>\n",
       "<style scoped>\n",
       "    .dataframe tbody tr th:only-of-type {\n",
       "        vertical-align: middle;\n",
       "    }\n",
       "\n",
       "    .dataframe tbody tr th {\n",
       "        vertical-align: top;\n",
       "    }\n",
       "\n",
       "    .dataframe thead th {\n",
       "        text-align: right;\n",
       "    }\n",
       "</style>\n",
       "<table border=\"1\" class=\"dataframe\">\n",
       "  <thead>\n",
       "    <tr style=\"text-align: right;\">\n",
       "      <th></th>\n",
       "      <th>ForecastId</th>\n",
       "      <th>ConfirmedCases</th>\n",
       "      <th>Fatalities</th>\n",
       "    </tr>\n",
       "  </thead>\n",
       "  <tbody>\n",
       "    <tr>\n",
       "      <th>0</th>\n",
       "      <td>1</td>\n",
       "      <td>273.0</td>\n",
       "      <td>6.0</td>\n",
       "    </tr>\n",
       "    <tr>\n",
       "      <th>1</th>\n",
       "      <td>2</td>\n",
       "      <td>281.0</td>\n",
       "      <td>6.0</td>\n",
       "    </tr>\n",
       "    <tr>\n",
       "      <th>2</th>\n",
       "      <td>3</td>\n",
       "      <td>299.0</td>\n",
       "      <td>7.0</td>\n",
       "    </tr>\n",
       "    <tr>\n",
       "      <th>3</th>\n",
       "      <td>4</td>\n",
       "      <td>349.0</td>\n",
       "      <td>7.0</td>\n",
       "    </tr>\n",
       "    <tr>\n",
       "      <th>4</th>\n",
       "      <td>5</td>\n",
       "      <td>364.0</td>\n",
       "      <td>14.0</td>\n",
       "    </tr>\n",
       "  </tbody>\n",
       "</table>\n",
       "</div>"
      ],
      "text/plain": [
       "   ForecastId  ConfirmedCases  Fatalities\n",
       "0           1           273.0         6.0\n",
       "1           2           281.0         6.0\n",
       "2           3           299.0         7.0\n",
       "3           4           349.0         7.0\n",
       "4           5           364.0        14.0"
      ]
     },
     "execution_count": 90,
     "metadata": {},
     "output_type": "execute_result"
    }
   ],
   "source": [
    "submission.head()"
   ]
  },
  {
   "cell_type": "code",
   "execution_count": 91,
   "metadata": {},
   "outputs": [],
   "source": [
    "submission.to_csv('submission.csv', index=False)"
   ]
  }
 ],
 "metadata": {
  "kernelspec": {
   "display_name": "Python 3",
   "language": "python",
   "name": "python3"
  },
  "language_info": {
   "codemirror_mode": {
    "name": "ipython",
    "version": 3
   },
   "file_extension": ".py",
   "mimetype": "text/x-python",
   "name": "python",
   "nbconvert_exporter": "python",
   "pygments_lexer": "ipython3",
   "version": "3.6.6"
  }
 },
 "nbformat": 4,
 "nbformat_minor": 4
}
